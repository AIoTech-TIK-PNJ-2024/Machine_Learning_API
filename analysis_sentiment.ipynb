{
  "cells": [
    {
      "cell_type": "code",
      "execution_count": 1,
      "metadata": {},
      "outputs": [
        {
          "name": "stdout",
          "output_type": "stream",
          "text": [
            "Requirement already satisfied: Sastrawi in c:\\users\\limdaenery93\\anaconda3\\lib\\site-packages (1.0.1)Note: you may need to restart the kernel to use updated packages.\n",
            "\n"
          ]
        },
        {
          "name": "stderr",
          "output_type": "stream",
          "text": [
            "WARNING: Ignoring invalid distribution -lask (c:\\users\\limdaenery93\\anaconda3\\lib\\site-packages)\n",
            "WARNING: Ignoring invalid distribution -ygments (c:\\users\\limdaenery93\\anaconda3\\lib\\site-packages)\n",
            "WARNING: Ignoring invalid distribution -lask (c:\\users\\limdaenery93\\anaconda3\\lib\\site-packages)\n",
            "WARNING: Ignoring invalid distribution -ygments (c:\\users\\limdaenery93\\anaconda3\\lib\\site-packages)\n"
          ]
        }
      ],
      "source": [
        "%pip install Sastrawi"
      ]
    },
    {
      "cell_type": "code",
      "execution_count": 1,
      "metadata": {},
      "outputs": [],
      "source": [
        "import nltk"
      ]
    },
    {
      "cell_type": "code",
      "execution_count": 2,
      "metadata": {},
      "outputs": [
        {
          "name": "stderr",
          "output_type": "stream",
          "text": [
            "[nltk_data] Downloading package stopwords to\n",
            "[nltk_data]     C:\\Users\\LimDaenery93\\AppData\\Roaming\\nltk_data...\n",
            "[nltk_data]   Package stopwords is already up-to-date!\n"
          ]
        },
        {
          "data": {
            "text/plain": [
              "True"
            ]
          },
          "execution_count": 2,
          "metadata": {},
          "output_type": "execute_result"
        }
      ],
      "source": [
        "nltk.download('stopwords')"
      ]
    },
    {
      "cell_type": "code",
      "execution_count": 3,
      "metadata": {},
      "outputs": [],
      "source": [
        "import pandas as pd\n",
        "import matplotlib.pyplot as plt\n",
        "import re\n",
        "import joblib\n",
        "from nltk.tokenize import word_tokenize\n",
        "from nltk.corpus import stopwords\n",
        "from Sastrawi.Stemmer.StemmerFactory import StemmerFactory\n",
        "from sklearn.feature_extraction.text import TfidfVectorizer\n",
        "from sklearn import svm\n",
        "from sklearn.model_selection import train_test_split\n",
        "from sklearn.metrics import accuracy_score, classification_report\n",
        "from sklearn.metrics import accuracy_score, precision_score, recall_score, f1_score"
      ]
    },
    {
      "cell_type": "code",
      "execution_count": 4,
      "metadata": {},
      "outputs": [
        {
          "data": {
            "text/html": [
              "<div>\n",
              "<style scoped>\n",
              "    .dataframe tbody tr th:only-of-type {\n",
              "        vertical-align: middle;\n",
              "    }\n",
              "\n",
              "    .dataframe tbody tr th {\n",
              "        vertical-align: top;\n",
              "    }\n",
              "\n",
              "    .dataframe thead th {\n",
              "        text-align: right;\n",
              "    }\n",
              "</style>\n",
              "<table border=\"1\" class=\"dataframe\">\n",
              "  <thead>\n",
              "    <tr style=\"text-align: right;\">\n",
              "      <th></th>\n",
              "      <th>review</th>\n",
              "      <th>sentiment</th>\n",
              "    </tr>\n",
              "  </thead>\n",
              "  <tbody>\n",
              "    <tr>\n",
              "      <th>0</th>\n",
              "      <td>Kualitas smart locker ini sangat buruk, sering...</td>\n",
              "      <td>Negative</td>\n",
              "    </tr>\n",
              "    <tr>\n",
              "      <th>1</th>\n",
              "      <td>Desain smart locker sangat modern dan menarik.</td>\n",
              "      <td>Positive</td>\n",
              "    </tr>\n",
              "    <tr>\n",
              "      <th>2</th>\n",
              "      <td>Smart locker ini memiliki fitur yang cukup sta...</td>\n",
              "      <td>Neutral</td>\n",
              "    </tr>\n",
              "    <tr>\n",
              "      <th>3</th>\n",
              "      <td>Keamanan smart locker ini sangat tinggi, saya ...</td>\n",
              "      <td>Positive</td>\n",
              "    </tr>\n",
              "    <tr>\n",
              "      <th>4</th>\n",
              "      <td>Smart locker ini sering tidak bisa diakses saa...</td>\n",
              "      <td>Negative</td>\n",
              "    </tr>\n",
              "    <tr>\n",
              "      <th>...</th>\n",
              "      <td>...</td>\n",
              "      <td>...</td>\n",
              "    </tr>\n",
              "    <tr>\n",
              "      <th>1957</th>\n",
              "      <td>Kinerja face recognition-nya enggak bagus</td>\n",
              "      <td>Negative</td>\n",
              "    </tr>\n",
              "    <tr>\n",
              "      <th>1958</th>\n",
              "      <td>Kinerja face recognition-nya enggak jelek dan ...</td>\n",
              "      <td>Neutral</td>\n",
              "    </tr>\n",
              "    <tr>\n",
              "      <th>1959</th>\n",
              "      <td>Efisiensi lokernya enggak jelek</td>\n",
              "      <td>Positive</td>\n",
              "    </tr>\n",
              "    <tr>\n",
              "      <th>1960</th>\n",
              "      <td>Efisiensi lokernya enggak bagus</td>\n",
              "      <td>Negative</td>\n",
              "    </tr>\n",
              "    <tr>\n",
              "      <th>1961</th>\n",
              "      <td>Efisiensi lokernya enggak jelek dan enggak bagus</td>\n",
              "      <td>Neutral</td>\n",
              "    </tr>\n",
              "  </tbody>\n",
              "</table>\n",
              "<p>1962 rows × 2 columns</p>\n",
              "</div>"
            ],
            "text/plain": [
              "                                                 review sentiment\n",
              "0     Kualitas smart locker ini sangat buruk, sering...  Negative\n",
              "1        Desain smart locker sangat modern dan menarik.  Positive\n",
              "2     Smart locker ini memiliki fitur yang cukup sta...   Neutral\n",
              "3     Keamanan smart locker ini sangat tinggi, saya ...  Positive\n",
              "4     Smart locker ini sering tidak bisa diakses saa...  Negative\n",
              "...                                                 ...       ...\n",
              "1957          Kinerja face recognition-nya enggak bagus  Negative\n",
              "1958  Kinerja face recognition-nya enggak jelek dan ...   Neutral\n",
              "1959                    Efisiensi lokernya enggak jelek  Positive\n",
              "1960                    Efisiensi lokernya enggak bagus  Negative\n",
              "1961   Efisiensi lokernya enggak jelek dan enggak bagus   Neutral\n",
              "\n",
              "[1962 rows x 2 columns]"
            ]
          },
          "execution_count": 4,
          "metadata": {},
          "output_type": "execute_result"
        }
      ],
      "source": [
        "df = pd.read_csv('smart_locker_reviews.csv', sep=\";\")\n",
        "df"
      ]
    },
    {
      "cell_type": "markdown",
      "metadata": {},
      "source": [
        "### Case Folding"
      ]
    },
    {
      "cell_type": "code",
      "execution_count": 5,
      "metadata": {},
      "outputs": [
        {
          "data": {
            "text/plain": [
              "0       kualitas smart locker ini sangat buruk, sering...\n",
              "1          desain smart locker sangat modern dan menarik.\n",
              "2       smart locker ini memiliki fitur yang cukup sta...\n",
              "3       keamanan smart locker ini sangat tinggi, saya ...\n",
              "4       smart locker ini sering tidak bisa diakses saa...\n",
              "                              ...                        \n",
              "1957            kinerja face recognition-nya enggak bagus\n",
              "1958    kinerja face recognition-nya enggak jelek dan ...\n",
              "1959                      efisiensi lokernya enggak jelek\n",
              "1960                      efisiensi lokernya enggak bagus\n",
              "1961     efisiensi lokernya enggak jelek dan enggak bagus\n",
              "Name: review, Length: 1962, dtype: object"
            ]
          },
          "execution_count": 5,
          "metadata": {},
          "output_type": "execute_result"
        }
      ],
      "source": [
        "df['review'] = df['review'].astype(str).str.lower()\n",
        "df['review']"
      ]
    },
    {
      "cell_type": "markdown",
      "metadata": {},
      "source": [
        "### Cleansing"
      ]
    },
    {
      "cell_type": "code",
      "execution_count": 6,
      "metadata": {},
      "outputs": [
        {
          "data": {
            "text/plain": [
              "0       kualitas smart locker ini sangat buruk sering ...\n",
              "1           desain smart locker sangat modern dan menarik\n",
              "2       smart locker ini memiliki fitur yang cukup sta...\n",
              "3       keamanan smart locker ini sangat tinggi saya m...\n",
              "4       smart locker ini sering tidak bisa diakses saa...\n",
              "                              ...                        \n",
              "1957             kinerja face recognitionnya enggak bagus\n",
              "1958    kinerja face recognitionnya enggak jelek dan e...\n",
              "1959                      efisiensi lokernya enggak jelek\n",
              "1960                      efisiensi lokernya enggak bagus\n",
              "1961     efisiensi lokernya enggak jelek dan enggak bagus\n",
              "Name: cleaned_review, Length: 1962, dtype: object"
            ]
          },
          "execution_count": 6,
          "metadata": {},
          "output_type": "execute_result"
        }
      ],
      "source": [
        "def clean_text(text):\n",
        "    # Menghilangkan karakter spesial dan tanda baca.\n",
        "    text = re.sub(r'[^\\w\\s]', '', text)\n",
        "    # Menghilangkan angka.\n",
        "    text = re.sub(r'\\d+', '', text)\n",
        "    # Menghilangkan spasi ganda\n",
        "    text = re.sub(r'\\s+', ' ', text).strip()\n",
        "    return text\n",
        "\n",
        "df['cleaned_review'] = df['review'].apply(clean_text)\n",
        "df['cleaned_review']"
      ]
    },
    {
      "cell_type": "markdown",
      "metadata": {},
      "source": [
        "### Spelling Normalization"
      ]
    },
    {
      "cell_type": "code",
      "execution_count": 7,
      "metadata": {},
      "outputs": [
        {
          "data": {
            "text/plain": [
              "0       kualitas smart locker ini sangat buruk sering ...\n",
              "1           desain smart locker sangat modern dan menarik\n",
              "2       smart locker ini memiliki fitur yang cukup sta...\n",
              "3       keamanan smart locker ini sangat tinggi saya m...\n",
              "4       smart locker ini sering tidak bisa diakses saa...\n",
              "                              ...                        \n",
              "1957              kinerja face recognitionnya tidak bagus\n",
              "1958    kinerja face recognitionnya tidak jelek dan ti...\n",
              "1959                       efisiensi lokernya tidak jelek\n",
              "1960                       efisiensi lokernya tidak bagus\n",
              "1961       efisiensi lokernya tidak jelek dan tidak bagus\n",
              "Name: normalized_review, Length: 1962, dtype: object"
            ]
          },
          "execution_count": 7,
          "metadata": {},
          "output_type": "execute_result"
        }
      ],
      "source": [
        "import json\n",
        "\n",
        "def read_normalization_dict(file_path):\n",
        "    with open(file_path, 'r') as file:\n",
        "        normalization_dict = json.load(file)\n",
        "    return normalization_dict\n",
        "\n",
        "normalization_dict = read_normalization_dict('combined_slang_words.json')\n",
        "\n",
        "def normalize_text(text, normalization_dict):\n",
        "    words = text.split()\n",
        "    normalized_words = [normalization_dict.get(word, word) for word in words]\n",
        "    return ' '.join(normalized_words)\n",
        "\n",
        "df['normalized_review'] = df['cleaned_review'].apply(lambda x: normalize_text(x, normalization_dict))\n",
        "df['normalized_review']"
      ]
    },
    {
      "cell_type": "markdown",
      "metadata": {},
      "source": [
        "### Tokenizing"
      ]
    },
    {
      "cell_type": "code",
      "execution_count": 8,
      "metadata": {},
      "outputs": [
        {
          "data": {
            "text/plain": [
              "0       [kualitas, smart, locker, ini, sangat, buruk, ...\n",
              "1       [desain, smart, locker, sangat, modern, dan, m...\n",
              "2       [smart, locker, ini, memiliki, fitur, yang, cu...\n",
              "3       [keamanan, smart, locker, ini, sangat, tinggi,...\n",
              "4       [smart, locker, ini, sering, tidak, bisa, diak...\n",
              "                              ...                        \n",
              "1957        [kinerja, face, recognitionnya, tidak, bagus]\n",
              "1958    [kinerja, face, recognitionnya, tidak, jelek, ...\n",
              "1959                  [efisiensi, lokernya, tidak, jelek]\n",
              "1960                  [efisiensi, lokernya, tidak, bagus]\n",
              "1961    [efisiensi, lokernya, tidak, jelek, dan, tidak...\n",
              "Name: tokens, Length: 1962, dtype: object"
            ]
          },
          "execution_count": 8,
          "metadata": {},
          "output_type": "execute_result"
        }
      ],
      "source": [
        "df['tokens'] = df['normalized_review'].apply(word_tokenize)\n",
        "df['tokens']"
      ]
    },
    {
      "cell_type": "markdown",
      "metadata": {},
      "source": [
        "### Stopword Removal"
      ]
    },
    {
      "cell_type": "code",
      "execution_count": 9,
      "metadata": {},
      "outputs": [
        {
          "data": {
            "text/plain": [
              "0          [kualitas, smart, locker, buruk, rusak, tidak]\n",
              "1                [desain, smart, locker, modern, menarik]\n",
              "2               [smart, locker, memiliki, fitur, standar]\n",
              "3           [keamanan, smart, locker, barangbarang, aman]\n",
              "4             [smart, locker, tidak, diakses, dibutuhkan]\n",
              "                              ...                        \n",
              "1957        [kinerja, face, recognitionnya, tidak, bagus]\n",
              "1958    [kinerja, face, recognitionnya, tidak, jelek, ...\n",
              "1959                  [efisiensi, lokernya, tidak, jelek]\n",
              "1960                  [efisiensi, lokernya, tidak, bagus]\n",
              "1961    [efisiensi, lokernya, tidak, jelek, tidak, bagus]\n",
              "Name: tokens, Length: 1962, dtype: object"
            ]
          },
          "execution_count": 9,
          "metadata": {},
          "output_type": "execute_result"
        }
      ],
      "source": [
        "stop_words = set(stopwords.words('indonesian'))\n",
        "stop_words.discard(\"tidak\")\n",
        "\n",
        "def remove_stopwords(text):\n",
        "    return [word for word in text if word not in stop_words]\n",
        "\n",
        "df['tokens'] = df['tokens'].apply(remove_stopwords)\n",
        "df['tokens']"
      ]
    },
    {
      "cell_type": "markdown",
      "metadata": {},
      "source": [
        "### Stemming"
      ]
    },
    {
      "cell_type": "code",
      "execution_count": 10,
      "metadata": {},
      "outputs": [
        {
          "data": {
            "text/plain": [
              "0                 kualitas smart locker buruk rusak tidak\n",
              "1                        desain smart locker modern tarik\n",
              "2                        smart locker milik fitur standar\n",
              "3                     aman smart locker barangbarang aman\n",
              "4                          smart locker tidak akses butuh\n",
              "                              ...                        \n",
              "1957                kerja face recognitionnya tidak bagus\n",
              "1958    kerja face recognitionnya tidak jelek tidak bagus\n",
              "1959                       efisiensi lokernya tidak jelek\n",
              "1960                       efisiensi lokernya tidak bagus\n",
              "1961           efisiensi lokernya tidak jelek tidak bagus\n",
              "Name: processed_review, Length: 1962, dtype: object"
            ]
          },
          "execution_count": 10,
          "metadata": {},
          "output_type": "execute_result"
        }
      ],
      "source": [
        "factory = StemmerFactory()\n",
        "stemmer = factory.create_stemmer()\n",
        "\n",
        "def stem_tokenizer(text):\n",
        "    return [stemmer.stem(word) for word in text]\n",
        "\n",
        "df['tokens'] = df['tokens'].apply(stem_tokenizer)\n",
        "df['processed_review'] = df['tokens'].apply(lambda x: ' '.join(x))\n",
        "df['processed_review']"
      ]
    },
    {
      "cell_type": "markdown",
      "metadata": {},
      "source": [
        "### Pembobotan TF-IDF"
      ]
    },
    {
      "cell_type": "code",
      "execution_count": 33,
      "metadata": {},
      "outputs": [],
      "source": [
        "tfidf_vectorizer = TfidfVectorizer(max_df=0.6, min_df=1, ngram_range=(1, 2))\n",
        "tfidf_matrix = tfidf_vectorizer.fit_transform(df['processed_review'])"
      ]
    },
    {
      "cell_type": "code",
      "execution_count": 34,
      "metadata": {},
      "outputs": [
        {
          "name": "stdout",
          "output_type": "stream",
          "text": [
            "Kata: adaptasi, Nilai IDF: 7.889082013716516\n",
            "Kata: akses antri, Nilai IDF: 7.889082013716516\n",
            "Kata: akses efisien, Nilai IDF: 7.889082013716516\n",
            "Kata: akses gampang, Nilai IDF: 7.889082013716516\n",
            "Kata: akses kali, Nilai IDF: 7.889082013716516\n",
            "Kata: akses kendala, Nilai IDF: 7.889082013716516\n",
            "Kata: akses kesel, Nilai IDF: 7.889082013716516\n",
            "Kata: akses kunci, Nilai IDF: 7.889082013716516\n",
            "Kata: akses modern, Nilai IDF: 7.889082013716516\n",
            "Kata: akses ngecewain, Nilai IDF: 7.889082013716516\n"
          ]
        }
      ],
      "source": [
        "# Menampilkan 10 kata dengan nilai IDF tertinggi\n",
        "freqs = tfidf_matrix.sum(axis=0)\n",
        "idf_values = tfidf_vectorizer.idf_\n",
        "word_idf = dict(zip(tfidf_vectorizer.get_feature_names_out(), idf_values))\n",
        "\n",
        "top_idf_words = sorted(word_idf.items(), key=lambda x: x[1], reverse=True)[:10]\n",
        "for word, idf in top_idf_words:\n",
        "    print(f'Kata: {word}, Nilai IDF: {idf}')"
      ]
    },
    {
      "cell_type": "markdown",
      "metadata": {},
      "source": [
        "### klasifikasi SVM"
      ]
    },
    {
      "cell_type": "code",
      "execution_count": 35,
      "metadata": {},
      "outputs": [
        {
          "name": "stdout",
          "output_type": "stream",
          "text": [
            "Accuracy : 0.8651399491094147\n"
          ]
        }
      ],
      "source": [
        "X_train, X_test, y_train, y_test = train_test_split(tfidf_matrix, df['sentiment'], test_size=0.2, random_state=42)\n",
        "\n",
        "model = svm.SVC(C=2, kernel='rbf', gamma=0.5)\n",
        "model.fit(X_train, y_train)\n",
        "print(f\"Accuracy : {model.score(X_test, y_test)}\")"
      ]
    },
    {
      "cell_type": "code",
      "execution_count": 36,
      "metadata": {},
      "outputs": [
        {
          "data": {
            "text/plain": [
              "array(['Positive', 'Negative', 'Neutral', 'Negative', 'Negative',\n",
              "       'Positive', 'Negative', 'Neutral', 'Neutral', 'Positive',\n",
              "       'Neutral', 'Negative', 'Negative', 'Positive', 'Positive',\n",
              "       'Neutral', 'Negative', 'Neutral', 'Neutral', 'Negative',\n",
              "       'Positive', 'Neutral', 'Neutral', 'Negative', 'Negative',\n",
              "       'Positive', 'Positive', 'Neutral', 'Negative', 'Negative',\n",
              "       'Negative', 'Positive', 'Positive', 'Positive', 'Positive',\n",
              "       'Negative', 'Neutral', 'Positive', 'Neutral', 'Positive',\n",
              "       'Neutral', 'Negative', 'Negative', 'Neutral', 'Negative',\n",
              "       'Positive', 'Negative', 'Positive', 'Positive', 'Neutral',\n",
              "       'Neutral', 'Negative', 'Negative', 'Negative', 'Positive',\n",
              "       'Positive', 'Neutral', 'Positive', 'Neutral', 'Positive',\n",
              "       'Positive', 'Negative', 'Neutral', 'Neutral', 'Neutral',\n",
              "       'Positive', 'Positive', 'Neutral', 'Neutral', 'Negative',\n",
              "       'Negative', 'Positive', 'Negative', 'Positive', 'Positive',\n",
              "       'Negative', 'Negative', 'Positive', 'Positive', 'Positive',\n",
              "       'Neutral', 'Positive', 'Neutral', 'Neutral', 'Negative',\n",
              "       'Positive', 'Positive', 'Positive', 'Negative', 'Positive',\n",
              "       'Positive', 'Neutral', 'Neutral', 'Negative', 'Positive',\n",
              "       'Negative', 'Negative', 'Negative', 'Positive', 'Positive',\n",
              "       'Negative', 'Neutral', 'Positive', 'Positive', 'Neutral',\n",
              "       'Negative', 'Negative', 'Neutral', 'Negative', 'Negative',\n",
              "       'Neutral', 'Positive', 'Negative', 'Positive', 'Positive',\n",
              "       'Positive', 'Neutral', 'Negative', 'Positive', 'Negative',\n",
              "       'Neutral', 'Positive', 'Positive', 'Negative', 'Positive',\n",
              "       'Neutral', 'Positive', 'Neutral', 'Negative', 'Neutral',\n",
              "       'Positive', 'Negative', 'Neutral', 'Positive', 'Neutral',\n",
              "       'Neutral', 'Neutral', 'Negative', 'Positive', 'Neutral',\n",
              "       'Positive', 'Negative', 'Positive', 'Neutral', 'Neutral',\n",
              "       'Positive', 'Positive', 'Neutral', 'Neutral', 'Neutral',\n",
              "       'Positive', 'Neutral', 'Negative', 'Positive', 'Negative',\n",
              "       'Positive', 'Positive', 'Neutral', 'Positive', 'Positive',\n",
              "       'Positive', 'Neutral', 'Negative', 'Neutral', 'Negative',\n",
              "       'Positive', 'Negative', 'Negative', 'Neutral', 'Negative',\n",
              "       'Positive', 'Negative', 'Positive', 'Negative', 'Neutral',\n",
              "       'Negative', 'Neutral', 'Negative', 'Neutral', 'Neutral',\n",
              "       'Negative', 'Positive', 'Negative', 'Positive', 'Positive',\n",
              "       'Positive', 'Positive', 'Positive', 'Neutral', 'Negative',\n",
              "       'Neutral', 'Positive', 'Neutral', 'Positive', 'Positive',\n",
              "       'Negative', 'Positive', 'Negative', 'Negative', 'Negative',\n",
              "       'Positive', 'Positive', 'Neutral', 'Neutral', 'Negative',\n",
              "       'Negative', 'Positive', 'Neutral', 'Neutral', 'Positive',\n",
              "       'Neutral', 'Positive', 'Neutral', 'Neutral', 'Negative',\n",
              "       'Positive', 'Negative', 'Neutral', 'Negative', 'Positive',\n",
              "       'Neutral', 'Neutral', 'Negative', 'Negative', 'Negative',\n",
              "       'Positive', 'Negative', 'Neutral', 'Positive', 'Positive',\n",
              "       'Negative', 'Neutral', 'Positive', 'Negative', 'Negative',\n",
              "       'Negative', 'Negative', 'Negative', 'Positive', 'Neutral',\n",
              "       'Negative', 'Positive', 'Neutral', 'Neutral', 'Neutral', 'Neutral',\n",
              "       'Positive', 'Positive', 'Neutral', 'Positive', 'Neutral',\n",
              "       'Neutral', 'Positive', 'Positive', 'Negative', 'Positive',\n",
              "       'Negative', 'Negative', 'Positive', 'Negative', 'Negative',\n",
              "       'Neutral', 'Positive', 'Neutral', 'Negative', 'Positive',\n",
              "       'Negative', 'Neutral', 'Neutral', 'Neutral', 'Neutral', 'Negative',\n",
              "       'Positive', 'Neutral', 'Neutral', 'Neutral', 'Positive',\n",
              "       'Negative', 'Neutral', 'Neutral', 'Neutral', 'Positive', 'Neutral',\n",
              "       'Positive', 'Positive', 'Negative', 'Neutral', 'Positive',\n",
              "       'Neutral', 'Negative', 'Neutral', 'Neutral', 'Negative', 'Neutral',\n",
              "       'Negative', 'Positive', 'Negative', 'Neutral', 'Neutral',\n",
              "       'Negative', 'Positive', 'Neutral', 'Positive', 'Negative',\n",
              "       'Negative', 'Neutral', 'Negative', 'Positive', 'Neutral',\n",
              "       'Positive', 'Positive', 'Neutral', 'Positive', 'Neutral',\n",
              "       'Neutral', 'Neutral', 'Positive', 'Negative', 'Negative',\n",
              "       'Positive', 'Negative', 'Negative', 'Positive', 'Neutral',\n",
              "       'Negative', 'Negative', 'Neutral', 'Positive', 'Positive',\n",
              "       'Neutral', 'Negative', 'Negative', 'Positive', 'Positive',\n",
              "       'Negative', 'Negative', 'Positive', 'Neutral', 'Negative',\n",
              "       'Negative', 'Positive', 'Negative', 'Positive', 'Neutral',\n",
              "       'Neutral', 'Positive', 'Positive', 'Positive', 'Neutral',\n",
              "       'Neutral', 'Positive', 'Neutral', 'Negative', 'Positive',\n",
              "       'Negative', 'Negative', 'Positive', 'Positive', 'Positive',\n",
              "       'Positive', 'Positive', 'Neutral', 'Negative', 'Positive',\n",
              "       'Negative', 'Negative', 'Neutral', 'Neutral', 'Positive',\n",
              "       'Positive', 'Neutral', 'Positive', 'Neutral', 'Negative',\n",
              "       'Negative', 'Negative', 'Positive', 'Positive', 'Neutral',\n",
              "       'Positive', 'Neutral', 'Neutral', 'Neutral', 'Positive', 'Neutral',\n",
              "       'Positive', 'Negative', 'Neutral', 'Negative', 'Positive',\n",
              "       'Positive', 'Negative', 'Positive'], dtype=object)"
            ]
          },
          "execution_count": 36,
          "metadata": {},
          "output_type": "execute_result"
        }
      ],
      "source": [
        "pred = model.predict(X_test)\n",
        "pred"
      ]
    },
    {
      "cell_type": "code",
      "execution_count": 37,
      "metadata": {},
      "outputs": [
        {
          "data": {
            "image/png": "[encoded data removed]",
            "text/plain": [
              "<Figure size 640x480 with 1 Axes>"
            ]
          },
          "metadata": {},
          "output_type": "display_data"
        }
      ],
      "source": [
        "pred = model.predict(X_test)\n",
        "acc_score = accuracy_score(y_test, pred) \n",
        "pre_score = precision_score(y_test, pred, average='weighted')\n",
        "rec_score = recall_score(y_test, pred, average='weighted')\n",
        "f_score = f1_score(y_test, pred, average='weighted')\n",
        "\n",
        "scores = {\n",
        "    'Accuracy': acc_score,\n",
        "    'Precision': pre_score,\n",
        "    'Recall': rec_score, \n",
        "    'F1-Score': f_score\n",
        "}\n",
        "\n",
        "eval_df = pd.DataFrame.from_dict(scores, orient='index', columns=['Score']) \n",
        "\n",
        "eval_df['Score'].plot(kind='line', marker='o', color='blue') \n",
        "\n",
        "plt.title('Hasil Evaluasi Model')\n",
        "plt.xlabel('Metrik') \n",
        "plt.ylabel('Nilai Rata-Rata')\n",
        "plt.grid(True) \n",
        "\n",
        "plt.show()"
      ]
    },
    {
      "cell_type": "code",
      "execution_count": 38,
      "metadata": {},
      "outputs": [
        {
          "name": "stdout",
          "output_type": "stream",
          "text": [
            "Training Accuracy: 0.975780752071383\n",
            "Training Classification Report:\n",
            "              precision    recall  f1-score   support\n",
            "\n",
            "    Negative       0.97      0.98      0.97       517\n",
            "     Neutral       0.99      0.95      0.97       518\n",
            "    Positive       0.97      1.00      0.99       534\n",
            "\n",
            "    accuracy                           0.98      1569\n",
            "   macro avg       0.98      0.98      0.98      1569\n",
            "weighted avg       0.98      0.98      0.98      1569\n",
            "\n",
            "Testing Accuracy: 0.8651399491094147\n",
            "Testing Classification Report:\n",
            "              precision    recall  f1-score   support\n",
            "\n",
            "    Negative       0.91      0.82      0.86       137\n",
            "     Neutral       0.89      0.82      0.85       136\n",
            "    Positive       0.81      0.97      0.88       120\n",
            "\n",
            "    accuracy                           0.87       393\n",
            "   macro avg       0.87      0.87      0.87       393\n",
            "weighted avg       0.87      0.87      0.86       393\n",
            "\n"
          ]
        }
      ],
      "source": [
        "# Evaluasi pada training set\n",
        "y_train_pred = model.predict(X_train)\n",
        "train_accuracy = accuracy_score(y_train, y_train_pred)\n",
        "print(\"Training Accuracy:\", train_accuracy)\n",
        "print(\"Training Classification Report:\")\n",
        "print(classification_report(y_train, y_train_pred))\n",
        "\n",
        "# Evaluasi pada testing set\n",
        "y_test_pred = model.predict(X_test)\n",
        "test_accuracy = accuracy_score(y_test, y_test_pred)\n",
        "print(\"Testing Accuracy:\", test_accuracy)\n",
        "print(\"Testing Classification Report:\")\n",
        "print(classification_report(y_test, y_test_pred))"
      ]
    },
    {
      "cell_type": "code",
      "execution_count": 39,
      "metadata": {},
      "outputs": [
        {
          "name": "stdout",
          "output_type": "stream",
          "text": [
            "Review: lokernya gk jelek\n",
            "Predicted Sentiment: Positive\n",
            "\n",
            "Review: lokernya tidak bagus\n",
            "Predicted Sentiment: Negative\n",
            "\n",
            "Review: lokernya gk bagus dan gk jelek\n",
            "Predicted Sentiment: Neutral\n",
            "\n",
            "Review: bagus banget\n",
            "Predicted Sentiment: Positive\n",
            "\n",
            "Review: jelek\n",
            "Predicted Sentiment: Neutral\n",
            "\n"
          ]
        }
      ],
      "source": [
        "def preprocess_review(review):\n",
        "    review = review.lower()\n",
        "    clean_review = clean_text(review)\n",
        "    normalize_review = normalize_text(clean_review, normalization_dict)\n",
        "    tokens = word_tokenize(normalize_review)\n",
        "    tokens = remove_stopwords(tokens)\n",
        "    tokens = stem_tokenizer(tokens)\n",
        "    return ' '.join(tokens)\n",
        "\n",
        "def predict_sentiment(review):\n",
        "    preprocessed_review = preprocess_review(review)\n",
        "    tfidf_review = tfidf_vectorizer.transform([preprocessed_review])\n",
        "    sentiment = model.predict(tfidf_review)\n",
        "    return sentiment[0]\n",
        "\n",
        "new_reviews = [\n",
        "    \"lokernya gk jelek\",\n",
        "    \"lokernya tidak bagus\",\n",
        "    \"lokernya gk bagus dan gk jelek\",\n",
        "    \"bagus banget\",\n",
        "    \"jelek\"\n",
        "]\n",
        "\n",
        "for review in new_reviews:\n",
        "    sentiment = predict_sentiment(review)\n",
        "    print(f\"Review: {review}\\nPredicted Sentiment: {sentiment}\\n\")"
      ]
    },
    {
      "cell_type": "code",
      "execution_count": 42,
      "metadata": {},
      "outputs": [
        {
          "data": {
            "image/png": "[encoded data removed]",
            "text/plain": [
              "<Figure size 640x480 with 1 Axes>"
            ]
          },
          "metadata": {},
          "output_type": "display_data"
        }
      ],
      "source": [
        "import matplotlib.pyplot as plt\n",
        "import numpy as np\n",
        "from sklearn.model_selection import learning_curve\n",
        "\n",
        "def plot_learning_curve(estimator, X, y, cv=None, train_sizes=np.linspace(0.1, 1.0, 10)):\n",
        "    train_scores, test_scores = [], []\n",
        "    for train_size in train_sizes:\n",
        "        _, train_score, test_score = learning_curve(estimator, X, y, cv=cv, train_sizes=[train_size])\n",
        "        train_scores.append(train_score.mean())\n",
        "        test_scores.append(test_score.mean())\n",
        "    plt.plot(train_sizes, train_scores, label='Training Score', marker='o')\n",
        "    plt.plot(train_sizes, test_scores, label='Testing Score', marker='x')\n",
        "    plt.title('Learning Curve')\n",
        "    plt.xlabel('Training Size')\n",
        "    plt.ylabel('Accuracy')\n",
        "    plt.legend()\n",
        "    plt.grid(True)\n",
        "\n",
        "plot_learning_curve(model, X_train, y_train, cv=5)\n",
        "plt.show()"
      ]
    },
    {
      "cell_type": "code",
      "execution_count": 43,
      "metadata": {},
      "outputs": [
        {
          "data": {
            "text/plain": [
              "['tfidf_vectorizer.pkl']"
            ]
          },
          "execution_count": 43,
          "metadata": {},
          "output_type": "execute_result"
        }
      ],
      "source": [
        "joblib.dump(model, 'sentiment.pkl')\n",
        "joblib.dump(tfidf_vectorizer, 'tfidf_vectorizer.pkl')"
      ]
    },
    {
      "cell_type": "markdown",
      "metadata": {},
      "source": [
        "### Find Best Parameters"
      ]
    },
    {
      "cell_type": "code",
      "execution_count": 44,
      "metadata": {},
      "outputs": [],
      "source": [
        "from sklearn.model_selection import GridSearchCV\n",
        "\n",
        "param_grid = {\n",
        "    'tfidf__max_df': [0.5, 0.6, 0.65, 0.7, 0.75, 0.8, 0.85, 0.9],\n",
        "    'tfidf__min_df': [1, 2, 3],\n",
        "    'tfidf__ngram_range': [(1, 1), (1, 2)],\n",
        "    'svm__C': [0.01, 0.1, 1, 1.5, 2, 2.5, 3, 3.5, 10],\n",
        "    'svm__gamma': [0.01, 0.1, 0.5, 1, 10],\n",
        "    'svm__kernel': ['linear', 'rbf']\n",
        "}"
      ]
    },
    {
      "cell_type": "code",
      "execution_count": 45,
      "metadata": {},
      "outputs": [],
      "source": [
        "from sklearn.pipeline import Pipeline\n",
        "\n",
        "pipeline = Pipeline([\n",
        "    ('tfidf', TfidfVectorizer()),\n",
        "    ('svm', svm.SVC())\n",
        "])"
      ]
    },
    {
      "cell_type": "code",
      "execution_count": 46,
      "metadata": {},
      "outputs": [
        {
          "name": "stdout",
          "output_type": "stream",
          "text": [
            "Fitting 5 folds for each of 4320 candidates, totalling 21600 fits\n",
            "Best parameters found:  {'svm__C': 2, 'svm__gamma': 0.5, 'svm__kernel': 'rbf', 'tfidf__max_df': 0.5, 'tfidf__min_df': 1, 'tfidf__ngram_range': (1, 2)}\n",
            "Best cross-validation score:  0.8404333489120839\n"
          ]
        }
      ],
      "source": [
        "grid_search = GridSearchCV(pipeline, param_grid, cv=5, n_jobs=-1, verbose=2)\n",
        "grid_search.fit(df['processed_review'], df['sentiment'])\n",
        "\n",
        "print(\"Best parameters found: \", grid_search.best_params_)\n",
        "print(\"Best cross-validation score: \", grid_search.best_score_)"
      ]
    },
    {
      "cell_type": "code",
      "execution_count": 47,
      "metadata": {},
      "outputs": [],
      "source": [
        "import numpy as np\n",
        "from sklearn.model_selection import RandomizedSearchCV\n",
        "\n",
        "param_dist = {\n",
        "    'tfidf__max_df': [0.7, 0.75, 0.8, 0.85, 0.9, 0.95],\n",
        "    'tfidf__min_df': [1, 2, 3, 4, 5],\n",
        "    'tfidf__ngram_range': [(1, 1), (1, 2)],\n",
        "    'svm__C': np.logspace(-2, 1, 4),\n",
        "    'svm__gamma': np.logspace(-2, 1, 4),\n",
        "    'svm__kernel': ['linear', 'rbf']\n",
        "}"
      ]
    },
    {
      "cell_type": "code",
      "execution_count": 48,
      "metadata": {},
      "outputs": [
        {
          "name": "stdout",
          "output_type": "stream",
          "text": [
            "Fitting 5 folds for each of 1920 candidates, totalling 9600 fits\n"
          ]
        },
        {
          "name": "stderr",
          "output_type": "stream",
          "text": [
            "c:\\Users\\LimDaenery93\\anaconda3\\lib\\site-packages\\sklearn\\model_selection\\_search.py:292: UserWarning: The total space of parameters 1920 is smaller than n_iter=4320. Running 1920 iterations. For exhaustive searches, use GridSearchCV.\n",
            "  warnings.warn(\n"
          ]
        },
        {
          "name": "stdout",
          "output_type": "stream",
          "text": [
            "Best parameters found:  {'tfidf__ngram_range': (1, 2), 'tfidf__min_df': 1, 'tfidf__max_df': 0.7, 'svm__kernel': 'rbf', 'svm__gamma': 0.1, 'svm__C': 10.0}\n",
            "Best cross-validation score:  0.8358402139481746\n"
          ]
        }
      ],
      "source": [
        "random_search = RandomizedSearchCV(pipeline, param_distributions=param_dist, n_iter=4320, cv=5, n_jobs=-1, verbose=2, random_state=42)\n",
        "random_search.fit(df['processed_review'], df['sentiment'])\n",
        "\n",
        "print(\"Best parameters found: \", random_search.best_params_)\n",
        "print(\"Best cross-validation score: \", random_search.best_score_)"
      ]
    }
  ],
  "metadata": {
    "kernelspec": {
      "display_name": "base",
      "language": "python",
      "name": "python3"
    },
    "language_info": {
      "codemirror_mode": {
        "name": "ipython",
        "version": 3
      },
      "file_extension": ".py",
      "mimetype": "text/x-python",
      "name": "python",
      "nbconvert_exporter": "python",
      "pygments_lexer": "ipython3",
      "version": "3.9.19"
    }
  },
  "nbformat": 4,
  "nbformat_minor": 2
}

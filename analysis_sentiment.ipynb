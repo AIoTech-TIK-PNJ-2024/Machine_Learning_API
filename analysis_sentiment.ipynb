{
  "cells": [
    {
<<<<<<< HEAD
     "name": "stdout",
     "output_type": "stream",
     "text": [
      "Requirement already satisfied: Sastrawi in c:\\users\\rafi\\appdata\\local\\programs\\python\\python312\\lib\\site-packages (1.0.1)\n",
      "Note: you may need to restart the kernel to use updated packages.\n"
     ]
    },
    {
     "name": "stderr",
     "output_type": "stream",
     "text": [
      "\n",
      "[notice] A new release of pip is available: 23.2.1 -> 24.1.1\n",
      "[notice] To update, run: python.exe -m pip install --upgrade pip\n"
     ]
    }
   ],
   "source": [
    "%pip install Sastrawi"
   ]
  },
  {
   "cell_type": "code",
   "execution_count": 60,
   "metadata": {},
   "outputs": [],
   "source": [
    "import nltk"
   ]
  },
  {
   "cell_type": "code",
   "execution_count": 62,
   "metadata": {},
   "outputs": [
    {
     "name": "stderr",
     "output_type": "stream",
     "text": [
      "[nltk_data] Downloading package stopwords to\n",
      "[nltk_data]     C:\\Users\\Rafi\\AppData\\Roaming\\nltk_data...\n",
      "[nltk_data]   Package stopwords is already up-to-date!\n"
     ]
    },
    {
     "data": {
      "text/plain": [
       "True"
      ]
     },
     "execution_count": 62,
     "metadata": {},
     "output_type": "execute_result"
    }
   ],
   "source": [
    "nltk.download('stopwords')"
   ]
  },
  {
   "cell_type": "code",
   "execution_count": 78,
   "metadata": {},
   "outputs": [],
   "source": [
    "import pandas as pd\n",
    "import matplotlib.pyplot as plt\n",
    "import re\n",
    "import joblib\n",
    "from nltk.tokenize import word_tokenize\n",
    "from nltk.corpus import stopwords\n",
    "from Sastrawi.Stemmer.StemmerFactory import StemmerFactory\n",
    "from sklearn.feature_extraction.text import TfidfVectorizer\n",
    "from sklearn import svm\n",
    "from sklearn.model_selection import train_test_split\n",
    "from sklearn.metrics import accuracy_score, classification_report\n",
    "from sklearn.metrics import accuracy_score, precision_score, recall_score, f1_score"
   ]
  },
  {
   "cell_type": "code",
   "execution_count": 79,
   "metadata": {},
   "outputs": [],
   "source": [
    "# Load dataset\n",
    "df = pd.read_csv('smart_locker_reviews.csv', sep=\";\")"
   ]
  },
  {
   "cell_type": "code",
   "execution_count": 80,
   "metadata": {},
   "outputs": [
    {
     "data": {
      "text/html": [
       "<div>\n",
       "<style scoped>\n",
       "    .dataframe tbody tr th:only-of-type {\n",
       "        vertical-align: middle;\n",
       "    }\n",
       "\n",
       "    .dataframe tbody tr th {\n",
       "        vertical-align: top;\n",
       "    }\n",
       "\n",
       "    .dataframe thead th {\n",
       "        text-align: right;\n",
       "    }\n",
       "</style>\n",
       "<table border=\"1\" class=\"dataframe\">\n",
       "  <thead>\n",
       "    <tr style=\"text-align: right;\">\n",
       "      <th></th>\n",
       "      <th>review</th>\n",
       "      <th>sentiment</th>\n",
       "    </tr>\n",
       "  </thead>\n",
       "  <tbody>\n",
       "    <tr>\n",
       "      <th>0</th>\n",
       "      <td>Kualitas smart locker ini sangat buruk, sering...</td>\n",
       "      <td>Negative</td>\n",
       "    </tr>\n",
       "    <tr>\n",
       "      <th>1</th>\n",
       "      <td>Desain smart locker sangat modern dan menarik.</td>\n",
       "      <td>Positive</td>\n",
       "    </tr>\n",
       "    <tr>\n",
       "      <th>2</th>\n",
       "      <td>Smart locker ini memiliki fitur yang cukup sta...</td>\n",
       "      <td>Neutral</td>\n",
       "    </tr>\n",
       "    <tr>\n",
       "      <th>3</th>\n",
       "      <td>Keamanan smart locker ini sangat tinggi, saya ...</td>\n",
       "      <td>Positive</td>\n",
       "    </tr>\n",
       "    <tr>\n",
       "      <th>4</th>\n",
       "      <td>Smart locker ini sering tidak bisa diakses saa...</td>\n",
       "      <td>Negative</td>\n",
       "    </tr>\n",
       "    <tr>\n",
       "      <th>...</th>\n",
       "      <td>...</td>\n",
       "      <td>...</td>\n",
       "    </tr>\n",
       "    <tr>\n",
       "      <th>1795</th>\n",
       "      <td>Face recognition sulit digunakan jika kondisi ...</td>\n",
       "      <td>Negative</td>\n",
       "    </tr>\n",
       "    <tr>\n",
       "      <th>1796</th>\n",
       "      <td>RFID pada smart locker ini sangat efisien.</td>\n",
       "      <td>Positive</td>\n",
       "    </tr>\n",
       "    <tr>\n",
       "      <th>1797</th>\n",
       "      <td>Lokernya enggak buruk, tapi kadang ribet</td>\n",
       "      <td>Neutral</td>\n",
       "    </tr>\n",
       "    <tr>\n",
       "      <th>1798</th>\n",
       "      <td>RFID-nya cukup responsif, tapi kadang lambat</td>\n",
       "      <td>Neutral</td>\n",
       "    </tr>\n",
       "    <tr>\n",
       "      <th>1799</th>\n",
       "      <td>Sistemnya cukup simpel, tapi bisa lebih baik</td>\n",
       "      <td>Neutral</td>\n",
       "    </tr>\n",
       "  </tbody>\n",
       "</table>\n",
       "<p>1800 rows × 2 columns</p>\n",
       "</div>"
      ],
      "text/plain": [
       "                                                 review sentiment\n",
       "0     Kualitas smart locker ini sangat buruk, sering...  Negative\n",
       "1        Desain smart locker sangat modern dan menarik.  Positive\n",
       "2     Smart locker ini memiliki fitur yang cukup sta...   Neutral\n",
       "3     Keamanan smart locker ini sangat tinggi, saya ...  Positive\n",
       "4     Smart locker ini sering tidak bisa diakses saa...  Negative\n",
       "...                                                 ...       ...\n",
       "1795  Face recognition sulit digunakan jika kondisi ...  Negative\n",
       "1796         RFID pada smart locker ini sangat efisien.  Positive\n",
       "1797           Lokernya enggak buruk, tapi kadang ribet   Neutral\n",
       "1798       RFID-nya cukup responsif, tapi kadang lambat   Neutral\n",
       "1799       Sistemnya cukup simpel, tapi bisa lebih baik   Neutral\n",
       "\n",
       "[1800 rows x 2 columns]"
      ]
     },
     "execution_count": 80,
     "metadata": {},
     "output_type": "execute_result"
    }
   ],
   "source": [
    "df"
   ]
  },
  {
   "cell_type": "markdown",
   "metadata": {},
   "source": [
    "### Case Folding"
   ]
  },
  {
   "cell_type": "code",
   "execution_count": 81,
   "metadata": {},
   "outputs": [],
   "source": [
    "# Ensure reviews are strings and lowercase\n",
    "df['review'] = df['review'].astype(str).str.lower()"
   ]
  },
  {
   "cell_type": "code",
   "execution_count": 82,
   "metadata": {},
   "outputs": [],
   "source": [
    "def clean_text(text):\n",
    "    # Remove punctuation and special characters\n",
    "    text = re.sub(r'[^\\w\\s]', '', text)\n",
    "    # Remove numbers\n",
    "    text = re.sub(r'\\d+', '', text)\n",
    "    return text\n",
    "\n",
    "df['cleaned_review'] = df['review'].apply(clean_text)"
   ]
  },
  {
   "cell_type": "markdown",
   "metadata": {},
   "source": [
    "### Tokenizing"
   ]
  },
  {
   "cell_type": "code",
   "execution_count": 83,
   "metadata": {},
   "outputs": [],
   "source": [
    "df['tokens'] = df['cleaned_review'].apply(word_tokenize)"
   ]
  },
  {
   "cell_type": "markdown",
   "metadata": {},
   "source": [
    "### Stopword Removal"
   ]
  },
  {
   "cell_type": "code",
   "execution_count": 84,
   "metadata": {},
   "outputs": [],
   "source": [
    "stop_words = set(stopwords.words('indonesian'))\n",
    "\n",
    "def remove_stopwords(text):\n",
    "    return [word for word in text if word not in stop_words]\n",
    "\n",
    "df['tokens'] = df['tokens'].apply(remove_stopwords)"
   ]
  },
  {
   "cell_type": "markdown",
   "metadata": {},
   "source": [
    "### Stemming"
   ]
  },
  {
   "cell_type": "code",
   "execution_count": 85,
   "metadata": {},
   "outputs": [],
   "source": [
    "factory = StemmerFactory()\n",
    "stemmer = factory.create_stemmer()\n",
    "\n",
    "def stem_tokenizer(text):\n",
    "    return [stemmer.stem(word) for word in text]\n",
    "\n",
    "df['tokens'] = df['tokens'].apply(stem_tokenizer)\n",
    "df['processed_review'] = df['tokens'].apply(lambda x: ' '.join(x))"
   ]
  },
  {
   "cell_type": "markdown",
   "metadata": {},
   "source": [
    "### Pembobotan TF-IDF"
   ]
  },
  {
   "cell_type": "code",
   "execution_count": 86,
   "metadata": {},
   "outputs": [],
   "source": [
    "tfidf_vectorizer = TfidfVectorizer(max_df=0.7, min_df=1, ngram_range=(1, 1))\n",
    "tfidf_matrix = tfidf_vectorizer.fit_transform(df['processed_review'])"
   ]
  },
  {
   "cell_type": "code",
   "execution_count": 87,
   "metadata": {},
   "outputs": [
    {
     "name": "stdout",
     "output_type": "stream",
     "text": [
      "Kata: adaptasi, Kemunculan: 7.802950164616011\n",
      "Kata: aktif, Kemunculan: 7.802950164616011\n",
      "Kata: area, Kemunculan: 7.802950164616011\n",
      "Kata: bahan, Kemunculan: 7.802950164616011\n",
      "Kata: beda, Kemunculan: 7.802950164616011\n",
      "Kata: beli, Kemunculan: 7.802950164616011\n",
      "Kata: bener, Kemunculan: 7.802950164616011\n",
      "Kata: benerbener, Kemunculan: 7.802950164616011\n",
      "Kata: biasabiasa, Kemunculan: 7.802950164616011\n",
      "Kata: buangbuang, Kemunculan: 7.802950164616011\n"
     ]
    }
   ],
   "source": [
    "# Menampilkan 10 kata dengan nilai IDF tertinggi\n",
    "freqs = tfidf_matrix.sum(axis=0)\n",
    "idf_values = tfidf_vectorizer.idf_\n",
    "word_idf = dict(zip(tfidf_vectorizer.get_feature_names_out(), idf_values))\n",
    "\n",
    "top_idf_words = sorted(word_idf.items(), key=lambda x: x[1], reverse=True)[:10]\n",
    "for word, idf in top_idf_words:\n",
    "    print(f'Kata: {word}, Kemunculan: {idf}')"
   ]
  },
  {
   "cell_type": "markdown",
   "metadata": {},
   "source": [
    "### klasifikasi SVM"
   ]
  },
  {
   "cell_type": "code",
   "execution_count": 195,
   "metadata": {},
   "outputs": [
    {
     "name": "stdout",
     "output_type": "stream",
     "text": [
      "Accuracy : 0.8888888888888888\n"
     ]
    }
   ],
   "source": [
    "X_train, X_test, y_train, y_test = train_test_split(tfidf_matrix, df['sentiment'], test_size=0.2, random_state=20)\n",
    "\n",
    "model = svm.SVC(C=1, kernel='rbf', gamma=1)\n",
    "model.fit(X_train, y_train)\n",
    "print(f\"Accuracy : {model.score(X_test, y_test)}\")"
   ]
  },
  {
   "cell_type": "code",
   "execution_count": 196,
   "metadata": {},
   "outputs": [
    {
     "data": {
      "text/plain": [
       "array(['Negative', 'Positive', 'Negative', 'Neutral', 'Negative',\n",
       "       'Negative', 'Positive', 'Neutral', 'Negative', 'Positive',\n",
       "       'Positive', 'Neutral', 'Negative', 'Neutral', 'Neutral',\n",
       "       'Negative', 'Negative', 'Positive', 'Positive', 'Neutral',\n",
       "       'Negative', 'Neutral', 'Positive', 'Positive', 'Negative',\n",
       "       'Neutral', 'Negative', 'Negative', 'Neutral', 'Negative',\n",
       "       'Positive', 'Negative', 'Neutral', 'Neutral', 'Positive',\n",
       "       'Negative', 'Negative', 'Negative', 'Neutral', 'Neutral',\n",
       "       'Positive', 'Negative', 'Neutral', 'Positive', 'Positive',\n",
       "       'Negative', 'Negative', 'Negative', 'Negative', 'Positive',\n",
       "       'Negative', 'Neutral', 'Negative', 'Positive', 'Negative',\n",
       "       'Positive', 'Positive', 'Negative', 'Neutral', 'Neutral',\n",
       "       'Positive', 'Positive', 'Neutral', 'Positive', 'Positive',\n",
       "       'Positive', 'Positive', 'Negative', 'Positive', 'Negative',\n",
       "       'Positive', 'Negative', 'Positive', 'Negative', 'Neutral',\n",
       "       'Positive', 'Negative', 'Positive', 'Positive', 'Neutral',\n",
       "       'Neutral', 'Negative', 'Negative', 'Negative', 'Negative',\n",
       "       'Neutral', 'Positive', 'Neutral', 'Positive', 'Positive',\n",
       "       'Negative', 'Negative', 'Neutral', 'Negative', 'Neutral',\n",
       "       'Positive', 'Negative', 'Positive', 'Negative', 'Positive',\n",
       "       'Neutral', 'Negative', 'Negative', 'Neutral', 'Neutral',\n",
       "       'Negative', 'Neutral', 'Positive', 'Negative', 'Neutral',\n",
       "       'Neutral', 'Positive', 'Neutral', 'Positive', 'Negative',\n",
       "       'Positive', 'Negative', 'Neutral', 'Negative', 'Negative',\n",
       "       'Neutral', 'Negative', 'Negative', 'Negative', 'Negative',\n",
       "       'Neutral', 'Positive', 'Neutral', 'Positive', 'Neutral',\n",
       "       'Negative', 'Negative', 'Positive', 'Neutral', 'Positive',\n",
       "       'Negative', 'Positive', 'Positive', 'Negative', 'Positive',\n",
       "       'Neutral', 'Positive', 'Neutral', 'Negative', 'Negative',\n",
       "       'Neutral', 'Negative', 'Positive', 'Neutral', 'Negative',\n",
       "       'Neutral', 'Neutral', 'Negative', 'Positive', 'Positive',\n",
       "       'Neutral', 'Negative', 'Neutral', 'Negative', 'Neutral', 'Neutral',\n",
       "       'Neutral', 'Positive', 'Neutral', 'Positive', 'Positive',\n",
       "       'Negative', 'Negative', 'Negative', 'Negative', 'Neutral',\n",
       "       'Neutral', 'Negative', 'Negative', 'Positive', 'Neutral',\n",
       "       'Negative', 'Neutral', 'Neutral', 'Neutral', 'Neutral', 'Neutral',\n",
       "       'Neutral', 'Neutral', 'Positive', 'Negative', 'Positive',\n",
       "       'Neutral', 'Neutral', 'Negative', 'Negative', 'Neutral', 'Neutral',\n",
       "       'Neutral', 'Neutral', 'Positive', 'Neutral', 'Neutral', 'Negative',\n",
       "       'Negative', 'Negative', 'Negative', 'Negative', 'Neutral',\n",
       "       'Positive', 'Negative', 'Negative', 'Negative', 'Negative',\n",
       "       'Positive', 'Positive', 'Positive', 'Neutral', 'Negative',\n",
       "       'Positive', 'Positive', 'Positive', 'Positive', 'Positive',\n",
       "       'Positive', 'Neutral', 'Neutral', 'Negative', 'Neutral', 'Neutral',\n",
       "       'Neutral', 'Positive', 'Positive', 'Neutral', 'Neutral',\n",
       "       'Negative', 'Neutral', 'Positive', 'Neutral', 'Negative',\n",
       "       'Positive', 'Positive', 'Positive', 'Neutral', 'Negative',\n",
       "       'Negative', 'Neutral', 'Negative', 'Negative', 'Negative',\n",
       "       'Negative', 'Neutral', 'Positive', 'Positive', 'Positive',\n",
       "       'Neutral', 'Negative', 'Neutral', 'Negative', 'Positive',\n",
       "       'Negative', 'Positive', 'Negative', 'Neutral', 'Negative',\n",
       "       'Positive', 'Positive', 'Positive', 'Negative', 'Negative',\n",
       "       'Positive', 'Neutral', 'Positive', 'Positive', 'Neutral',\n",
       "       'Positive', 'Positive', 'Negative', 'Negative', 'Positive',\n",
       "       'Negative', 'Neutral', 'Neutral', 'Positive', 'Positive',\n",
       "       'Neutral', 'Positive', 'Negative', 'Neutral', 'Negative',\n",
       "       'Positive', 'Neutral', 'Positive', 'Neutral', 'Neutral',\n",
       "       'Positive', 'Positive', 'Neutral', 'Negative', 'Neutral',\n",
       "       'Positive', 'Neutral', 'Neutral', 'Positive', 'Negative',\n",
       "       'Neutral', 'Positive', 'Neutral', 'Positive', 'Negative',\n",
       "       'Positive', 'Neutral', 'Neutral', 'Neutral', 'Negative',\n",
       "       'Negative', 'Negative', 'Positive', 'Negative', 'Neutral',\n",
       "       'Positive', 'Neutral', 'Positive', 'Positive', 'Positive',\n",
       "       'Positive', 'Negative', 'Neutral', 'Negative', 'Positive',\n",
       "       'Negative', 'Neutral', 'Positive', 'Positive', 'Negative',\n",
       "       'Neutral', 'Positive', 'Negative', 'Neutral', 'Neutral',\n",
       "       'Positive', 'Negative', 'Positive', 'Positive', 'Neutral',\n",
       "       'Positive', 'Neutral', 'Neutral', 'Negative', 'Negative',\n",
       "       'Positive', 'Positive', 'Positive', 'Positive', 'Negative',\n",
       "       'Positive', 'Positive', 'Positive', 'Positive', 'Negative',\n",
       "       'Neutral', 'Positive', 'Negative', 'Positive', 'Positive'],\n",
       "      dtype=object)"
      ]
     },
     "execution_count": 196,
     "metadata": {},
     "output_type": "execute_result"
    }
   ],
   "source": [
    "pred = model.predict(X_test)\n",
    "pred"
   ]
  },
  {
   "cell_type": "code",
   "execution_count": 197,
   "metadata": {},
   "outputs": [
    {
     "name": "stdout",
     "output_type": "stream",
     "text": [
      "Accuracy : 0.8888888888888888\n"
     ]
    }
   ],
   "source": [
    "print(f\"Accuracy : {model.score(X_test, y_test)}\")"
   ]
  },
  {
   "cell_type": "code",
   "execution_count": 198,
   "metadata": {},
   "outputs": [
    {
     "data": {
      "image/png": "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",
      "text/plain": [
       "<Figure size 640x480 with 1 Axes>"
      ]
     },
     "metadata": {},
     "output_type": "display_data"
    }
   ],
   "source": [
    "pred = model.predict(X_test)\n",
    "acc_score = accuracy_score(y_test, pred) \n",
    "pre_score = precision_score(y_test, pred, average='weighted')\n",
    "rec_score = recall_score(y_test, pred, average='weighted')\n",
    "f_score = f1_score(y_test, pred, average='weighted')\n",
    "\n",
    "scores = {\n",
    "    'Accuracy': acc_score,\n",
    "    'Precision': pre_score,\n",
    "    'Recall': rec_score, \n",
    "    'F1-Score': f_score\n",
    "}\n",
    "\n",
    "eval_df = pd.DataFrame.from_dict(scores, orient='index', columns=['Score']) \n",
    "\n",
    "eval_df['Score'].plot(kind='line', marker='o', color='blue') \n",
    "\n",
    "plt.title('Hasil Evaluasi Model')\n",
    "plt.xlabel('Metrik') \n",
    "plt.ylabel('Nilai Rata-Rata')\n",
    "plt.grid(True) \n",
    "\n",
    "plt.show()"
   ]
  },
  {
   "cell_type": "code",
   "execution_count": 199,
   "metadata": {},
   "outputs": [
    {
     "name": "stdout",
     "output_type": "stream",
     "text": [
      "Training Accuracy: 0.9375\n",
      "Training Classification Report:\n",
      "              precision    recall  f1-score   support\n",
      "\n",
      "    Negative       0.94      0.91      0.93       466\n",
      "     Neutral       0.94      0.93      0.93       496\n",
      "    Positive       0.94      0.97      0.95       478\n",
      "\n",
      "    accuracy                           0.94      1440\n",
      "   macro avg       0.94      0.94      0.94      1440\n",
      "weighted avg       0.94      0.94      0.94      1440\n",
      "\n",
      "Testing Accuracy: 0.8888888888888888\n",
      "Testing Classification Report:\n",
      "              precision    recall  f1-score   support\n",
      "\n",
      "    Negative       0.92      0.84      0.88       134\n",
      "     Neutral       0.84      0.92      0.88       104\n",
      "    Positive       0.90      0.92      0.91       122\n",
      "\n",
      "    accuracy                           0.89       360\n",
      "   macro avg       0.89      0.89      0.89       360\n",
      "weighted avg       0.89      0.89      0.89       360\n",
      "\n"
     ]
    }
   ],
   "source": [
    "# Evaluasi pada training set\n",
    "y_train_pred = model.predict(X_train)\n",
    "train_accuracy = accuracy_score(y_train, y_train_pred)\n",
    "print(\"Training Accuracy:\", train_accuracy)\n",
    "print(\"Training Classification Report:\")\n",
    "print(classification_report(y_train, y_train_pred))\n",
    "\n",
    "# Evaluasi pada testing set\n",
    "y_test_pred = model.predict(X_test)\n",
    "test_accuracy = accuracy_score(y_test, y_test_pred)\n",
    "print(\"Testing Accuracy:\", test_accuracy)\n",
    "print(\"Testing Classification Report:\")\n",
    "print(classification_report(y_test, y_test_pred))"
   ]
  },
  {
   "cell_type": "code",
   "execution_count": 200,
   "metadata": {},
   "outputs": [],
   "source": [
    "def preprocess_review(review):\n",
    "    review = review.lower()\n",
    "    tokens = word_tokenize(review)\n",
    "    tokens = remove_stopwords(tokens)\n",
    "    tokens = stem_tokenizer(tokens)\n",
    "    return ' '.join(tokens)\n",
    "\n",
    "def predict_sentiment(review):\n",
    "    preprocessed_review = preprocess_review(review)\n",
    "    tfidf_review = tfidf_vectorizer.transform([preprocessed_review])\n",
    "    sentiment = model.predict(tfidf_review)\n",
    "    return sentiment[0]"
   ]
  },
  {
   "cell_type": "code",
   "execution_count": 203,
   "metadata": {},
   "outputs": [
    {
     "name": "stdout",
     "output_type": "stream",
     "text": [
      "Review: gagal\n",
      "Predicted Sentiment: Negative\n",
      "\n",
      "Review: ini bagus banget\n",
      "Predicted Sentiment: Positive\n",
      "\n",
      "Review: lumayan lah ya\n",
      "Predicted Sentiment: Neutral\n",
      "\n",
      "Review: pintunya tidak bisa dibuka\n",
      "Predicted Sentiment: Negative\n",
      "\n",
      "Review: face detection tidak berfungsi\n",
      "Predicted Sentiment: Negative\n",
      "\n",
      "Review: loker sulit digunakan\n",
      "Predicted Sentiment: Negative\n",
      "\n",
      "Review: ini keren banget kak\n",
      "Predicted Sentiment: Positive\n",
      "\n",
      "Review: bagus tapi perlu ditingkatkan lagi agar lebih baik\n",
      "Predicted Sentiment: Neutral\n",
      "\n",
      "Review: loker nya enggak bagus\n",
      "Predicted Sentiment: Negative\n",
      "\n"
     ]
    }
   ],
   "source": [
    "new_reviews = [\n",
    "    \"gagal\",\n",
    "    \"ini bagus banget\",\n",
    "    \"lumayan lah ya\",\n",
    "    \"pintunya tidak bisa dibuka\",\n",
    "    \"face detection tidak berfungsi\",\n",
    "    \"loker sulit digunakan\",\n",
    "    \"ini keren banget kak\",\n",
    "    \"bagus tapi perlu ditingkatkan lagi agar lebih baik\",\n",
    "    \"loker nya enggak bagus\"\n",
    "]\n",
    "for review in new_reviews:\n",
    "    sentiment = predict_sentiment(review)\n",
    "    print(f\"Review: {review}\\nPredicted Sentiment: {sentiment}\\n\")"
   ]
  },
  {
   "cell_type": "code",
   "execution_count": 204,
   "metadata": {},
   "outputs": [
    {
     "data": {
      "image/png": "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",
      "text/plain": [
       "<Figure size 640x480 with 1 Axes>"
      ]
     },
     "metadata": {},
     "output_type": "display_data"
    }
   ],
   "source": [
    "import matplotlib.pyplot as plt\n",
    "import numpy as np\n",
    "from sklearn.model_selection import learning_curve\n",
    "\n",
    "def plot_learning_curve(estimator, X, y, cv=None, train_sizes=np.linspace(0.1, 1.0, 10)):\n",
    "    train_scores, test_scores = [], []\n",
    "    for train_size in train_sizes:\n",
    "        _, train_score, test_score = learning_curve(estimator, X, y, cv=cv, train_sizes=[train_size])\n",
    "        train_scores.append(train_score.mean())\n",
    "        test_scores.append(test_score.mean())\n",
    "    plt.plot(train_sizes, train_scores, label='Training Score', marker='o')\n",
    "    plt.plot(train_sizes, test_scores, label='Testing Score', marker='x')\n",
    "    plt.title('Learning Curve')\n",
    "    plt.xlabel('Training Size')\n",
    "    plt.ylabel('Accuracy')\n",
    "    plt.legend()\n",
    "    plt.grid(True)\n",
    "\n",
    "X_train, X_val, y_train, y_val = train_test_split(tfidf_matrix, df['sentiment'], test_size=0.2, random_state=20)\n",
    "model = svm.SVC(C=1, kernel='rbf', gamma=1)\n",
    "\n",
    "plot_learning_curve(model, X_train, y_train, cv=5)\n",
    "plt.show()"
   ]
  },
  {
   "cell_type": "code",
   "execution_count": 205,
   "metadata": {},
   "outputs": [
    {
     "data": {
      "text/plain": [
       "['tfidf_vectorizer.pkl']"
      ]
     },
     "execution_count": 205,
     "metadata": {},
     "output_type": "execute_result"
    }
   ],
   "source": [
    "joblib.dump(model, 'sentiment.pkl')\n",
    "joblib.dump(tfidf_vectorizer, 'tfidf_vectorizer.pkl')"
   ]
  },
  {
   "cell_type": "markdown",
   "metadata": {},
   "source": [
    "### Find Best Parameters"
   ]
  },
  {
   "cell_type": "code",
   "execution_count": 99,
   "metadata": {},
   "outputs": [],
   "source": [
    "from sklearn.model_selection import GridSearchCV\n",
    "\n",
    "param_grid = {\n",
    "    'tfidf__max_df': [0.7, 0.75, 0.8, 0.85, 0.9, 0.95],\n",
    "    'tfidf__min_df': [1, 2, 3, 4, 5, 6, 7, 8, 9, 10],\n",
    "    'tfidf__ngram_range': [(1, 1), (1, 2)],\n",
    "    'svm__C': [0.1, 1, 10],\n",
    "    'svm__gamma': [0.01, 0.1, 1],\n",
    "    'svm__kernel': ['linear', 'rbf', 'poly', 'sigmoid']\n",
    "}"
   ]
  },
  {
   "cell_type": "code",
   "execution_count": 100,
   "metadata": {},
   "outputs": [],
   "source": [
    "from sklearn.pipeline import Pipeline\n",
    "\n",
    "pipeline = Pipeline([\n",
    "    ('tfidf', TfidfVectorizer()),\n",
    "    ('svm', svm.SVC())\n",
    "])"
   ]
  },
  {
   "cell_type": "code",
   "execution_count": 102,
   "metadata": {},
   "outputs": [
    {
     "name": "stdout",
     "output_type": "stream",
     "text": [
      "Fitting 5 folds for each of 4320 candidates, totalling 21600 fits\n"
     ]
    },
    {
     "data": {
      "text/plain": [
       "GridSearchCV(cv=5,\n",
       "             estimator=Pipeline(steps=[('tfidf', TfidfVectorizer()),\n",
       "                                       ('svm', SVC())]),\n",
       "             n_jobs=-1,\n",
       "             param_grid={'svm__C': [0.1, 1, 10], 'svm__gamma': [0.01, 0.1, 1],\n",
       "                         'svm__kernel': ['linear', 'rbf', 'poly', 'sigmoid'],\n",
       "                         'tfidf__max_df': [0.7, 0.75, 0.8, 0.85, 0.9, 0.95],\n",
       "                         'tfidf__min_df': [1, 2, 3, 4, 5, 6, 7, 8, 9, 10],\n",
       "                         'tfidf__ngram_range': [(1, 1), (1, 2)]},\n",
       "             verbose=2)"
      ]
     },
     "execution_count": 102,
     "metadata": {},
     "output_type": "execute_result"
    }
   ],
   "source": [
    "grid_search = GridSearchCV(pipeline, param_grid, cv=5, n_jobs=-1, verbose=2)\n",
    "grid_search.fit(df['processed_review'], df['sentiment'])"
   ]
  },
  {
   "cell_type": "code",
   "execution_count": 103,
   "metadata": {},
   "outputs": [
    {
     "name": "stdout",
     "output_type": "stream",
     "text": [
      "Best parameters found:  {'svm__C': 1, 'svm__gamma': 1, 'svm__kernel': 'rbf', 'tfidf__max_df': 0.7, 'tfidf__min_df': 1, 'tfidf__ngram_range': (1, 1)}\n",
      "Best cross-validation score:  0.8099999999999999\n"
     ]
    }
   ],
   "source": [
    "print(\"Best parameters found: \", grid_search.best_params_)\n",
    "print(\"Best cross-validation score: \", grid_search.best_score_)"
   ]
  },
  {
   "cell_type": "code",
   "execution_count": 104,
   "metadata": {},
   "outputs": [],
   "source": [
    "from sklearn.model_selection import RandomizedSearchCV\n",
    "\n",
    "param_dist = {\n",
    "    'tfidf__max_df': [0.7, 0.75, 0.8, 0.85, 0.9, 0.95],\n",
    "    'tfidf__min_df': [1, 2, 3, 4, 5, 6, 7, 8, 9, 10],\n",
    "    'tfidf__ngram_range': [(1, 1), (1, 2)],\n",
    "    'svm__C': np.logspace(-2, 1, 4),\n",
    "    'svm__gamma': np.logspace(-2, 1, 4),\n",
    "    'svm__kernel': ['linear', 'rbf', 'poly', 'sigmoid']\n",
    "}"
   ]
  },
  {
   "cell_type": "code",
   "execution_count": 105,
   "metadata": {},
   "outputs": [
    {
     "name": "stdout",
     "output_type": "stream",
     "text": [
      "Fitting 5 folds for each of 4320 candidates, totalling 21600 fits\n"
     ]
    },
    {
     "data": {
      "text/plain": [
       "RandomizedSearchCV(cv=5,\n",
       "                   estimator=Pipeline(steps=[('tfidf', TfidfVectorizer()),\n",
       "                                             ('svm', SVC())]),\n",
       "                   n_iter=4320, n_jobs=-1,\n",
       "                   param_distributions={'svm__C': array([ 0.01,  0.1 ,  1.  , 10.  ]),\n",
       "                                        'svm__gamma': array([ 0.01,  0.1 ,  1.  , 10.  ]),\n",
       "                                        'svm__kernel': ['linear', 'rbf', 'poly',\n",
       "                                                        'sigmoid'],\n",
       "                                        'tfidf__max_df': [0.7, 0.75, 0.8, 0.85,\n",
       "                                                          0.9, 0.95],\n",
       "                                        'tfidf__min_df': [1, 2, 3, 4, 5, 6, 7,\n",
       "                                                          8, 9, 10],\n",
       "                                        'tfidf__ngram_range': [(1, 1), (1, 2)]},\n",
       "                   random_state=42, verbose=2)"
      ]
     },
     "execution_count": 105,
     "metadata": {},
     "output_type": "execute_result"
    }
   ],
   "source": [
    "random_search = RandomizedSearchCV(pipeline, param_distributions=param_dist, n_iter=4320, cv=5, n_jobs=-1, verbose=2, random_state=42)\n",
    "random_search.fit(df['processed_review'], df['sentiment'])"
   ]
  },
  {
   "cell_type": "code",
   "execution_count": 106,
   "metadata": {},
   "outputs": [
    {
     "name": "stdout",
     "output_type": "stream",
     "text": [
      "Best parameters found:  {'tfidf__ngram_range': (1, 1), 'tfidf__min_df': 1, 'tfidf__max_df': 0.7, 'svm__kernel': 'rbf', 'svm__gamma': 1.0, 'svm__C': 1.0}\n",
      "Best cross-validation score:  0.8099999999999999\n"
     ]
=======
      "cell_type": "code",
      "execution_count": 59,
      "metadata": {},
      "outputs": [
        {
          "name": "stdout",
          "output_type": "stream",
          "text": [
            "Requirement already satisfied: Sastrawi in c:\\users\\rafi\\appdata\\local\\programs\\python\\python312\\lib\\site-packages (1.0.1)\n",
            "Note: you may need to restart the kernel to use updated packages.\n"
          ]
        },
        {
          "name": "stderr",
          "output_type": "stream",
          "text": [
            "\n",
            "[notice] A new release of pip is available: 23.2.1 -> 24.1.1\n",
            "[notice] To update, run: python.exe -m pip install --upgrade pip\n"
          ]
        }
      ],
      "source": [
        "%pip install Sastrawi"
      ]
    },
    {
      "cell_type": "code",
      "execution_count": 60,
      "metadata": {},
      "outputs": [],
      "source": [
        "import nltk"
      ]
    },
    {
      "cell_type": "code",
      "execution_count": 62,
      "metadata": {},
      "outputs": [
        {
          "name": "stderr",
          "output_type": "stream",
          "text": [
            "[nltk_data] Downloading package stopwords to\n",
            "[nltk_data]     C:\\Users\\Rafi\\AppData\\Roaming\\nltk_data...\n",
            "[nltk_data]   Package stopwords is already up-to-date!\n"
          ]
        },
        {
          "data": {
            "text/plain": [
              "True"
            ]
          },
          "execution_count": 62,
          "metadata": {},
          "output_type": "execute_result"
        }
      ],
      "source": [
        "nltk.download('stopwords')"
      ]
    },
    {
      "cell_type": "code",
      "execution_count": 2,
      "metadata": {},
      "outputs": [],
      "source": [
        "import pandas as pd\n",
        "import matplotlib.pyplot as plt\n",
        "import re\n",
        "import joblib\n",
        "from nltk.tokenize import word_tokenize\n",
        "from nltk.corpus import stopwords\n",
        "from Sastrawi.Stemmer.StemmerFactory import StemmerFactory\n",
        "from sklearn.feature_extraction.text import TfidfVectorizer\n",
        "from sklearn import svm\n",
        "from sklearn.model_selection import train_test_split\n",
        "from sklearn.metrics import accuracy_score, classification_report\n",
        "from sklearn.metrics import accuracy_score, precision_score, recall_score, f1_score\n"
      ]
    },
    {
      "cell_type": "code",
      "execution_count": 3,
      "metadata": {},
      "outputs": [],
      "source": [
        "# Load dataset\n",
        "df = pd.read_csv('smart_locker_reviews.csv', sep=\";\")"
      ]
    },
    {
      "cell_type": "code",
      "execution_count": 4,
      "metadata": {},
      "outputs": [
        {
          "data": {
            "text/html": [
              "<div>\n",
              "<style scoped>\n",
              "    .dataframe tbody tr th:only-of-type {\n",
              "        vertical-align: middle;\n",
              "    }\n",
              "\n",
              "    .dataframe tbody tr th {\n",
              "        vertical-align: top;\n",
              "    }\n",
              "\n",
              "    .dataframe thead th {\n",
              "        text-align: right;\n",
              "    }\n",
              "</style>\n",
              "<table border=\"1\" class=\"dataframe\">\n",
              "  <thead>\n",
              "    <tr style=\"text-align: right;\">\n",
              "      <th></th>\n",
              "      <th>review</th>\n",
              "      <th>sentiment</th>\n",
              "    </tr>\n",
              "  </thead>\n",
              "  <tbody>\n",
              "    <tr>\n",
              "      <th>0</th>\n",
              "      <td>Kualitas smart locker ini sangat buruk, sering...</td>\n",
              "      <td>Negative</td>\n",
              "    </tr>\n",
              "    <tr>\n",
              "      <th>1</th>\n",
              "      <td>Desain smart locker sangat modern dan menarik.</td>\n",
              "      <td>Positive</td>\n",
              "    </tr>\n",
              "    <tr>\n",
              "      <th>2</th>\n",
              "      <td>Smart locker ini memiliki fitur yang cukup sta...</td>\n",
              "      <td>Neutral</td>\n",
              "    </tr>\n",
              "    <tr>\n",
              "      <th>3</th>\n",
              "      <td>Keamanan smart locker ini sangat tinggi, saya ...</td>\n",
              "      <td>Positive</td>\n",
              "    </tr>\n",
              "    <tr>\n",
              "      <th>4</th>\n",
              "      <td>Smart locker ini sering tidak bisa diakses saa...</td>\n",
              "      <td>Negative</td>\n",
              "    </tr>\n",
              "    <tr>\n",
              "      <th>...</th>\n",
              "      <td>...</td>\n",
              "      <td>...</td>\n",
              "    </tr>\n",
              "    <tr>\n",
              "      <th>1356</th>\n",
              "      <td>Sistem sering tidak berfungsi, sangat mengecew...</td>\n",
              "      <td>Negative</td>\n",
              "    </tr>\n",
              "    <tr>\n",
              "      <th>1357</th>\n",
              "      <td>Deteksi wajah sering tidak akurat, sangat tida...</td>\n",
              "      <td>Negative</td>\n",
              "    </tr>\n",
              "    <tr>\n",
              "      <th>1358</th>\n",
              "      <td>Proses verifikasi sangat lambat, sangat tidak ...</td>\n",
              "      <td>Negative</td>\n",
              "    </tr>\n",
              "    <tr>\n",
              "      <th>1359</th>\n",
              "      <td>RFID sering tidak terdeteksi, sangat mengganggu.</td>\n",
              "      <td>Negative</td>\n",
              "    </tr>\n",
              "    <tr>\n",
              "      <th>1360</th>\n",
              "      <td>Loker ini cukup praktis, meski ada beberapa ke...</td>\n",
              "      <td>Neutral</td>\n",
              "    </tr>\n",
              "  </tbody>\n",
              "</table>\n",
              "<p>1361 rows × 2 columns</p>\n",
              "</div>"
            ],
            "text/plain": [
              "                                                 review sentiment\n",
              "0     Kualitas smart locker ini sangat buruk, sering...  Negative\n",
              "1        Desain smart locker sangat modern dan menarik.  Positive\n",
              "2     Smart locker ini memiliki fitur yang cukup sta...   Neutral\n",
              "3     Keamanan smart locker ini sangat tinggi, saya ...  Positive\n",
              "4     Smart locker ini sering tidak bisa diakses saa...  Negative\n",
              "...                                                 ...       ...\n",
              "1356  Sistem sering tidak berfungsi, sangat mengecew...  Negative\n",
              "1357  Deteksi wajah sering tidak akurat, sangat tida...  Negative\n",
              "1358  Proses verifikasi sangat lambat, sangat tidak ...  Negative\n",
              "1359   RFID sering tidak terdeteksi, sangat mengganggu.  Negative\n",
              "1360  Loker ini cukup praktis, meski ada beberapa ke...   Neutral\n",
              "\n",
              "[1361 rows x 2 columns]"
            ]
          },
          "execution_count": 4,
          "metadata": {},
          "output_type": "execute_result"
        }
      ],
      "source": [
        "df"
      ]
    },
    {
      "cell_type": "markdown",
      "metadata": {},
      "source": [
        "### Case Folding"
      ]
    },
    {
      "cell_type": "code",
      "execution_count": 5,
      "metadata": {},
      "outputs": [],
      "source": [
        "# Ensure reviews are strings and lowercase\n",
        "df['review'] = df['review'].astype(str).str.lower()"
      ]
    },
    {
      "cell_type": "code",
      "execution_count": 6,
      "metadata": {},
      "outputs": [],
      "source": [
        "def clean_text(text):\n",
        "    # Remove punctuation and special characters\n",
        "    text = re.sub(r'[^\\w\\s]', '', text)\n",
        "    # Remove numbers\n",
        "    text = re.sub(r'\\d+', '', text)\n",
        "    return text\n",
        "\n",
        "df['cleaned_review'] = df['review'].apply(clean_text)"
      ]
    },
    {
      "cell_type": "markdown",
      "metadata": {},
      "source": [
        "### Tokenizing"
      ]
    },
    {
      "cell_type": "code",
      "execution_count": 7,
      "metadata": {},
      "outputs": [],
      "source": [
        "df['tokens'] = df['cleaned_review'].apply(word_tokenize)"
      ]
    },
    {
      "cell_type": "markdown",
      "metadata": {},
      "source": [
        "### Stopword Removal"
      ]
    },
    {
      "cell_type": "code",
      "execution_count": 8,
      "metadata": {},
      "outputs": [],
      "source": [
        "stop_words = set(stopwords.words('indonesian'))\n",
        "\n",
        "def remove_stopwords(text):\n",
        "    return [word for word in text if word not in stop_words]\n",
        "\n",
        "df['tokens'] = df['tokens'].apply(remove_stopwords)"
      ]
    },
    {
      "cell_type": "markdown",
      "metadata": {},
      "source": [
        "### Stemming"
      ]
    },
    {
      "cell_type": "code",
      "execution_count": 9,
      "metadata": {},
      "outputs": [],
      "source": [
        "factory = StemmerFactory()\n",
        "stemmer = factory.create_stemmer()\n",
        "\n",
        "def stem_tokenizer(text):\n",
        "    return [stemmer.stem(word) for word in text]\n",
        "\n",
        "df['tokens'] = df['tokens'].apply(stem_tokenizer)\n",
        "df['processed_review'] = df['tokens'].apply(lambda x: ' '.join(x))"
      ]
    },
    {
      "cell_type": "markdown",
      "metadata": {},
      "source": [
        "### Pembobotan TF-IDF"
      ]
    },
    {
      "cell_type": "code",
      "execution_count": 10,
      "metadata": {},
      "outputs": [],
      "source": [
        "tfidf_vectorizer = TfidfVectorizer(max_df=0.75, min_df=1, ngram_range=(1, 1))\n",
        "tfidf_matrix = tfidf_vectorizer.fit_transform(df['processed_review'])"
      ]
    },
    {
      "cell_type": "code",
      "execution_count": 11,
      "metadata": {},
      "outputs": [
        {
          "name": "stdout",
          "output_type": "stream",
          "text": [
            "Kata: adaptasi, Kemunculan: 7.523562306149512\n",
            "Kata: aktif, Kemunculan: 7.523562306149512\n",
            "Kata: bahan, Kemunculan: 7.523562306149512\n",
            "Kata: beda, Kemunculan: 7.523562306149512\n",
            "Kata: beli, Kemunculan: 7.523562306149512\n",
            "Kata: benerbener, Kemunculan: 7.523562306149512\n",
            "Kata: biasabiasa, Kemunculan: 7.523562306149512\n",
            "Kata: buangbuang, Kemunculan: 7.523562306149512\n",
            "Kata: cepet, Kemunculan: 7.523562306149512\n",
            "Kata: colok, Kemunculan: 7.523562306149512\n"
          ]
        }
      ],
      "source": [
        "# Menampilkan 10 kata dengan nilai IDF tertinggi\n",
        "freqs = tfidf_matrix.sum(axis=0)\n",
        "idf_values = tfidf_vectorizer.idf_\n",
        "word_idf = dict(zip(tfidf_vectorizer.get_feature_names_out(), idf_values))\n",
        "\n",
        "top_idf_words = sorted(word_idf.items(), key=lambda x: x[1], reverse=True)[:10]\n",
        "for word, idf in top_idf_words:\n",
        "    print(f'Kata: {word}, Kemunculan: {idf}')"
      ]
    },
    {
      "cell_type": "markdown",
      "metadata": {},
      "source": [
        "### klasifikasi SVM"
      ]
    },
    {
      "cell_type": "code",
      "execution_count": 38,
      "metadata": {},
      "outputs": [
        {
          "data": {
            "text/plain": [
              "SVC(C=10, gamma=1)"
            ]
          },
          "execution_count": 38,
          "metadata": {},
          "output_type": "execute_result"
        }
      ],
      "source": [
        "X_train, X_test, y_train, y_test = train_test_split(tfidf_matrix, df['sentiment'], test_size=0.2, random_state=0)\n",
        "\n",
        "model = svm.SVC(C=10, kernel='rbf', gamma=1)\n",
        "model.fit(X_train, y_train)\n",
        "# model.fit(tfidf_matrix, df['sentiment'])"
      ]
    },
    {
      "cell_type": "code",
      "execution_count": 39,
      "metadata": {},
      "outputs": [
        {
          "data": {
            "text/plain": [
              "array(['Positive', 'Neutral', 'Neutral', 'Neutral', 'Neutral', 'Neutral',\n",
              "       'Negative', 'Positive', 'Neutral', 'Neutral', 'Negative',\n",
              "       'Positive', 'Neutral', 'Positive', 'Neutral', 'Negative',\n",
              "       'Positive', 'Positive', 'Neutral', 'Positive', 'Neutral',\n",
              "       'Negative', 'Positive', 'Negative', 'Neutral', 'Positive',\n",
              "       'Positive', 'Positive', 'Neutral', 'Positive', 'Positive',\n",
              "       'Positive', 'Neutral', 'Neutral', 'Negative', 'Negative',\n",
              "       'Neutral', 'Neutral', 'Neutral', 'Negative', 'Negative',\n",
              "       'Negative', 'Positive', 'Neutral', 'Negative', 'Neutral',\n",
              "       'Positive', 'Negative', 'Neutral', 'Positive', 'Positive',\n",
              "       'Negative', 'Neutral', 'Negative', 'Negative', 'Positive',\n",
              "       'Negative', 'Positive', 'Negative', 'Neutral', 'Negative',\n",
              "       'Negative', 'Positive', 'Negative', 'Positive', 'Negative',\n",
              "       'Positive', 'Negative', 'Neutral', 'Negative', 'Neutral',\n",
              "       'Positive', 'Positive', 'Neutral', 'Positive', 'Negative',\n",
              "       'Negative', 'Neutral', 'Negative', 'Negative', 'Positive',\n",
              "       'Positive', 'Neutral', 'Neutral', 'Negative', 'Neutral',\n",
              "       'Negative', 'Negative', 'Negative', 'Negative', 'Negative',\n",
              "       'Negative', 'Positive', 'Positive', 'Negative', 'Positive',\n",
              "       'Negative', 'Positive', 'Negative', 'Neutral', 'Positive',\n",
              "       'Neutral', 'Positive', 'Neutral', 'Negative', 'Negative',\n",
              "       'Positive', 'Positive', 'Negative', 'Negative', 'Neutral',\n",
              "       'Negative', 'Negative', 'Neutral', 'Neutral', 'Negative',\n",
              "       'Positive', 'Positive', 'Neutral', 'Positive', 'Positive',\n",
              "       'Negative', 'Neutral', 'Negative', 'Neutral', 'Positive',\n",
              "       'Negative', 'Negative', 'Negative', 'Negative', 'Positive',\n",
              "       'Negative', 'Negative', 'Negative', 'Neutral', 'Positive',\n",
              "       'Positive', 'Negative', 'Negative', 'Negative', 'Negative',\n",
              "       'Neutral', 'Neutral', 'Positive', 'Neutral', 'Neutral', 'Negative',\n",
              "       'Negative', 'Neutral', 'Negative', 'Negative', 'Positive',\n",
              "       'Positive', 'Negative', 'Positive', 'Negative', 'Negative',\n",
              "       'Positive', 'Negative', 'Negative', 'Neutral', 'Negative',\n",
              "       'Neutral', 'Positive', 'Negative', 'Positive', 'Positive',\n",
              "       'Negative', 'Positive', 'Negative', 'Neutral', 'Neutral',\n",
              "       'Negative', 'Positive', 'Positive', 'Negative', 'Negative',\n",
              "       'Positive', 'Negative', 'Negative', 'Neutral', 'Positive',\n",
              "       'Neutral', 'Negative', 'Negative', 'Neutral', 'Positive',\n",
              "       'Positive', 'Negative', 'Neutral', 'Positive', 'Positive',\n",
              "       'Negative', 'Neutral', 'Negative', 'Negative', 'Neutral',\n",
              "       'Positive', 'Positive', 'Positive', 'Negative', 'Neutral',\n",
              "       'Negative', 'Negative', 'Positive', 'Positive', 'Neutral',\n",
              "       'Positive', 'Negative', 'Negative', 'Neutral', 'Negative',\n",
              "       'Negative', 'Neutral', 'Positive', 'Positive', 'Positive',\n",
              "       'Negative', 'Negative', 'Positive', 'Positive', 'Negative',\n",
              "       'Negative', 'Neutral', 'Negative', 'Neutral', 'Neutral',\n",
              "       'Positive', 'Neutral', 'Negative', 'Negative', 'Positive',\n",
              "       'Positive', 'Positive', 'Positive', 'Negative', 'Positive',\n",
              "       'Neutral', 'Neutral', 'Neutral', 'Negative', 'Neutral', 'Positive',\n",
              "       'Negative', 'Positive', 'Negative', 'Negative', 'Positive',\n",
              "       'Positive', 'Negative', 'Neutral', 'Positive', 'Positive',\n",
              "       'Positive', 'Negative', 'Negative', 'Positive', 'Negative',\n",
              "       'Neutral', 'Negative', 'Negative', 'Positive', 'Negative',\n",
              "       'Neutral', 'Negative', 'Positive', 'Negative', 'Positive',\n",
              "       'Positive', 'Positive', 'Positive', 'Negative', 'Positive'],\n",
              "      dtype=object)"
            ]
          },
          "execution_count": 39,
          "metadata": {},
          "output_type": "execute_result"
        }
      ],
      "source": [
        "pred = model.predict(X_test)\n",
        "pred"
      ]
    },
    {
      "cell_type": "code",
      "execution_count": 42,
      "metadata": {},
      "outputs": [
        {
          "name": "stdout",
          "output_type": "stream",
          "text": [
            "Accuracy : 0.8791208791208791\n"
          ]
        }
      ],
      "source": [
        "print(f\"Accuracy : {model.score(X_test, y_test)}\")"
      ]
    },
    {
      "cell_type": "code",
      "execution_count": 43,
      "metadata": {},
      "outputs": [
        {
          "data": {
            "image/png": "iVBORw0KGgoAAAANSUhEUgAAAlkAAAHFCAYAAADBtOziAAAAOXRFWHRTb2Z0d2FyZQBNYXRwbG90bGliIHZlcnNpb24zLjUuMiwgaHR0cHM6Ly9tYXRwbG90bGliLm9yZy8qNh9FAAAACXBIWXMAAA9hAAAPYQGoP6dpAACJ5klEQVR4nO3deXhM1xvA8e9ksgexR0IkQe07pYJaStS+1L6vRRBB7UUpVUrEriq2itqK1tJW2qIULYrW0mqLKpL6UQQhstzfH7czMZIwYSY3M3k/zzNPjjtn7n3n5Jq8c+655+gURVEQQgghhBAW5aB1AEIIIYQQ9kiSLCGEEEIIK5AkSwghhBDCCiTJEkIIIYSwAkmyhBBCCCGsQJIsIYQQQggrkCRLCCGEEMIKJMkSQgghhLACSbKEEEIIIaxAkiwhsonVq1ej0+k4duxYms+3aNECf39/qx3f39+f3r17G/996dIldDodq1evfurrDPXSe7zzzjtWi/mdd95Bp9NZbf/m2rdvHzqdjn379plV72nt2rBhQ3Q6ncV/10/+fjPC2r9HIbTiqHUAQojsYdu2beTKleu5Xz9s2DC6du2aanuRIkVeJCybULVqVQ4fPkzZsmXNqp8zZ04iIiJSJT0XL15k3759L/R7EEKYT5IsIUSmqFKlygu9vmjRorzyyisWisa25MqVK0PvvVOnTqxYsYLff/+dl156ybh95cqVFC5cmAoVKnD27FlrhCqEeIxcLhRCpGvx4sW8+uqrFCxYEA8PDypUqMDs2bNJSEgwqXfixAlatGhBwYIFcXFxwcfHh+bNm3PlyhVjnRe5nGSO0NBQPDw8iI2NTfVcp06d8PLyMsa9ceNGgoKC8Pb2xs3NjTJlyjBu3Dju37//zOOkd2nryff3v//9j+DgYMqWLUuOHDkoWLAgDRs25MCBA6leu3TpUipVqkSOHDnImTMnpUuXZsKECcbnzb1caNC4cWN8fX1ZuXKlcVtycjJr1qyhV69eODik/uh/+PAh48ePJyAgAGdnZwoXLsyQIUO4ffu2Sb2EhATGjBlDoUKFcHd3p06dOvz4449pxhETE8PAgQMpUqQIzs7OBAQEMHXqVBITE816H0LYOunJEiKbSUpKSvOPnKIoqbb9+eefdO3a1fiH99SpU8yYMYNff/3V+Af8/v37NG7cmICAABYvXoyXlxcxMTHs3buXu3fvWizu5OTkNON2dFQ/xvr27cv8+fPZtGkT/fv3Nz5/+/ZtPvvsM4YMGYKTkxMAv//+O82aNTMmZr/++iuzZs3ixx9/5Ntvv7VIvP/++y8AU6ZMoVChQty7d49t27ZRv359vvnmG+rXrw/Ahg0bCA4OZtiwYcyZMwcHBwf++OOPF+ppcnBwoHfv3kRERDB9+nT0ej179uzhypUr9OnTh+HDh5vUVxSFNm3a8M033zB+/Hjq1q3Lzz//zJQpUzh8+DCHDx/GxcUFgAEDBrB27VreeustGjduzOnTp2nXrl2q33VMTAw1atTAwcGByZMnU7x4cQ4fPsz06dO5dOkSq1ateu73J4TNUIQQ2cKqVasU4KkPPz+/dF+flJSkJCQkKGvXrlX0er3y77//KoqiKMeOHVMAZfv27U89vp+fn9KrVy/jvy9evKgAyqpVq576OkO99B4HDhww1q1ataoSGBho8volS5YogPLLL7+kuf/k5GQlISFB2b9/vwIop06dMj43ZcoU5cmPSUCZMmXKM9/fkxITE5WEhATltddeU9q2bWvcPnToUCV37txPawJl7969CqDs3bvXrHqbN29WLly4oOh0OmXnzp2KoihKhw4dlPr16yuKoijNmzc3+V1/+eWXCqDMnj3bZH8bN25UAGX58uWKoijKuXPnFEAZMWKESb3IyEgFMHn/AwcOVHLkyKH89ddfJnXnzJmjAMqZM2eM29JrUyFsnVwuFCKbWbt2LUePHk31qFOnTqq6J06coFWrVuTLlw+9Xo+TkxM9e/YkKSmJ8+fPA1CiRAny5MnD2LFjWbZsmdXG+gwfPjzNuCtXrmys06dPHw4dOsRvv/1m3LZq1Spefvllypcvb9x24cIFunbtSqFChYzvq169egCcO3fOYjEvW7aMqlWr4urqiqOjI05OTnzzzTcmx6hRowa3b9+mS5cufPbZZ9y4ccMixw4ICKB+/fqsXLmSmzdv8tlnn9G3b9806xp67568nNuhQwc8PDz45ptvANi7dy8A3bp1M6nXsWNHY4+iwc6dO2nQoAE+Pj4kJiYaH02bNgVg//79L/wehcjqJMkSIpspU6YM1atXT/Xw9PQ0qXf58mXq1q3L1atXmT9/PgcOHODo0aMsXrwYgAcPHgDg6enJ/v37qVy5MhMmTKBcuXL4+PgwZcqUVGO3XkSRIkXSjDtHjhzGOt26dcPFxcU4fcHZs2c5evQoffr0Mda5d+8edevW5YcffmD69Ons27ePo0ePsnXrVpP39aLCwsIYPHgwNWvW5NNPP+XIkSMcPXqU119/3eQYPXr0YOXKlfz111+88cYbFCxYkJo1axIVFfXCMfTr148dO3YQFhaGm5sb7du3T7PezZs3cXR0pECBAibbdTodhQoV4ubNm8Z6AIUKFTKp5+joSL58+Uy2/fPPP+zYsQMnJyeTR7ly5QAslkwKkZXJmCwhRJq2b9/O/fv32bp1K35+fsbtJ0+eTFW3QoUKbNiwAUVR+Pnnn1m9ejXTpk3Dzc2NcePGZVrMefLkoXXr1qxdu5bp06ezatUqXF1d6dKli7HOt99+y7Vr19i3b5+x9wpINcA7PS4uLsTHx6fabkhADNatW0f9+vVZunSpyfa0xqn16dOHPn36cP/+fb777jumTJlCixYtOH/+vEnbZ1S7du0YMmQI77//PgMGDMDNzS3Nevny5SMxMZH//e9/JomWoijExMTw8ssvG+uBOt6qcOHCxnqJiYmp3n/+/PmpWLEiM2bMSPOYPj4+z/2+hLAV0pMlhEiTYRJOw4BnUP/ofvTRR099TaVKlZg3bx65c+fmp59+snqcT+rTpw/Xrl1j9+7drFu3jrZt25I7d26TGMH0fQF8+OGHZu3f39+fn3/+2WTbt99+y71790y26XS6VMf4+eefOXz4cLr79vDwoGnTpkycOJFHjx5x5swZs2JKj5ubG5MnT6Zly5YMHjw43XqvvfYaoCaGj/v000+5f/++8XnDYP3IyEiTeps2bUp1U0KLFi04ffo0xYsXT7MHUpIskR1IT5YQIk2NGzfG2dmZLl26MGbMGB4+fMjSpUu5deuWSb2dO3eyZMkS2rRpQ7FixVAUha1bt3L79m0aN25ssXguX77MkSNHUm0vUKAAxYsXN/47KCiIIkWKEBwcTExMjMmlQoDAwEDy5MnDoEGDmDJlCk5OTkRGRnLq1Cmz4ujRoweTJk1i8uTJ1KtXj7Nnz7Jo0aJUl1tbtGjBu+++y5QpU6hXrx6//fYb06ZNIyAgwCQhMfQw1a5dG29vb2JiYpg5cyaenp7GHqQXMXLkSEaOHPnUOo0bN6ZJkyaMHTuW2NhYateubby7sEqVKvTo0QNQLzV3796d8PBwnJycaNSoEadPn2bOnDmpJjidNm0aUVFRBAYGEhISQqlSpXj48CGXLl1i9+7dLFu2LFtMJCuyOW3H3QshMovh7sKjR4+m+fyTd5wpiqLs2LFDqVSpkuLq6qoULlxYGT16tPLFF1+Y3On266+/Kl26dFGKFy+uuLm5KZ6enkqNGjWU1atXm+zLWncXduvWLdVrJkyYoACKr6+vkpSUlOr5Q4cOKbVq1VLc3d2VAgUKKP3791d++umnVPGkdXdhfHy8MmbMGMXX11dxc3NT6tWrp5w8eTLV+4uPj1feeustpXDhwoqrq6tStWpVZfv27UqvXr1M2nnNmjVKgwYNFC8vL8XZ2Vnx8fFROnbsqPz888/GOs9zd+HTpPW7fvDggTJ27FjFz89PcXJyUry9vZXBgwcrt27dSvX+R40apRQsWFBxdXVVXnnlFeXw4cNp3l35v//9TwkJCVECAgIUJycnJW/evEq1atWUiRMnKvfu3TPWQ+4uFHZKpyhpTI4jhBBCCCFeiIzJEkIIIYSwAkmyhBBCCCGsQJIsIYQQQggrkCRLCCGEEMIKJMkSQgghhLACSbKEEEIIIaxAJiO1ouTkZK5du0bOnDmNs0wLIYQQImtTFIW7d+/i4+ODg8Pz90dJkmVF165dw9fXV+swhBBCCPEc/v777xdamUCSLCvKmTMnoP6Snlxy4kUlJCSwZ88egoKCcHJysui+7Y20lfmkrcwnbWU+aSvzSVuZz5ptFRsbi6+vr/Hv+POSJMuKDJcIc+XKZZUky93dnVy5csl/xGeQtjKftJX5pK3MJ21lPmkr82VGW73oUB8Z+C6EEEIIYQWSZAkhhBBCWIEkWUIIIYQQViBJlhBCCCGEFUiSJYQQQghhBZJkCSGEEEJYgSRZQgghhBBWIEmWEEIIIYQVSJIlhBBCCGEFkmTZoKQk2L9fx3ffFWb/fh1JSVpHJIQQaZPPK5GdSZJlY7ZuBX9/aNzYkbCw6jRu7Ii/v7pdCCGyEvm8EtmdJFk2ZOtWaN8erlwx3X71qrpdPriEEFmFfF4JIUmWzUhKguHDQVFSP2fYFhqKdMULITQnn1dCqCTJshEHDqT+Rvg4RYG//1brCSGEluTzSgiVJFk2IjrasvWEEMJa5PNKCJUkWTbC29uy9YQQwlrk80oIlSRZNqJuXShSBHS6tJ/X6cDXV60nhBBaks8rIVSSZNkIvR7mz1fL6X1whYer9YQQQkuGz6u0Br4byOeVyA4kybIh7drBli1QuLDpdhcXdXu7dtrEJYQQT2rQQP1sSkujRvJ5JbIHSbJsTLt2cOkSREUl8uabp9DrFeLj1a53IYTIKj76COLjoVw52LMnkZEjjzFvnjpnw759cPmytvEJkRkkybJBej3Uq6fQrNklunRR++PnztU4KCGE+M+jR7BggVoeNQrq11d49dWrDBmSTMOGkJAA77+vbYxCZAbNk6wlS5YQEBCAq6sr1apV48AzJk6JjIykUqVKuLu74+3tTZ8+fbh586bx+fr166PT6VI9mjdvbqxz9+5dQkND8fPzw83NjcDAQI4ePWpynK1bt9KkSRPy58+PTqfj5MmTFn3fljJ8uPrNcMsW+OsvjYMRQghg82Z1ZncvL+ja1fS5yZPVnxERT59LSwh7oGmStXHjRkJDQ5k4cSInTpygbt26NG3alMvp9CMfPHiQnj170q9fP86cOcPmzZs5evQo/fv3N9bZunUr0dHRxsfp06fR6/V06NDBWKd///5ERUXx8ccf88svvxAUFESjRo24evWqsc79+/epXbs272fxr1uVKsFrr6kzJxu+OQohhFYUJaVnfejQ1OOy6tWDV19Ve7tmz878+ITITJomWWFhYfTr14/+/ftTpkwZwsPD8fX1ZenSpWnWP3LkCP7+/oSEhBAQEECdOnUYOHAgx44dM9bJmzcvhQoVMj6ioqJwd3c3JlkPHjzg008/Zfbs2bz66quUKFGCd955h4CAAJPj9ujRg8mTJ9OoUSPrNoIFjByp/vzoI4iN1TYWIUT2tn8/nDgBbm4waFDadaZMUX8uXy4Tkgr75qjVgR89esTx48cZN26cyfagoCAOHTqU5msCAwOZOHEiu3fvpmnTply/fp0tW7aYXAp8UkREBJ07d8bDwwOAxMREkpKScHV1Nann5ubGwYMHX+g9xcfHEx8fb/x37H8ZT0JCAgkJCS+07ycZ9peQkMBrr0Hp0o78+quODz9MIjQ02aLHsnWPt5V4Omkr80lbpe2DD/SAAz16JOHpmUxCQuq2qlMHAgP1HDrkwPvvJzFnjnxmGch5ZT5rtpWl9qlZknXjxg2SkpLw8vIy2e7l5UVMTEyarwkMDCQyMpJOnTrx8OFDEhMTadWqFQsXLkyz/o8//sjp06eJiIgwbsuZMye1atXi3XffpUyZMnh5efHJJ5/www8/8NJLL73Qe5o5cyZTp05NtX3Pnj24u7u/0L7TExUVBUDDhn78+mtlPvggnuLFv0avf8oENdmUoa3Es0lbmU/aKsXVqznYvfs1ACpV2svu3fdNnn+8rRo3LsChQ4EsWwZVqnxDnjzxiBRyXpnPGm0VFxdnkf1olmQZ6J6YWVNRlFTbDM6ePUtISAiTJ0+mSZMmREdHM3r0aAYNGmSSSBlERERQvnx5atSoYbL9448/pm/fvhQuXBi9Xk/VqlXp2rUrP/300wu9l/HjxzPScO0OtSfL19eXoKAgcuXK9UL7flJCQgJRUVE0btwYJycnGjSAzZsV/vc/dx48aEbHjpJkGTzZViJ90lbmk7ZKbcgQdQRK8+bJDBhQz7g9rbZq2hS++CKZH3/U88svjXn/fenNAjmvMsKabRVrobE3miVZ+fPnR6/Xp+q1un79eqreLYOZM2dSu3ZtRo8eDUDFihXx8PCgbt26TJ8+He/HFsKKi4tjw4YNTJs2LdV+ihcvzv79+7l//z6xsbF4e3vTqVMnAgICXug9ubi44JLG7HtOTk5W+89i2LeTEwQHw9SpMH++I127pj8zfHZlzd+DvZG2Mp+0lerGDfj4Y7U8erQDTk6ph/w+2VbvvAPNmsGyZXrGjtVTsGAmBWsD5LwynzXaylL702zgu7OzM9WqVUvVzRcVFUVgYGCar4mLi8PBwTRk/X/rMihPrN+wadMm4uPj6d69e7oxeHh44O3tza1bt/jqq69o3br187yVLCM4WL2T5+hR+P57raMRQmQnS5fCw4dQtap696A5Xn8dqleHuDgIC7NufEJoQdO7C0eOHMmKFStYuXIl586dY8SIEVy+fJlB/92SMn78eHr27Gms37JlS7Zu3crSpUu5cOEC33//PSEhIdSoUQMfHx+TfUdERNCmTRvy5cuX6rhfffUVX375JRcvXiQqKooGDRpQqlQp+vTpY6zz77//cvLkSc6ePQvAb7/9xsmTJ9MdL5YVFCwIPXqoZfnAEkJklocPYdEitTxqlPm96DpdyrxZixapvWFC2BNNk6xOnToRHh7OtGnTqFy5Mt999x27d+/Gz88PgOjoaJM5s3r37k1YWBiLFi2ifPnydOjQgVKlSrF161aT/Z4/f56DBw/Sr1+/NI97584dhgwZQunSpenZsyd16tRhz549Jt2Dn3/+OVWqVDHeudi5c2eqVKnCsmXLLN0MFjVihPpz+3b44w9NQxFCZBPr18P161CkCDw2JaFZWrSAKlXg/n110Wgh7InmA9+Dg4MJDg5O87nVq1en2jZs2DCGDRv21H2WLFky1eXDx3Xs2JGOHTs+dR+9e/emd+/eT62TFZUtaxhQCvPnQzo3XgohhEUoSkrPeUgIZHQoi6E3q21bdULlkSMhb17LxymEFjRfVkdY3qhR6s+VK+Hff7WNRQhh3/bsgTNnIEcOGDDg+fbRqhVUrAh376pfDoWwF5Jk2aGGDdUPrLg4dUZlIYSwFsMSOv36Qe7cz7cPBweYNEktz58Pt29bIjIhtCdJlh3S6VJ6sxYuVNcIE0IIS/vlF4iKUpOk4cNfbF/t2kG5cnDnjqzDKuyHJFl2qnNn8PaGa9dg40atoxFC2CPDWKx27eAFpxk06c2aN0/WYRX2QZIsO+XsDIb7A+bOVQenCiGEpURHQ2SkWn5soYsX0r49lC6tXi40TAkhhC2TJMuODRwI7u5w6hTs3at1NEIIe7J4MSQkQK1a6sMS9PqU3qy5c9WB8ELYMkmy7FjevGCYX9UwOFUIIV5UXJw6wztYrhfLoFMnKFlSvTN6yRLL7luIzCZJlp0LDVUHwu/eDefOaR2NEMIerFmjJkEBAer8Vpak18PEiWp5zhx1klIhbJUkWXauRAkwLMk4b562sQghbF9ycspnyfDhalJkaV27QvHi6jI7WXyRDSGeSpKsbMDQnb92Lfzvf9rGIoSwbTt3wu+/g6cn9O1rnWM4Oqb0Zs2erV6eFMIWSZKVDdSpAy+/DPHxMsZBCPFiDNM2vPkm5MxpveN07w7+/uqaiDKpsrBVkmRlAzpdSm/W4sXw8KG28QghbNPx47B/v9rTFBJi3WM5OcGECWp51ix48MC6xxPCGiTJyibat4eiRdXLhevWaR2NEMIWGXqxOnaEIkWsf7xevdTPrZgYiIiw/vGEsDRJsrKJx795hoXJ5KRCiIz5+++U1SMMy3ZZm7MzjB+vlt9/Xx3yIIQtkSQrG+nfXx1Dce4cfPml1tEIIWzJwoWQlAT160PVqpl33D59oHBhuHoVVq7MvOMKYQmSZGUjnp4wYIBaNnT7CyHEs9y9mzL43NKTjz6LiwuMG6eWZ86UBe+FbZEkK5sJCVHntfn6a3W5HSGEeJaVK+HOHXUm9ubNM//4/furC97//TesXp35xxfieUmSlc34+amD4EF6s4QQz5aYCOHhannECHDQ4K+GqyuMHauW33tPXTNRCFsgSVY2ZOju/+QTuHZN21iEEFnb9u1w6RLkywc9e2oXx5tvgpcX/PUXfPyxdnEIkRGSZGVDNWqoE5QmJMCiRVpHI4TIygyLyw8eDO7u2sXh5gZjxqjlGTPUHjYhsjpJsrIpQ2/WsmWyAKsQIm2HD8ORI+pUCkOGaB0NDBwIBQrAhQsQGal1NEI8myRZ2VSrVuoCrLduyUBSIUTaDL1Y3bpBoULaxgLg4QFvvaWWpTdL2AJJsrIpvR5CQ9VyeLg6/40QQhhcuADbtqnlzJ624WmCg9XxYb//njI5qhBZlSRZ2VifPpAnD/zxB+zYoXU0QoisZP58SE6GoCAoX17raFLkyJEy4/y778oXRJG1SZKVjXl4qGMcQKZzEEKkuH07Za3AzFpCJyOGDFG/IP72G2zerHU0QqRPkqxsbtgwdbX7Awfg6FGtoxFCZAXLl6s3xJQvD40bax1NarlyqXN2gdqblZysbTxCpEeSrGzOxwc6d1bL0pslhEhIgAUL1PLIkaDTaRtPekJC1KXCzp6FrVu1jkaItEmSJYyDWjdvhsuXtY1FCKGtTZvUxZi9vKBrV62jSZ+nZ8rNO9OmSW+WyJokyRJUrgwNG6oDSA3fYIUQ2Y+ipPRoDx2qLs6clQ0fDjlzwi+/wGefaR2NEKlJkiWAlMGtH30EsbHaxiKE0Mb+/fDTT+rs6oMGaR3Ns+XJo142BLU3S1G0jUeIJ0mSJQB4/XUoXVpNsAx3FQkhshdDL1avXpA/v7axmGvECHVah5MnZSoakfVIkiUAcHBIGZs1f77MpCxEdvPbbylJimGsky3Il0+9tAnSmyWyHkmyhFH37uq6YH/9JXfrCJHdzJun/mzZEkqV0jaWjBo5Ul28+vhx+OILraMRIoUkWcLIzU1dsgLUNcvkG6EQ2cONG7BmjVrOSkvomKtAgZTPLunNElmJJFnCRHCwekfRjz/CoUNaRyOEyAxLl8LDh1C1KtSrp3U0z+ett9Qvij/8AHv2aB2NECpJsoSJggWhRw+1PHeutrEIIazv4UNYtEgtZ+XJR5/FyyvljsipU6U3S2QNkmSJVAzLVWzfDn/+qWkoQggrW78erl+HwoWhY0eto3kxo0eDqyscPgzffqt1NEJIkiXSULYsNG2qfhMMD9c6GiGEtTw++WhIiLqOqS3z9oY331TL0pslsgJJskSaDINfV66EW7e0jUUIYR179sCZM+DhkZKc2LoxY8DZWV30fv9+raMR2Z0kWSJNr70GFStCXBx8+KHW0QghrMHQi9WvH+TOrWkoFlO4MPTvr5anTdM2FiEkyRJp0ulSerMWLoRHj7SNRwhhWb/8ovZkOTioawDak7Fj1Uufe/eqPVpCaEWSLJGuLl3UMQ7XrsHGjVpHI4SwJMPko23bQrFi2sZiaUWLQt++all6s4SWJMkS6XJ2hmHD1HJYmAwiFcJexMRAZKRaNiwOb2/GjQNHR/j6a5nzT2hH8yRryZIlBAQE4OrqSrVq1TjwjL7dyMhIKlWqhLu7O97e3vTp04ebN28an69fvz46nS7Vo3nz5sY6d+/eJTQ0FD8/P9zc3AgMDOTo0aMmx1EUhXfeeQcfHx/c3NyoX78+Z86cseybtwEDB6rLVZw8qXa9CyFs3+LF6hCAWrXUhz3y91cXugZ4911NQxHZmKZJ1saNGwkNDWXixImcOHGCunXr0rRpUy5fvpxm/YMHD9KzZ0/69evHmTNn2Lx5M0ePHqW/YZQjsHXrVqKjo42P06dPo9fr6dChg7FO//79iYqK4uOPP+aXX34hKCiIRo0acfXqVWOd2bNnExYWxqJFizh69CiFChWicePG3L1713oNkgXlzQt9+qhlwyBZIYTtiotTZ3gH21xCJyMmTAC9Hr78Ul3FQojMpmmSFRYWRr9+/ejfvz9lypQhPDwcX19flho+AZ5w5MgR/P39CQkJISAggDp16jBw4ECOHTtmrJM3b14KFSpkfERFReHu7m5Msh48eMCnn37K7NmzefXVVylRogTvvPMOAQEBxuMqikJ4eDgTJ06kXbt2lC9fnjVr1hAXF8f69eut3zBZTGioOhB+1y44d07raIQQL2LtWrh5EwIC1PFY9qxYsZQVLGRsltCCZknWo0ePOH78OEFBQSbbg4KCOJTOBfTAwECuXLnC7t27URSFf/75hy1btphcCnxSREQEnTt3xsPDA4DExESSkpJwdXU1qefm5sbBgwcBuHjxIjExMSaxubi4UK9evXRjs2clSkDr1mpZJicVwnYlJ6cMeB8+XO3lsXcTJqh3UO7aBcePax2NyG4ctTrwjRs3SEpKwsvLy2S7l5cXMTExab4mMDCQyMhIOnXqxMOHD0lMTKRVq1YsXLgwzfo//vgjp0+fJiIiwrgtZ86c1KpVi3fffZcyZcrg5eXFJ598wg8//MBLL70EYDx+WrH99ddf6b6n+Ph44uPjjf+OjY0FICEhgYSEhHRf9zwM+7P0ftMTEqJj+3ZH1q5VmDIlkQIFMuWwFpHZbWXLpK3MZ4tttXOnjvPnHfH0VOjRI5HMCl3LtvL3h86d9axf78DUqcl8+mlSpseQEbZ4XmnFmm1lqX1qlmQZ6J5YjVRRlFTbDM6ePUtISAiTJ0+mSZMmREdHM3r0aAYNGmSSSBlERERQvnx5atSoYbL9448/pm/fvhQuXBi9Xk/VqlXp2rUrP/3003PHBjBz5kymTp2aavuePXtwd3dP93UvIioqyir7fZKiwEsvvcrvv+dh1Kg/6dz5t0w5riVlVlvZA2kr89lSW02aVBvIT4MGf3DgwNlMP75WbVW7dg4++aQhO3Y4sGjRfooVi9UkjoywpfNKa9Zoq7i4OIvsR7MkK3/+/Oj1+lS9VtevX0/Vg2Qwc+ZMateuzejRowGoWLEiHh4e1K1bl+nTp+Pt7W2sGxcXx4YNG5iWxoX44sWLs3//fu7fv09sbCze3t506tSJgIAAAAoVKgSoPVqP7/NpsQGMHz+ekY+NJI2NjcXX15egoCBy5cr1rCbJkISEBKKiomjcuDFOmbTg2L17Onr0gG++KcXy5cV54oprlqVFW9kqaSvz2Vpb/fQTnDnjhKOjQliYP0WK+GfasbNCW333ncLGjTq++64eQ4dm3d6srNBWtsKabWW4EvWiNEuynJ2dqVatGlFRUbR9bPRlVFQUrQ0DgJ4QFxeHo6NpyPr/BhUoT0zitGnTJuLj4+nevXu6MXh4eODh4cGtW7f46quvmD17NgABAQHGQfNVqlQB1DFk+/fvZ9asWenuz8XFBRcXl1TbnZycrPafxZr7flLnzjBxIly+rGPjRiceu6nTJmRmW9k6aSvz2UpbLVig/uzYUUdAgDbxatlWkyfDpk2wfbsDv/7qQIUKmoRhNls5r7ICa7SVpfan6d2FI0eOZMWKFaxcuZJz584xYsQILl++zKBBgwC1Z6hnz57G+i1btmTr1q0sXbqUCxcu8P333xMSEkKNGjXw8fEx2XdERARt2rQhX758qY771Vdf8eWXX3Lx4kWioqJo0KABpUqVos9/cxXodDpCQ0N577332LZtG6dPn6Z37964u7vTtWtXK7ZI1uboCCEhalkmJxXCdvz9t5pggP1P25CesmXBMJOPzJslMoumY7I6derEzZs3mTZtGtHR0ZQvX57du3fj5+cHQHR0tMmcWb179+bu3bssWrSIUaNGkTt3bho2bJiqd+n8+fMcPHiQPXv2pHncO3fuMH78eK5cuULevHl54403mDFjhknmOmbMGB48eEBwcDC3bt2iZs2a7Nmzh5w5c1qhJWxH//4wdao6lcOXX0LTplpHJIR4loULITER6tWDatW0jkY7b7+tJptbtsCZM1CunNYRCXun+cD34OBggoOD03xu9erVqbYNGzaMYYa1XtJRsmTJVJcPH9exY0c6duz41H3odDreeecd3nnnnafWy248PdVEa948tTdLkiwhsra7d2H5crVsr0vomKtCBWjXDrZuhRkzIBtOeygymebL6gjbM3y4Ou/M11/DqVNaRyOEeJqVK+HOHShZEp4ypWC2MWmS+nPDBvj1V21jEfZPkiyRYX5+0L69WjZMbCiEyHqSklImEB4xQv1ylN1VrqxOrqwoam+WENYk/+XEczFcdli/Hq5d0zYWIUTatm2DS5cgXz547B6ibM/Qm7V+Pfz+u7axCPsmSZZ4LjVqQO3akJAAixdrHY0QIi2GRd0HDwYrzYdsk6pVUy+dJifDe+9pHY2wZ5Jkiedm6M1auhTu39c2FiGEqcOH1YezMwwZonU0Wc/kyerPjz+GP//UNhZhvyTJEs+tVSsoXhxu3YI1a7SORgjxOEMvVrdu8N8iFuIxNWrA66+r49ZmztQ6GmGvJMkSz02vh9BQtTxvnvphJYTQ3sWL6jQFoA54F2kz9GatWaOOXRPC0iTJEi+kd2/InRv++AN27tQ6GiEEwPz56nijoCCy/PIxWqpVCxo1Uidqff99raMR9kiSLPFCcuSA/1ZBYu5cbWMRQsDt2xARoZaz6xI6GTFlivpz5Up4bIERISxCkizxwoYOVdc1PHAAjh7VOhohsrfly+HePXXJmKAgraPJ+urUgQYN1Duln1ihTYgXJkmWeGGFC0OXLmrZMNhWCJH5EhJgwQK1PHIk6HTaxmMrDGOzVqyAq1e1jUXYF0myhEUYLkts3ixd7kJoZdMmNUnw8lLvKhTmqV8fXn0VHj2S3ixhWZJkCYuoXBkaNlTvMDR8kxZCZB5FSelJHjIEXFy0jcfWGHqzli+H6GhtYxH2Q5IsYTGG3qyPPoLYWG1jESK72b8ffvoJXF3VGd5FxjRsCIGBEB8PH3ygdTTCXkiSJSymaVMoXVpNsAx3NwkhMoehF6tXL8ifX9tYbJFOl9KbtWwZ/POPtvEI+yBJlrAYB4eU3qz589W5Z4QQ1vfbb7Bjh1qWyUefX1AQ1KwJDx7AnDlaRyPsgSRZwqK6d4cCBeCvv1JmnBZCWFd4uPqzRQsoVUrTUGza471ZS5bA//6nbTzC9kmSJSzKzQ2Cg9Xy3LnqYFwhhPXcuAGrV6tlw6Lt4vk1bQrVqkFcnExJI16cJFnC4oKD1TubfvwRDh3SOhoh7NuyZfDwIVStCvXqaR2N7Xu8N2vRIrh5U9t4hG2TJEtYXMGC0KOHWpZvgkJYz8OHaiIAMvmoJbVsqU5Lc+8ezJundTTClkmSJazCMPh22zb4809tYxHCXn3yiXoXXOHC0LGj1tHYj8d7sxYsgFu3tI1H2C5JsoRVlC2rjm1QFPVOQyGEZT0++WhICDg5aRuPvWndGipUgLt35TNMPD9JsoTVGKZzWLlSvgkKYWlRUXD6NHh4wJtvah2N/XFwSOnNCg+H27e1jEbYKkmyhNW89hpUrAj378OHH2odjRD2Ze5c9We/fpA7t6ah2K127dRe+Tt3YOFCraMRtkiSLGE1Ol1Kb9bCheriq0KIF3f6NOzZo/a2DB+udTT2y8EBJk1Sy/PmyXJhIuMkyRJW1aULeHvDtWuwcaPW0QhhHwxjsdq2hWLFtI3F3nXooC4XdutWyp2cQphLkixhVc7OMHSoWg4Lk8lJhXhRMTEQGamWZfJR69Pr4e231fLcuepAeCHMJUmWsLpBg8DdHU6ehL17tY5GCNu2eLF66f2VV6BWLa2jyR46dYKXXoJ//4WlS7WORtgSSbKE1eXNC717q2WZnFSI5xcXl/JHXnqxMo+jI0ycqJbnzFFv5hHCHJJkiUwRGqoOhN+1C86d0zoaIWzT2rXqMi/+/tCmjdbRZC/duqnj3/73P3UpIyHMIUmWyBQvvQStWqnl8HBNQxHCJiUnpyzxEhqq9q6IzPN4b9YHH6i9ikI8iyRZItMYLm+sXat+GxRCmG/XLjh/Hjw9oW9fraPJnnr0AD8/dSmjjz7SOhphCyTJEpmmTh2oXl1d1FYGjwqRMYbxjG++CTlzahtLduXkBBMmqOVZs9TPMiGeRpIskWl0upTerMWL5QNKCHP99BPs26desho2TOtosrfevcHXF6KjYcUKraMRWZ0kWSJTvfGG+gF1/XrKXD9CiKcz9GJ17Kj+/xHacXaG8ePV8vvvQ3y8tvGIrE2SLJGpnJxSlgGRyUmFeLYrV1JWSzAsUyW01bcvFC4MV6/CqlVaRyOyMkmyRKbr318dU3L2LHz1ldbRCJG1LVwIiYlQrx5Uq6Z1NALAxQXGjVPLM2fKuqwifZJkiUzn6akmWqAuUyGESNvdu/Dhh2pZerGylv791XVZL1+GNWu0jkZkVZJkCU2EhKgr3H/9Nfz8s9bRCJE1rVoFd+6o88y1aKF1NOJxrq4wZoxafu89SEjQNh6RNUmSJTTh7w/t26tlWWpHiNSSklIm7h0xQv1SIrKWN98ELy+4dAk+/ljraERWJP9thWYMlz/Wr1dvhxZCpNi2DS5eVNf+7NVL62hEWtzdYfRotTxjhjp2TojHSZIlNFOzJtSurXazL1qkdTRCZC2GHt7Bg9U/5iJrGjQI8ueHCxfUL4xCPE6SLKEpw+Sky5bJyvZCGBw+rD6cnWHoUK2jEU/j4QFvvaWWp09XL/MKYSBJltBUq1ZQvDj8+6/coSOEgaEXq2tXKFRI21jEsw0ZAvnywe+/w4YNWkcjshLNk6wlS5YQEBCAq6sr1apV48CBA0+tHxkZSaVKlXB3d8fb25s+ffpw8+ZN4/P169dHp9OlejRv3txYJzExkbfffpuAgADc3NwoVqwY06ZNIzk52Vjnn3/+oXfv3vj4+ODu7s7rr7/O77//bvkGyOb0eggNVcvz5sFjvwIhsqWLF2HrVrUs0zbYhhw5Un5X0pslHvdCSdaDBw+IjY01eWTExo0bCQ0NZeLEiZw4cYK6devStGlTLl++nGb9gwcP0rNnT/r168eZM2fYvHkzR48epb9h0iVg69atREdHGx+nT59Gr9fToUMHY51Zs2axbNkyFi1axLlz55g9ezYffPABCxcuBEBRFNq0acOFCxf47LPPOHHiBH5+fjRq1Ij7ck3L4nr3hty54Y8/YMcOraMRQlvz56tfNho3hgoVtI5GmGvoUPVz7NdfYcsWraMRWUWGk6y4uDiGDh1KwYIFyZEjB3ny5DF5ZERYWBj9+vWjf//+lClThvDwcHx9fVm6dGma9Y8cOYK/vz8hISEEBARQp04dBg4cyLFjx4x18ubNS6FChYyPqKgo3N3dTZKsw4cP07p1a5o3b46/vz/t27cnKCjIuJ/ff/+dI0eOsHTpUl5++WVKlSrFkiVLuHfvHp988klGm0w8Q44c6uBRkOkcRPZ2+zZERKhlw3hFYRty5VKn2gB4913plRcqx4y+YPTo0ezdu5clS5bQs2dPFi9ezNWrV/nwww95//33zd7Po0ePOH78OOMMaxP8JygoiEOHDqX5msDAQCZOnMju3btp2rQp169fZ8uWLSaXAp8UERFB586d8fDwMG6rU6cOy5Yt4/z585QsWZJTp05x8OBBwv+blCb+vxU/XV1dja/R6/U4Oztz8OBBk56zx8XHxxtfCxh79hISEkiw8Ex1hv1Zer9aGTgQ5sxx5LvvdBw5kki1apZb1NDe2sqapK3MZ422WrbMgXv39JQtq9CgQaLdTHCZXc6rwYMhLMyRM2d0bNqUyBtvZPxzLLu0lSVYs60stc8MJ1k7duxg7dq11K9fn759+1K3bl1KlCiBn58fkZGRdOvWzaz93Lhxg6SkJLy8vEy2e3l5ERMTk+ZrAgMDiYyMpFOnTjx8+JDExERatWplvMz3pB9//JHTp08TYfhq+J+xY8dy584dSpcujV6vJykpiRkzZtClSxcASpcujZ+fH+PHj+fDDz/Ew8ODsLAwYmJiiH7KhE4zZ85k6tSpqbbv2bMHdyvdgx0VFWWV/WqhTp2q7Nvny5gxMYwaddzi+7entrI2aSvzWaqtEhN1zJnTGHCjYcOTfPFF2sMmbFl2OK9ef70UGzeWZvz4+7i47HvuSWSzQ1tZijXaKi4uziL7yXCS9e+//xIQEABArly5+PfffwG1d2jw4MEZDkCn05n8W1GUVNsMzp49S0hICJMnT6ZJkyZER0czevRoBg0alCqRArUXq3z58tSoUcNk+8aNG1m3bh3r16+nXLlynDx5ktDQUHx8fOjVqxdOTk58+umn9OvXj7x586LX62nUqBFNmzZ96nsZP348Ix8bqRobG4uvry9BQUHkypXL3CYxS0JCAlFRUTRu3BgnJyeL7lsrPj5QowYcOlSYVau8KFrUMvu1x7ayFmkr81m6rT75RMfNm454eSnMnFkeF5fyFogya8hO59Urr8Du3QqXLnmSlNScFi0y1puVndrqRVmzrTI6xjw9GU6yihUrxqVLl/Dz86Ns2bJs2rSJGjVqsGPHDnLnzm32fvLnz49er0/Va3X9+vVUvVsGM2fOpHbt2oz+b4rdihUr4uHhQd26dZk+fTre3t7GunFxcWzYsIFp06al2s/o0aMZN24cnTt3BqBChQr89ddfzJw5k17/Ta1crVo1Tp48yZ07d3j06BEFChSgZs2aVK9ePd335OLigouLS6rtTk5OVvvPYs19Z7aXX4aGDeHbb3UsW+bEBx9Ydv/21FbWJm1lPku0laKoA94BhgzRkSOHfbZ9djivvLzUtVlnzID33nPkjTcgnX6Dp8oObWUp1mgrS+0vwx2Zffr04dSpU4Dac7NkyRJcXFwYMWKEMfkxh7OzM9WqVUvVzRcVFUVgYGCar4mLi8Phib5XvV4PqD1gj9u0aRPx8fF0797d7P0kpzFS0dPTkwIFCvD7779z7NgxWrdu/ew3J56boSNw+XKw0BcJIbK8776Dn35SFx1+jgsCIosZMUKdpPTECdi5U+tohJYy3JM1wnD7BNCgQQN+/fVXjh07RvHixalUqVKG9jVy5Eh69OhB9erVqVWrFsuXL+fy5csM+u9Ws/Hjx3P16lXWrl0LQMuWLRkwYABLly41Xi4MDQ2lRo0a+Pj4mOw7IiKCNm3akC9fvlTHbdmyJTNmzKBo0aKUK1eOEydOEBYWRt++fY11Nm/eTIECBShatCi//PILw4cPp02bNgQFBWXoPYqMadoUSpdWb4OOiEi5W0cIezZ3rvqzVy91iRZh2/LlU6d0mDULpk2DFi2erzdL2L4M92StXbvW5A66okWL0q5dO8qUKWNMhszVqVMnwsPDmTZtGpUrV+a7775j9+7d+Pn5ARAdHW0yZ1bv3r0JCwtj0aJFlC9fng4dOlCqVCm2Gmbu+8/58+c5ePAg/fr1S/O4CxcupH379gQHB1OmTBneeustBg4cyLvvvmusEx0dTY8ePShdujQhISH06NFDpm/IBA4OKYnV/Pmy4Kqwf+fPp8wPJ18q7MeoUeqak8eOwRdfaB2N0IySQQ4ODso///yTavuNGzcUBweHjO7Ort25c0cBlDt37lh8348ePVK2b9+uPHr0yOL71lpcnKLkz68ooCgbN774/uy5rSxN2sp8lmqrQYPUc71FCwsFlgVl1/PqrbfU323NmoqSnGzea7JrWz0Pa7aVpf5+Z7gnS0nn7r8rV67g6elpgbRPZHdubhAcrJbnzlUHBQthj27cSFmzUyYftT9vvaWOs/vhB5AZGbIns8dkValSxbgO4GuvvYajY8pLk5KSuHjxIq+//rpVghTZT3CwOp7hxx/h0CGoXVvriISwvGXL4MEDqFIF6tXTOhphaV5e6moW4eEwdaq6VJKMzcpezE6y2rRpA8DJkydp0qQJOXLkMD7n7OyMv78/b7zxhsUDFNmTlxd0764Ofg8LkyRL2J/4eFi0SC2PGiV/fO3VmDGwdKn6ZfHbb+G117SOSGQms5OsKVOmAODv70+nTp1MlpwRwhpGjFCTrG3b4M8/oXhxrSMSwnLWr4d//oHChaFjR62jEdbi7Q1vvgkLF6p3GkqSlb1keExWr169JMESmaJcOXj9ddOJGoWwB4qSshh6SAjInJP2bcwYcHZW50Pbv1/raERmynCSlZSUxJw5c6hRowaFChUib968Jg8hLMkwGHjlSrh1S9tYhLCUqCg4fVqdsHLAAK2jEdZWpAgYZhRKY3lbYccynGRNnTqVsLAwOnbsyJ07dxg5ciTt2rXDwcGBd955xwohiuzstdegYkW4f1+dBV4Ie2DoxerXD/Lk0TYWkTnGjVN7LPfuhQMHtI5GZJYMJ1mRkZF89NFHvPXWWzg6OtKlSxdWrFjB5MmTOXLkiDViFNmYTpey1M6CBfDokbbxCPGiTp+Gr75SJ94dPlzraERmKVoU+vRRy4/Ney3sXIaTrJiYGCpUqABAjhw5uHPnDgAtWrRg165dlo1OCKBzZyhUCK5dg02btI5GiBczb576s21bKFZM21hE5ho/Hhwd1cvFhw9rHY3IDBlOsooUKUJ0dDQAJUqUYM+ePQAcPXoUFxcXy0YnBODiAsOGqWWZnFTYspgYWLdOLRt6aEX24e8PPXuq5WnTNA1FZJIMJ1lt27blm2++AWD48OFMmjSJl156iZ49e5ossCyEJQ0cqM4Ef/Ik7NundTRCPJ8lS9RL3q+8AoGBWkcjtDBhAuj18OWX6mTLwr6ZPU+Wwfvvv28st2/fHl9fX77//ntKlChBq1atLBqcEAb58qnjGZYsUXuzGjTQOiIhMiYuTj1/QXqxsrPixdWJltesUcdmGRYHF/Ypwz1ZT6pZsyYjR46kVatWHD161BIxCZGm0FB1IPyuXfDrr1pHI0TGfPwx3LypXjJq21braISWJk5Ub3zYuROOH9c6GmFNGU6y7t27x4MHD0y2nTx5kpYtW/LKK69YLDAhnvTSS2DoLDUMHhbCFiQnp0zbMHy4OvhZZF8vvQRdu6pludPQvpmdZF25coXatWvj6emJp6cnI0eOJC4ujp49e/Lyyy/j4uLCwYMHrRmrEMbJSdeuhf/9T9tYhDDX7t1w/jzkypUyKaXI3iZOVHvmP/tMHWsq7JPZSda4ceO4d+8e8+fPp3bt2syfP5+6devi6OjI+fPn2bJlC7Vq1bJmrEJQpw5Urw4PH6qLrgphC+bOVX+++SbkzKltLCJrKF0aOnVSy9OnaxuLsB6zk6y9e/eyZMkShg4dyieffIKiKHTo0IGVK1cSEBBgzRiFMNLpUnqzFi9Wky0hsrKfflLviNXr1XUKhTB4+231M+3TT+GXX7SORliD2UlWTEwMxYsXB6BQoUK4ubnRunVrqwUmRHreeAN8feH6dYiM1DoaIZ7OMBarY0f1vBXCoFw5aN9eLUtvln3K0MB3vV6f8kIHB1xdXS0ekBDP4uSUshxJWJhMTiqyritXYONGtSzTNoi0vP22+nPzZjh7VttYhOWZnWQpisJrr71G1apVqVq1Kg8ePKBly5bGfxseQmSG/v3VsS1nz6rrwAmRFS1cCImJ8Oqr6lhCIZ5UsaI6pYeiSG+WPTL7RuIpU6aY/FsuFQoteXqqida8eWpv1uuvax2REKbu3oUPP1TLhnGEQqRl8mTYtg02bFDXNxT247mTLCG0FhIC8+eri63+/LP6jVCIrGLVKrhzR50TqUULraMRWVnlyuocgJ9/DrNm6enQQeuIhKW80Izv77//Prdv37ZQKEJkjL9/yqBRmZxUZCVJSRAerpZHjFBn9xbiaSZNUn9+8omO6GgPbYMRFvNC//Xfe+89/v33X0vFIkSGGQYTR0ZCdLS2sQhhsH07XLwIefNCr15aRyNsQfXq0KwZJCfr2Ly5pNbhCAt5oSRLkdu6hMZq1oTatSEhQZ03S4iswDD56ODB4O6ubSzCdkyerP7ct68IFy5oG4uwDOnEFjbP0Ju1dCncv69tLEIcPqw+nJ1h6FCtoxG2pGZNCApKJjnZgdmz9c9+gcjyXijJOnv2LH5+fpaKRYjn0ro1FCsG//6rrmkohJYMk4927QqFCmkbi7A9EycmA7B2rY5Ll7SNRby4F0qyfH19TSYoFUILej2EhqrlefMgOVnTcEQ2dvEibN2qlmXyUfE8atVSqFTpOomJOt5/X+toxIvKcJKVlJTEnDlzqFGjBoUKFSJv3rwmDyG00KcP5M4Nv/8OO3ZoHY3IrubPV5P8xo2hQgWtoxG2qmPH3wBYuRL+/lvjYMQLyXCSNXXqVMLCwujYsSN37txh5MiRtGvXDgcHB9555x0rhCjEs+XIAQMHqmXD5RohMtPt2xARoZZl8lHxIsqV+5d69ZJJSIBZs7SORryIDCdZkZGRfPTRR7z11ls4OjrSpUsXVqxYweTJkzly5Ig1YhTCLMOGgaMjfPcdHDumdTQiu/noI7h3T130NyhI62iErTOMzfroI7h6VeNgxHPLcJIVExNDhf/6wXPkyMGdO3cAaNGiBbt27bJsdEJkQOHC0LmzWpbeLJGZEhJgwQK1PHIk6HTaxiNsX716CnXrwqNHMHu21tGI55XhJKtIkSJE/zfrY4kSJdizZw8AR48excXFxbLRCZFBhsHGmzbB5cvaxiKyj82b4coVKFhQvatQiBel06XMm7V8uUy2bKsynGS1bduWb775BoDhw4czadIkXnrpJXr27Enfvn0tHqAQGVGlCjRooC5rsnCh1tGI7EBRUiYfHToUXF21jUfYj9deg1q14OFD+OADraMRz8PsBaIN3n/sntL27dvj6+vL999/T4kSJWjVqpVFgxPieYwaBXv3qt/+Jk0CNzetIxL27MABHT/9pCZXgwZpHY2wJzodTJkCr78Oy5bB2LHg5aV1VCIjMtyT9d1335GYmGj8d82aNRk5ciTNmjXju+++s2hwQjyPpk2hVCmIjVVvgRbCmsLD1Y/RXr2gQAGNgxF2JygIatSABw9SekyF7chwktWgQYM0F4W+c+cODRo0sEhQQrwIB4eUsVnh4fDYdwIhLOrqVQ927VJHuRsmxBXCkh4fm7V4Mfzvf9rGIzImw0mWoijo0rh15ubNm3h4eFgkKCFeVI8ekD8//PUXbN8ut3oJ69ixoziKoqNFCyhdWutohL1q1gyqVYO4OLlz2taYPSarXbt2AOh0Onr37m1yJ2FSUhI///wzgYGBlo9QiOfg5gbBwTBtmno5Z/x4rSMS9ubmTfj2W19AltAR1mXozWrdGhYtgrfegnz5tI5KmMPsnixPT088PT1RFIWcOXMa/+3p6UmhQoV48803WbdunTVjFSJDgoPBxQV+/NGB337Lo3U4ws4sX+7Ao0eOVK6sUL++1tEIe9eyJVSqpE54Gx6udTTCXGb3ZK1atQoAf39/3nrrLbk0KLI8Ly/o3l1d6mT79hLS2yAsJj4eli5Vv6MOH56ETpfhG7WFyBBDb9Ybb6gT344cCXnku2OWl+ExWVOmTJEES9iMESPUnz/84M2ff2obi7Afn3wCMTE68uV7QIcOitbhiGyiTRt14fHYWHUxcpH1ZTjJAtiyZQsdO3bklVdeoWrVqiYPIbKScuWgSZNkFEXHokXPdboLYUJRUgYfN29+AWdnbeMR2YeDgzr3H6iXDP9b1U5kYRn+q7NgwQL69OlDwYIFOXHiBDVq1CBfvnxcuHCBpk2bZjiAJUuWEBAQgKurK9WqVePAgQNPrR8ZGUmlSpVwd3fH29ubPn36cPPmTePz9evXR6fTpXo0b97cWCcxMZG3336bgIAA3NzcKFasGNOmTSM5OdlY5969ewwdOpQiRYrg5uZGmTJlWLp0aYbfn9BeaKj6e1292oFbtzQORti8r7+GX34BDw+FoKC/tA5HZDNvvAFly6oJlqxqkfVlOMlasmQJy5cvZ9GiRTg7OzNmzBiioqIICQkxLhZtro0bNxIaGsrEiRM5ceIEdevWpWnTplxOZ9G5gwcP0rNnT/r168eZM2fYvHkzR48epX///sY6W7duJTo62vg4ffo0er2eDh06GOvMmjWLZcuWsWjRIs6dO8fs2bP54IMPWPjYGTtixAi+/PJL1q1bx7lz5xgxYgTDhg3js88+y2CLCa01bKjg73+H+/d1LF+udTTC1hkmhOzdO5kcORK0DUZkOw4O8PbbajksTL10KLKuDCdZly9fNk7V4Obmxt27dwHo0aMHn3zySYb2FRYWRr9+/ejfvz9lypQhPDwcX1/fdHuMjhw5gr+/PyEhIQQEBFCnTh0GDhzIsWPHjHXy5s1LoUKFjI+oqCjc3d1NkqzDhw/TunVrmjdvjr+/P+3btycoKMhkP4cPH6ZXr17Ur18ff39/3nzzTSpVqmRSR9gGnQ5atVIHZC1YoK5qL8TzOH0avvpKPaeGDUt+9guEsIKOHdVVLW7dUicoFVlXhm+JKVSoEDdv3sTPzw8/Pz+OHDlCpUqVuHjxIopi/gDQR48ecfz4ccaNG2eyPSgoiEOHDqX5msDAQCZOnMju3btp2rQp169fZ8uWLSaXAp8UERFB586dTQbr16lTh2XLlnH+/HlKlizJqVOnOHjwIOGP3Rdbp04dPv/8c/r27YuPjw/79u3j/PnzzH/KaMP4+Hji4+ON/4797ytGQkICCQmW/cZr2J+l92uPEhISqFv3Khs3VuHaNR3r1yfSrZsMVk6LnFdPN3euHnCgdetkfH0T+PVXaStzyHllPnPbatw4HX36ODJ3rsKgQYnkyJEZ0WUt1jyvLLXPDCdZDRs2ZMeOHVStWpV+/foxYsQItmzZwrFjx4wTlprjxo0bJCUl4fXEapdeXl7ExMSk+ZrAwEAiIyPp1KkTDx8+JDExkVatWplc5nvcjz/+yOnTp4mIiDDZPnbsWO7cuUPp0qXR6/UkJSUxY8YMunTpYqyzYMECBgwYQJEiRXB0dMTBwYEVK1ZQp06ddN/TzJkzmTp1aqrte/bswd3dPd3XvYioqCir7NfeODlBo0bniIwsy7vv3iN37v2ksXCB+I+cV6ndvu3CunWNAXjllYNERakD/KStzCdtZb5ntVWuXDq8vRsSHZ2D0NDztGv3RyZFlvVY47yKi4uzyH4ynGQtX77cOEB80KBB5M2bl4MHD9KyZUsGPccS9E8u0ZPesj0AZ8+eJSQkhMmTJ9OkSROio6MZPXo0gwYNSpVIgdqLVb58eWrUqGGyfePGjaxbt47169dTrlw5Tp48SWhoKD4+PvTq1QtQk6wjR47w+eef4+fnx3fffUdwcDDe3t40atQozfjGjx/PyMcmY4qNjcXX15egoCBy5cqVoXZ5loSEBKKiomjcuDFOTk4W3be9MbTVzJn+bN2qcOFCbjw8mlO/vvRmPUnOq/S9844DiYl6atRIZsSIWiQmSluZS84r82WkrW7d0tG/P3zxRVnmzy9JdptdyZrnVaylBrspFnTlyhWz68bHxyt6vV7ZunWryfaQkBDl1VdfTfM13bt3V9q3b2+y7cCBAwqgXLt2zWT7/fv3lVy5cinh4eGp9lOkSBFl0aJFJtveffddpVSpUoqiKEpcXJzi5OSk7Ny506ROv379lCZNmpj3BhVFuXPnjgIod+7cMfs15nr06JGyfft25dGjRxbft715vK2CgxUFFKVFC62jyprkvErb/fuKki+feu5s2qRuk7Yyn7SV+TLSVo8eKUqxYup5OXduJgSXxVjzvLLU32+LTBwUExPDsGHDKFGihNmvcXZ2plq1aqm6+aKiotJdAzEuLg4HB9OQ9Xo9QKrxYJs2bSI+Pp7u3bubvR9DD51hDNXT6gjbFBqqDlreuRN+/VXraISt+Phjda1CPz9o21braIRQOTnBhAlqefZsePBA23hEamYnWbdv36Zbt24UKFAAHx8fFixYQHJyMpMnT6ZYsWIcOXKElStXZujgI0eOZMWKFaxcudI4TcLly5eNlx3Hjx9Pz549jfVbtmzJ1q1bWbp0KRcuXOD7778nJCSEGjVq4OPjY7LviIgI2rRpQ740VtFs2bIlM2bMYNeuXVy6dIlt27YRFhZG2/8+PXPlykW9evUYPXo0+/bt4+LFi6xevZq1a9ca6wjb9NJL0KqVWpb1v4Q5kpNTJh8NDQVHWUFHZCE9eqjJ/z//IFPUZEXmdnkNHjxYKVKkiDJq1CilXLlyioODg9K0aVOlQYMGyr59+567K23x4sWKn5+f4uzsrFStWlXZv3+/8blevXop9erVM6m/YMECpWzZsoqbm5vi7e2tdOvWLdVlyt9++00BlD179qR5zNjYWGX48OFK0aJFFVdXV6VYsWLKxIkTlfj4eGOd6OhopXfv3oqPj4/i6uqqlCpVSpk7d66SnJxs9nuTy4VZw5NttX+/2r3u6qoo169rHFwWI+dVajt2qOdLrlyKEhubsl3aynzSVuZ7nrb68EP1HPX2VpQHD6wYXBZjC5cLzU6yihYtqkRFRSmKoih//vmnotPplOHDh7/Qwe2dJFlZw5NtlZysKNWrqx9K06ZpHFwWI+dVavXrq+fKW2+Zbpe2Mp+0lfmep60ePlQUX1/1PH1iuLFds4Uky+zLhdeuXaNs2bIAFCtWDFdXV5OZ1oWwFTqduoI9wKJF8PChtvGIrOunn2DfPtDrISRE62iESJuLCximnHz/fXhsukahMbOTrOTkZJNbJPV6vckEn0LYkvbtwdcXrl+H9eu1jkZkVYaxWB07queLEFlV377g4wNXrsCqVVpHIwzMHsKpKAq9e/fGxcUFgIcPHzJo0KBUidbWrVstG6EQVuDkpPZMjB6t/iHt0weZnFSYuHIFNm5Uy49NfydEluTqqvZmhYTAzJlq0uXsrHVUwuyerF69elGwYEE8PT3x9PSke/fu+Pj4GP9teAhhKwYMgBw54MwZdT06IR63cCEkJsKrr0L16lpHI8Sz9e8PhQrB5cuwdq3W0QjIQE/WKul/FHbG01P9UAoPV3uzXn9d64hEVnHvHnz4oVoeNUrbWIQwl5sbjBmj9rzOmAG9eqm99kI7FpmMVAhbNXw4ODhAVBT8/LPW0YisYuVKuHNHnVetRQutoxHCfAMHQsGCcOkSrFundTRCkiyRrfn7wxtvqOV58zQNRWQRSUkpE9WOGKEm4ULYCnd3dawpqL1ZiYnaxpPdyceHyPYMl4MiIyE6WttYhPa2b4eLFyFvXvVyixC2ZtAgyJ8f/vxT7p7WmiRZIturWRMCAyEhARYv1joaoTXDtA2DB6u9AkLYmhw5Ur48Tp+u9s4KbUiSJQQpH0hLl8L9+9rGIrRz5AgcOqTe+j5kiNbRCPH8hgxRe2N//z1lKhKR+cy6u/Dzzz+nadOmODk58fnnnz+1bivD6rtC2JDWraFYMbhwQb31efBgrSMSWjD0YnXtCt7e2sYixIvImVO9y/Dtt9XerE6d1JULROYyK8lq06YNMTExFCxYkDZt2qRbT6fTkST9ksIG6fUQGqpO5DdvnnqHjgx4zl4uXoRPP1XLI0ZoG4sQljB0KMyZA+fOwZYtaqIlMpdZf0aSk5MpWLCgsZzeQxIsYcv69IHcudXu9Z07tY5GZLYFCyA5GRo3hooVtY5GiBfn6ZnyheHdd9XzW2Qu+a4uxH9y5FB7sADmztU2FpG5bt+GFSvUsiyhI+xJSAjkyqWubLFtm9bRZD9mz/j+uPv377N//34uX77Mo0ePTJ4LkaXqhQ0bNkxNsL77Do4dk+VUsosVK9RZ3suWhSZNtI5GCMvJnVuddPndd2HaNGjbVoZCZKYMJ1knTpygWbNmxMXFcf/+ffLmzcuNGzdwd3enYMGCkmQJm1a4MHTurM6UHBYmc8xkBwkJMH++Wh45UhYKF/YnNFSdYPfnn+Hzz+EpQ6uFhWU4nx0xYgQtW7bk33//xc3NjSNHjvDXX39RrVo15syZY40YhchUhstFmzbB339rG4uwvi1b4MoVdSmSbt20jkYIy8ubV+2lB7U3S1G0jSc7yXCSdfLkSUaNGoVer0ev1xMfH4+vry+zZ89mwoQJ1ohRiExVpQo0aKBO4LdggdbRCGtSlJTxd0OGgKurtvEIYS0jRoCHB5w4Abt2aR1N9pHhJMvJyQndf/3pXl5eXL58GQBPT09jWQhbZ5icdPlyuHtX21iE9Rw4AMePq8mVzI0m7Fn+/CkT7E6dKr1ZmSXDSVaVKlU4duwYAA0aNGDy5MlERkYSGhpKhQoVLB6gEFpo2hRKlYLYWIiI0DoaYS2GXqyePaFAAW1jEcLaRo1Sl4o6dgy+/FLraLKHDCdZ7733Ht7/TYX87rvvki9fPgYPHsz169dZvny5xQMUQgsODiljs+bPl5Xs7dH587Bjh1qWyUdFdlCwYEqPrfRmZY4MJ1nVq1enQYMGABQoUIDdu3cTGxvLTz/9RKVKlSweoBBa6dFD7WK/dEnml7FH4eHqH5nmzaF0aa2jESJzvPWWenn8hx8gKkrraOyfzJYhRDrc3CA4WC0b1rQT9uHmTVi9Wi0bxt8JkR0UKpQy6bL0ZlmfWfNkValSxTjY/Vl++umnFwpIiKwkOBhmzYIjR+DQIQgM1DoiYQnLlsGDB1C5MtSvr3U0QmSuMWPU/wOHDsHevdCwodYR2S+zF4gWIjvy8oLu3dXB72FhkmTZg/h4WLRILY8aJZOPiuzHxwcGDFD/H0ybJkmWNZmVZE2ZMsXacQiRZY0YoSZZ27bBhQtQrJjWEYkX8cknEBOj/qHp2FHraITQxtix6hQ1+/erj3r1tI7IPsmYLCGeoVw5eP11dQV7w/IrwjYpSsr4upAQcHbWNh4htFKkCPTrp5anTdM2FntmVpJlWJ8QIE+ePOTNmzfdhxD2yDCdQ0QE3LqlbSzi+X39Nfzyizrz9Ztvah2NENoaNw6cnODbb+HgQa2jsU9mXS6cN28eOXPmBCA8PNya8QiRJTVqBBUqqH+gP/pIHTgqbI9h8tG+fSFPHm1jEUJrRYtC797qZ9q0abBnj9YR2R+zkqxevXqlWRYiu9Dp1N6sPn3U9QxDQ+VSk605fRq++kr9XYaGah2NEFnD+PGwapU6Z9bhw1CrltYR2RcZkyWEmbp0UeeYuXoVNm/WOhqRUfPmqT/btpWbF4QwCAhQl5UCePddbWOxR2YnWQ4ODuj1+qc+HB3N6hgTwia5uMDQoWp57lyZxM+W/PMPrFunlmXyUSFMTZgAej188QUcPap1NPbF7Kxo21PWFTl06BALFy5Ekb86ws4NGgQzZsCJE7BvH/y3wpTI4hYvhkePoGZNuRwixJOKF4du3WDtWnVslmFNT/HizE6yWrdunWrbr7/+yvjx49mxYwfdunXjXelrFHYuXz51oOjSpepUAJJkZX0PHsCSJWpZJh8VIm0TJ6q9vTt3wk8/QdWqWkdkH55rTNa1a9cYMGAAFStWJDExkZMnT7JmzRqKFi1q6fiEyHJCQ9U/1Dt3wq+/ah2NeJa1a9W1Cv381PFYQojUSpZUx52CjM2ypAwlWXfu3GHs2LGUKFGCM2fO8M0337Bjxw7Kly9vrfiEyHJKloSWLdWyzGiStSUnpwx4Dw0FGTYqRPomTlS/QG7fDqdOaR2NfTA7yZo9ezbFihVj586dfPLJJxw6dIi6detaMzYhsizD4Ok1a+B//9M2FpG+3bvht98gVy51biwhRPrKlElZakp6syzD7O9148aNw83NjRIlSrBmzRrWrFmTZr2tW7daLDghsqq6daFaNTh+XF3NftIkrSMSaTEsofPmm2qiJYR4ukmTYONG+PRTdW45uVD1YszuyerZsycdO3Ykb968eHp6pvsQIjvQ6VJ6sxYtgocPtY1HpHbiBOzdq96aPmyY1tEIYRvKlYP27dXy9OnaxmIPzO7JWr16tRXDEML2tG+vrmT/99+wfr1cjspqDL1YHTuqy4cIIcwzaRJs2QKbNsHkyVC2rNYR2S6Z8V2I5+TkBCEhajksTCYnzUquXIENG9SyYXFvIYR5KlZU78RVFHVeQPH8JMkS4gUMGAA5csCZM7K4alayaBEkJsKrr0L16lpHI4TtMYwz3bBBvXlEPB9JsoR4AZ6e0L+/Wp47V9tYhOrePfjwQ7UsvVhCPJ8qVdSpapKTpTfrRWieZC1ZsoSAgABcXV2pVq0aBw4ceGr9yMhIKlWqhLu7O97e3vTp04ebN28an69fvz46nS7Vo3nz5sY6iYmJvP322wQEBODm5kaxYsWYNm0aycnJxjpp7UOn0/HBBx9YvhGETRs+HBwc1FXsf/lF62jEqlVw+zaUKJEyn5kQIuMmT1Z/RkbCH39oG4ut0jTJ2rhxI6GhoUycOJETJ05Qt25dmjZtyuXLl9Osf/DgQXr27Em/fv04c+YMmzdv5ujRo/Q3dCWgTiERHR1tfJw+fRq9Xk+HDh2MdWbNmsWyZctYtGgR586dY/bs2XzwwQcsXLjQWOfxfURHR7Ny5Up0Oh1vvPGG9RpE2CR/fzCcFobB1kIbSUkpE8SOGKEmv0KI51O9OjRrpvZmvfee1tHYJk0/gsLCwujXrx/9+/enTJkyhIeH4+vry9KlS9Osf+TIEfz9/QkJCSEgIIA6deowcOBAjh07ZqyTN29eChUqZHxERUXh7u5ukmQdPnyY1q1b07x5c/z9/Wnfvj1BQUEm+3l8H4UKFeKzzz6jQYMGFCtWzHoNImyWYTqHyEiIjtY2luzss8/gwgXImxd69dI6GiFsn2Fs1tq1cPGitrHYIs2SrEePHnH8+HGCgoJMtgcFBXHo0KE0XxMYGMiVK1fYvXs3iqLwzz//sGXLFpNLgU+KiIigc+fOeHh4GLfVqVOHb775hvPnzwNw6tQpDh48SLNmzdLcxz///MOuXbvo169fRt+myCZq1oTAQEhIgMWLtY4m+zKMixs0CB77Ly+EeE6vvAJBQWovsfRmZZxmK3nduHGDpKQkvLy8TLZ7eXkRExOT5msCAwOJjIykU6dOPHz4kMTERFq1amVyme9xP/74I6dPnyYiIsJk+9ixY7lz5w6lS5dGr9eTlJTEjBkz6GJYHfMJa9asIWfOnLRr1+6p7yk+Pp74+Hjjv2NjYwFISEggISHhqa/NKMP+LL1fe5RZbTV8uI5DhxxZulRh9OhE3N2tejirsOXz6ocf1PZ3clIYODARa78FW26rzCZtZb6s2FYTJujYs8eR1asVxo5NxM9P64hU1mwrS+1T8+VSdTqdyb8VRUm1zeDs2bOEhIQwefJkmjRpQnR0NKNHj2bQoEGpEilQe7HKly9PjRo1TLZv3LiRdevWsX79esqVK8fJkycJDQ3Fx8eHXmlcY1i5ciXdunXD1dX1qe9l5syZTJ06NdX2PXv24G6lv7hRUVFW2a89snZbOTqCl1cj/vnHg7Fjz9K06SWrHs+abPG8mj27OlCYOnX+5sSJE5w4kTnHtcW20oq0lfmyWltVrBjIzz8XYNiwKwwa9LPW4ZiwRlvFxcVZZD86RdFmCsVHjx7h7u7O5s2badu2rXH78OHDOXnyJPv370/1mh49evDw4UM2b95s3Hbw4EHq1q3LtWvX8Pb2Nm6Pi4vD29ubadOmMXz4cJP9+Pr6Mm7cOIYMGWLcNn36dNatW8evv/5qUvfAgQO8+uqrnDx5kkqVKj31PaXVk+Xr68uNGzfIZeGF0xISEoiKiqJx48Y4OTlZdN/2JjPbavFiB0aM0FOihMLp04k2N/DaVs+rS5egdGlHkpN1HDuWQMWK1j+mrbaVFqStzJdV2+rAAR2vvab2FP/6ayK+vlpHZN22io2NJX/+/Ny5c+eF/n5r1pPl7OxMtWrViIqKMkmyoqKiaN26dZqviYuLw9HRNGS9Xg+oPWCP27RpE/Hx8XTv3j3N/Tg88ddPr9ebTOFgEBERQbVq1Z6ZYAG4uLjg4uKSaruTk5PV/rNYc9/2JjPaqn9/mDoV/vhDx1dfOdGqlVUPZzW2dl4tWaLeAdWoEVSrlrlx21pbaUnaynxZra0aNoR69WD/fh1hYU4sWqR1RCms0VaW2p+m37NHjhzJihUrWLlyJefOnWPEiBFcvnyZQYMGATB+/Hh69uxprN+yZUu2bt3K0qVLuXDhAt9//z0hISHUqFEDHx8fk31HRETQpk0b8uXLl+q4LVu2ZMaMGezatYtLly6xbds2wsLCTJI9UDPZzZs3m0wRIcTT5MgBAweqZZnOIXPcuQMrVqhlw12eQgjLmzJF/fnRR3D1qrax2ApNx2R16tSJmzdvMm3aNKKjoylfvjy7d+/G779RddHR0SZzZvXu3Zu7d++yaNEiRo0aRe7cuWnYsCGzZs0y2e/58+c5ePAge9JZ52ThwoVMmjSJ4OBgrl+/jo+PDwMHDmSyYea1/2zYsAFFUdIdEC9EWoYOVe9y278fjh+HatW0jsi+ffSROst72bLQpInW0Qhhv+rXhzp14OBB+OCDlDnpRPo0H/geHBxMcHBwms+tXr061bZhw4YxbNiwp+6zZMmSqS4fPi5nzpyEh4cT/owz5M033+TNN998ah0hnlSkCHTuDOvWqb1ZkZFaR2S/EhJgwQK1PHIkpHPPjBDCAnQ6dRb4oCB16aqxY+GxodAiDTY2LFcI22BYM2/jRvj7b21jsWdbtqjtW7AgdOumdTRC2L9GjdS5sx4+hDlztI4m65MkSwgrqFIFGjRQJ/BLZxo38YIUJWXc25Ah8IwZVoQQFqDTpYzNWroUrl/XNp6sTpIsIazE0Ju1fDncvattLPbowAE4dkxNrgYP1joaIbKPJk3g5ZfhwQPpzXoWSbKEsJJmzaBUKfXut5UrtY7G/hiW0OnZEwoU0DYWIbITw9gsUJcR+9//tI0nK5MkSwgrcXCAESPUcng4JCZqGo5dOX8eduxQy4Y2FkJknubNoWpViIuDefO0jibrkiRLCCvq2RPy5VNnJN++Xeto7Ed4uDomq3lzKF1a62iEyH4e781auBD+/VfbeLIqSbKEsCI3NzDMUGK4vCVezM2bYJjdRSYfFUI7rVpBpUrqPHXSm5U2SbKEsLIhQ8DZGY4cgcOHtY7G9i1bpg64rVxZnRxRCKENnQ4mTVLLCxbArVvaxpMVSZIlhJV5eYFhCU3pzXox8fEY10wbNUomHxVCa23bQvnyEBubMjGwSCFJlhCZwDCdw7ZtcOGCtrHYsk8+gZgY8PGBjh21jkYI4eCQ0psVHq7eTS1SSJIlRCYoV06dWyY5GebP1zoa2/T45KMhIeolWCGE9t54A8qUgdu3ZfLlJ0mSJUQmMQzSjoiQsQvP4+uv4ZdfwMMDZElRIbIOvT6lNyssTCZffpwkWUJkkkaNoEIFuH8fPvpI62hsj6EXq29fyJNH21iEEKY6doSSJdUvkIsXax1N1iFJlhCZRKdLGZu1YAE8eqRtPLbkzBn48ku1DYcP1zoaIcST9Hp4+221PGeOOq2DkCRLiEzVpQsUKgRXr8LmzVpHYzsMc/C0bQvFi2sbixAibV26QIkS6lx2S5dqHU3WIEmWEJnIxQWGDlXLc+eqg7nF0/3zD3z8sVo29AQKIbIeR0eYOFEtf/CBuuROdidJlhCZbNAgdSb4Eydg/36to8n6lixRL63WrAmBgVpHI4R4mm7dICBAXTR62TKto9GeJFlCZLJ8+aB3b7Usk5M+3YMHapIFai+WTD4qRNbm5AQTJqjl2bPV/8PZmSRZQmggNFRNGHbuhN9+0zqarOvjj+HGDfDzg3bttI5GCGGOnj3V/7P//CN3UkuSJYQGSpaEli3Vsiysmrbk5JRpG4YPV8d7CCGyPmdnGD9eLc+aBQ8fahuPliTJEkIjhslJ16xRe2uEqS++UHv5cuWCfv20jkYIkRG9e0ORInDtmjoBc3YlSZYQGqlbF6pVU7/lye3OqRnGqw0YoCZaQgjb4eIC48ap5fffVxd3z44kyRJCIzpdSm/WokXZu0v9SSdOwN696gSHISFaRyOEeB79+qmLuV+5AqtXax2NNiTJEkJD7durXerXr8P69VpHk3UYxmJ16ABFi2obixDi+bi6wtixavm997LnKheSZAmhISenlGViwsJkclJQZ8PfsEEtG3r6hBC2acAAdZWLy5dh7Vqto8l8kmQJobH+/SFHDnV9vj17tI5GewsXQmKiOmatenWtoxFCvAg3NxgzRi2/9x4kJGgbT2aTJEsIjeXOrSZakHKZLLu6dw8+/FAtSy+WEPZh4EAoWBAuXoTISK2jyVySZAmRBYSEgIOD2pP1yy9aR6OdVavg9m11kdkWLbSORghhCe7u8NZbann6dLWnOruQJEuILCAgAN54Qy1n18lJk5IgPFwtjxih3lkohLAPgwdD/vzw55/wySdaR5N5JMkSIosYOVL9GRkJMTHaxqKFzz6DCxcgTx7o1UvraIQQlpQjR8oQgOnT1S9V2YEkWUJkEa+8AoGB6m3OixdrHU3mM4xHGzwYPDy0jUUIYXlDhkDevHD+PGzcqHU0mUOSLCGyEENv1tKlEBenbSyZ6Ycf4Pvv1SkthgzROhohhDXkzKkOBYDs05slSZYQWUibNur4rJs3s9ecMoZerK5d1RmihRD2adgw9Y7qc+fg00+1jsb6JMkSIgvR6yE0VC3PmwfJyZqGkykuXYItW9SyoSdPCGGfPD1TPuPefdf+P+MkyRIii+nbV/0gOn8edu3SOhrrmz9f/aBt1AgqVtQ6GiGEtYWEqIu+nz4N27ZpHY11SZIlRBaTI4c6eR/A3LnaxmJtd+7AihVqWSYfFSJ7yJMnZeH3adPsuzdLkiwhsqBhw8DREfbvh+PHtY7Gej76SJ3lvWxZaNJE62iEEJllxAj1C+XPP8OOHVpHYz2SZAmRBRUpAp06qWV7XWonIQEWLFDLI0eCTqdtPEKIzJM3r/plEmDqVFAUbeOxFkmyhMiiDJfPNm6Ev//WNhZr2LJFfV8FC0K3blpHI4TIbCNHqnPinThhv+NPJckSIouqUgUaNFDnklm4UOtoLEtRUnrohgwBV1dt4xFCZL78+SE4WC1Pm2afvVmSZAmRhRmmNFi+HO7e1TYWSzpwAI4dU5OrwYO1jkYIoZW33gI3Nzh6FL76SutoLE+SLCGysGbNoFQp9S68lSu1jsZyDL1YPXtCgQLaxiKE0E7BgilftOxxbJYkWUJkYQ4OKctQhIdDYqKm4VjE77/D55+rZcN7E0JkX6NHq73aR47A119rHY1lSZIlRBbXsyfky6fOjL59u9bRvLjwcPXbavPmULq01tEIIbRWqFDK3ID21puleZK1ZMkSAgICcHV1pVq1ahw4cOCp9SMjI6lUqRLu7u54e3vTp08fbt68aXy+fv366HS6VI/mzZsb6yQmJvL2228TEBCAm5sbxYoVY9q0aSQ/MSPauXPnaNWqFZ6enuTMmZNXXnmFy5cvW7YBhHgGN7eUwaG2PjnpzZuwapValiV0hBAGY8aAi4u6UPzevVpHYzmaJlkbN24kNDSUiRMncuLECerWrUvTpk3TTWQOHjxIz5496devH2fOnGHz5s0cPXqU/v37G+ts3bqV6Oho4+P06dPo9Xo6dOhgrDNr1iyWLVvGokWLOHfuHLNnz+aDDz5g4WO3cP3555/UqVOH0qVLs2/fPk6dOsWkSZNwldughAaGDAFnZ7U7/fBhraN5fh9+CA8eQOXK6p2TQggB6sLwhj/l06ZpG4slaZpkhYWF0a9fP/r370+ZMmUIDw/H19eXpUuXpln/yJEj+Pv7ExISQkBAAHXq1GHgwIEcO3bMWCdv3rwUKlTI+IiKisLd3d0kyTp8+DCtW7emefPm+Pv70759e4KCgkz2M3HiRJo1a8bs2bOpUqUKxYoVo3nz5hQsWNB6DSJEOry8oHt3tWyrvVnx8SlTUcjko0KIJ40dC05O6koX+/drHY1lOGp14EePHnH8+HHGjRtnsj0oKIhDhw6l+ZrAwEAmTpzI7t27adq0KdevX2fLli0mlwKfFBERQefOnfHw8DBuq1OnDsuWLeP8+fOULFmSU6dOcfDgQcLDwwFITk5m165djBkzhiZNmnDixAkCAgIYP348bdq0SfdY8fHxxMfHG/8dGxsLQEJCAgkJCc9qkgwx7M/S+7VH9tJWw4bBypVObNum8NtviRQrZvljWLOt1q3TERPjiI+PQrt2idj4r8NuzqvMIG1lvuzcVoUKQZ8+DixfrmfatGS+/DLpqfWt2VaW2qdOUbQZYnbt2jUKFy7M999/T2BgoHH7e++9x5o1a/jtt9/SfN2WLVvo06cPDx8+JDExkVatWrFlyxacnJxS1f3xxx+pWbMmP/zwAzVq1DBuVxSFCRMmMGvWLPR6PUlJScyYMYPx48cDEBMTg7e3N+7u7kyfPp0GDRrw5ZdfMmHCBPbu3Uu9evXSjO2dd95h6tSpqbavX78ed3f3DLWPEGmZOvUVTpzwokWLP+nf/7TW4ZhNUSA0tD5//eVJjx5neeON37UOSQiRBV2/7sbgwY1ISnJg5swDlCnzryZxxMXF0bVrV+7cuUOuXLmeez+a9WQZ6J64ZqAoSqptBmfPniUkJITJkyfTpEkToqOjGT16NIMGDSIiIiJV/YiICMqXL2+SYIE6FmzdunWsX7+ecuXKcfLkSUJDQ/Hx8aFXr17GAfCtW7dmxH/3mFeuXJlDhw6xbNmydJOs8ePHM/Kx0byxsbH4+voSFBT0Qr+ktCQkJBAVFUXjxo3TTDBFCntqK2dnHc2awd69xVi5sii5c1t2/9Zqq2++0fHXX464uyvMmfMSefK8ZLF9a8Wezitrk7Yyn7SVOvZ05Ur49tvajBqVfm+WNdvKcCXqRWmWZOXPnx+9Xk9MTIzJ9uvXr+Pl5ZXma2bOnEnt2rUZPXo0ABUrVsTDw4O6desyffp0vL29jXXj4uLYsGED09IYQTd69GjGjRtH586dAahQoQJ//fUXM2fOpFevXuTPnx9HR0fKli1r8royZcpw8ODBdN+Ti4sLLi4uqbY7OTlZ7T+LNfdtb+yhrV5/HSpUgF9+0bFqlRNjxljnOJZuq/nz1Z99++ooWNC2fwdPsofzKrNIW5kvO7fV22/DmjUQFeXA8eMOvPLK0+tbo60stT/NBr47OztTrVo1oqKiTLZHRUWZXD58XFxcHA4OpiHr9XpA7QF73KZNm4iPj6e7YbSwGfsx9GA5Ozvz8ssvp7pkef78efz8/Mx4d0JYh06XMvXBggXYxLimM2fgyy/V2ENDtY5GCJHVBQSo8wOC7d9pqOndhSNHjmTFihWsXLmSc+fOMWLECC5fvsygQYMA9fJbT0NLAy1btmTr1q0sXbqUCxcu8P333xMSEkKNGjXw8fEx2XdERARt2rQhX758qY7bsmVLZsyYwa5du7h06RLbtm0jLCyMtm3bGuuMHj2ajRs38tFHH/HHH3+waNEiduzYQbBhwiIhNNKlizpA9OpV2LRJ62iebd489WebNlC8uKahCCFsxIQJ6ooXX3yhrmtoqzQdk9WpUydu3rzJtGnTiI6Opnz58uzevdvYWxQdHW0yZ1bv3r25e/cuixYtYtSoUeTOnZuGDRsya9Ysk/2eP3+egwcPsmfPnjSPu3DhQiZNmkRwcDDXr1/Hx8eHgQMHMnnyZGOdtm3bsmzZMmbOnElISAilSpXi008/pU6dOlZoCSHM5+ICQ4eqXephYdC1a9adDuGff2DdOrU8apS2sQghbEeJEtCtG3z8Mbz7bspSXLZG84HvwcHB6fYOrV69OtW2YcOGMWzYsKfus2TJkqkuHz4uZ86chIeHG6dsSE/fvn3p27fvU+sIoYVBg2DGDPjpJ3U+mfr1tY4obUuWqPNj1agB6YwCEEKINE2cCJGRsGMHnDgBVapoHVHGab6sjhAi4/Llg9691XJYmKahpOvBAzXJArUXK6v2tgkhsqZSpeC/+9NsdmyWJFlC2KjQUDVx2bED0plWTlMffww3boCfH7Rrp3U0Qghb9Pbb6ufc9u1w6pTW0WScJFlC2KiSJaFlS7X8jCvfmS45OWXA+/Dh4Kj5wAQhhC0qUwY6dlTL06drG8vzkCRLCBtmmM5h9Wq11yir+OIL+PVXyJUL+vXTOhohhC17+23155YtcNp2FroAJMkSwqa9+ipUqwYPH8KyZVpHk8IwTmzAADXREkKI51W+PLzxhlq2td4sSbKEsGGPT066aJGabGnt5En49lvQ6yEkROtohBD2YNIk9eemTXDunLaxZIQkWULYuA4doEgRdU6qTz7ROpqUXqwOHaBoUW1jEULYh0qV1AmNFUWdvsZWSJIlhI1zckrpMQoLUz+EtHL1akqiJ5OPCiEsydCb9ckncP68trGYS5IsIezAgAGQI4c6KPSJ5UAz1aJFkJgIdetC9eraxSGEsD9Vq0KLFurdy7bSmyVJlhB2IHfulLv45s7VJoZ791IG30svlhDCGgyr30VGwh9/aBuLOSTJEsJODB+uLqi6Z482tzmvXg23b6trjrVokfnHF0LYv5dfhqZNISkJRozQ8913hdm/X0dSktaRpU2SLCHsREBAym3Omb3UTlJSyuSjI0aodxYKIYQ11K2r/vzqKwfCwqrTuLEj/v6wdaumYaVJkiwh7IhhOofISIiJybzjfvYZXLgAefJAr16Zd1whRPaydau6cPSTrl6F9u2zXqIlSZYQduSVVyAwEB49gsWLM++4hp6zwYPBwyPzjiuEyD6SktRhEWndQW3YFhpKlrp0KEmWEHbG0Ju1dCnExVn/eD/8AN9/r04lMWSI9Y8nhMieDhyAK1fSf15R4O+/1XpZhSRZQtiZNm3U8Vk3b8LatdY/nqEXq2tX8PGx/vGEENlTdLRl62UGSbKEsDN6vdplDupg9ORk6x3r0iV10VZQB7wLIYS1eHtbtl5mkCRLCDvUty94eqqzIu/aZb3jLFigJnGNGqnLXgghhLXUrasuIabTpf28Tge+vil3H2YFkmQJYYdy5ICBA9WytSYnvXMHVqxQy4ZxYEIIYS16Pcyfr5afTLQM/w4Pz1pTyEiSJYSdGjYMHB1h/344ftzy+1+xAu7ehbJl4fXXLb9/IYR4Urt26hCFwoVNtxcpom5v106buNIjSZYQdqpIEejUSS1benLShISUb5QjRqTffS+EEJbWrp06HjQqKpGRI48RFZXIxYtZL8ECSbKEsGuGy3ibNqm3NlvKp5+q+ytQALp3t9x+hRDCHHo91Kun8OqrV6lXT8lSlwgfJ0mWEHasalWoXx8SE2HhQsvsU1FSxnkNGQKurpbZrxBC2BtJsoSwc6NGqT+XL1fHUL2ogwfh2DFwcYHg4BffnxBC2CtJsoSwc82aQalS6t2AK1e++P4MvVg9e6qXC4UQQqRNkiwh7JyDQ8pEoeHhL7au1++/w+efq2WZfFQIIZ5OkiwhsoEePSBfPvWOnG3bnn8/4eHqmKxmzaBMGUtFJ4QQ9kmSLCGyAXf3lPFTzzudw7//wqpVatkwzksIIUT6JMkSIpsIDgZnZzh8WH1k1LJl8OCBunxOgwaWj08IIeyNJFlCZBOFCqXMaZXR3qz4+JQpIEaNkslHhRDCHJJkCZGNGAarb90KFy+a/7oNGyAmBnx8UmaRF0II8XSSZAmRjZQvD02aQHJyyrI4z6IoKT1fw4aplxyFEEI8myRZQmQzhqV2IiLg9u1n1//mG/j5Z3Xw/JtvWjU0IYSwK5JkCZHNNG6s9mjduwcfffTs+oZerL59IW9e68YmhBD2RJIsIbIZnS6lN2vBAkhISL/u2bPwxRfqa4YPz5z4hBDCXkiSJUQ21LUreHnBlSuweXP69ebNU3+2aQMlSmRKaEIIYTckyRIiG3JxgaFD1fLcuerg9if98w98/LFalslHhRAi4yTJEiKbGjwY3Nzgp5/gu+9SP790qTo/Vo0aEBiY+fEJIYStkyRLiGwqXz7o3Vstz51r+tyDB7B4sVqWyUeFEOL5SJIlRDYWGqomUDt2wPnzKdvXr9dx4wb4+UG7dpqFJ4QQNk2SLCGysZIloWVLtWwY5J6cDOHhekC9o9DRUaPghBDCxkmSJUQ2Z5jOYfVq+PxzHWvXluG333TkzAn9+mkamhBC2DRJsoTI5l59FYoVg4cPoX17R7ZvLwmodxx+/bXGwQkhhA3TPMlasmQJAQEBuLq6Uq1aNQ4cOPDU+pGRkVSqVAl3d3e8vb3p06cPN2/eND5fv359dDpdqkfz5s2NdRITE3n77bcJCAjAzc2NYsWKMW3aNJKTk411evfunWofr7zyiuUbQAiNbdsGFy6k3n7/PrRvry4mLYQQIuM0TbI2btxIaGgoEydO5MSJE9StW5emTZty+fLlNOsfPHiQnj170q9fP86cOcPmzZs5evQo/fv3N9bZunUr0dHRxsfp06fR6/V06NDBWGfWrFksW7aMRYsWce7cOWbPns0HH3zAwoULTY73+uuvm+xr9+7d1mkIITSSlJT+TO6GubNCQ9V6QgghMkbTIa1hYWH069fPmCSFh4fz1VdfsXTpUmbOnJmq/pEjR/D39yckJASAgIAABg4cyOzZs4118j6xuNqGDRtwd3c3SbIOHz5M69atjb1b/v7+fPLJJxw7dszktS4uLhQqVMgyb1aILOjAAXXW9/QoCvz9t1qvfv1MC0sIIeyCZknWo0ePOH78OOPGjTPZHhQUxKFDh9J8TWBgIBMnTmT37t00bdqU69evs2XLFpNLgU+KiIigc+fOeHh4GLfVqVOHZcuWcf78eUqWLMmpU6c4ePAg4eHhJq/dt28fBQsWJHfu3NSrV48ZM2ZQsGDBdI8VHx9PfHy88d+xsbEAJCQkkPC0BeKeg2F/lt6vPZK2St/ff+sw52Pg778TSUhIY1r4bEzOK/NJW5lP2sp81mwrS+1TsyTrxo0bJCUl4eXlZbLdy8uLmJiYNF8TGBhIZGQknTp14uHDhyQmJtKqVatUl/kMfvzxR06fPk1ERITJ9rFjx3Lnzh1Kly6NXq8nKSmJGTNm0KVLF2Odpk2b0qFDB/z8/Lh48SKTJk2iYcOGHD9+HBcXlzSPN3PmTKZOnZpq+549e3B3d39qezyvqKgoq+zXHklbpfbXX/mAOmbUO8Lu3TefWS87kvPKfNJW5pO2Mp812iouLs4i+9EpSlqrllnftWvXKFy4MIcOHaJWrVrG7TNmzODjjz/m119/TfWas2fP0qhRI0aMGEGTJk2Ijo5m9OjRvPzyy6kSKYCBAwdy6NAhfvnlF5PtGzZsYPTo0XzwwQeUK1eOkydPEhoaSlhYGL169Uoz3ujoaPz8/NiwYQPt0pmdMa2eLF9fX27cuEGuXLnMahdzJSQkEBUVRePGjXFycrLovu2NtFX6kpKgRAlHrl0DRUk9rbtOp1C4MPz+eyJ6vQYBZmFyXplP2sp80lbms2ZbxcbGkj9/fu7cufNCf78168nKnz8/er0+Va/V9evXU/VuGcycOZPatWszevRoACpWrIiHhwd169Zl+vTpeHt7G+vGxcWxYcMGpk2blmo/o0ePZty4cXTu3BmAChUq8NdffzFz5sx0kyxvb2/8/Pz4/fff031PLi4uafZyOTk5We0/izX3bW+krVJzcoIFC9S7CHU604Wi1aV0dMyfD66u0m7pkfPKfNJW5pO2Mp812spS+9Ps7kJnZ2eqVauWqpsvKiqKwHRWo42Li8PBwTRk/X9fr5/skNu0aRPx8fF0797d7P08PoXDk27evMnff/9tksgJYQ/atYMtW6BwYdPtRYqo22VZHSGEeD6a3l04cuRIevToQfXq1alVqxbLly/n8uXLDBo0CIDx48dz9epV1q5dC0DLli0ZMGAAS5cuNV4uDA0NpUaNGvj4+JjsOyIigjZt2pAvX75Ux23ZsiUzZsygaNGilCtXjhMnThAWFkbfvn0BuHfvHu+88w5vvPEG3t7eXLp0iQkTJpA/f37atm1r5VYRIvO1awetW8PevYl88cVJmjatTIMGjnKJUAghXoCmSVanTp24efMm06ZNIzo6mvLly7N79278/PwAdRzU43Nm9e7dm7t377Jo0SJGjRpF7ty5adiwIbNmzTLZ7/nz5zl48CB79uxJ87gLFy5k0qRJBAcHc/36dXx8fBg4cCCTJ08G1F6tX375hbVr13L79m28vb1p0KABGzduJGfOnFZqDSG0pddDvXoK9+9fpV69SpJgCSHEC9J86dfg4GCCg4PTfG716tWptg0bNoxhw4Y9dZ8lS5ZMdfnwcTlz5iQ8PDzVlA0Gbm5ufPXVV089hhBCCCHE02i+rI4QQgghhD2SJEsIIYQQwgokyRJCCCGEsAJJsoQQQgghrECSLCGEEEIIK5AkSwghhBDCCiTJEkIIIYSwAkmyhBBCCCGsQPPJSO2ZYULU2NhYi+87ISGBuLg4YmNjZRHRZ5C2Mp+0lfmkrcwnbWU+aSvzWbOtDH+3nzaxuTkkybKiu3fvAuDr66txJEIIIYTIqLt37+Lp6fncr9cpL5qmiXQlJydz7do1cubMiU6ns+i+Y2Nj8fX15e+//yZXrlwW3be9kbYyn7SV+aStzCdtZT5pK/NZs60UReHu3bv4+Pjg4PD8I6ukJ8uKHBwcKFKkiFWPkStXLvmPaCZpK/NJW5lP2sp80lbmk7Yyn7Xa6kV6sAxk4LsQQgghhBVIkiWEEEIIYQWSZNkoFxcXpkyZgouLi9ahZHnSVuaTtjKftJX5pK3MJ21lPltoKxn4LoQQQghhBdKTJYQQQghhBZJkCSGEEEJYgSRZQgghhBBWIEmWEMLI39+f8PBwi9cV4nk9eZ7pdDq2b9+uWTxCZIQkWRZy6NAh9Ho9r7/+utahCDvRu3dvdDodOp0OJycnihUrxltvvcX9+/etdsyjR4/y5ptvWryusE2Pn4OOjo4ULVqUwYMHc+vWLa1DE1nU4+fM448//viD7777jpYtW+Lj45OhZPnEiRO0aNGCggUL4urqir+/P506deLGjRvWfTMWIEmWhaxcuZJhw4Zx8OBBLl++rFkcCQkJmh1bWN7rr79OdHQ0Fy5cYPr06SxZsoS33norVT1L/d4LFCiAu7u7xesK22U4By9dusSKFSvYsWMHwcHBWoclsjDDOfP4IyAggPv371OpUiUWLVpk9r6uX79Oo0aNyJ8/P1999RXnzp1j5cqVeHt7ExcXZ7X3YKnPVEmyLOD+/fts2rSJwYMH06JFC1avXm3y/Oeff0716tVxdXUlf/78tGvXzvhcfHw8Y8aMwdfXFxcXF1566SUiIiIAWL16Nblz5zbZ1/bt203WQXznnXeoXLkyK1eupFixYri4uKAoCl9++SV16tQhd+7c5MuXjxYtWvDnn3+a7OvKlSt07tyZvHnz4uHhQfXq1fnhhx+4dOkSDg4OHDt2zKT+woUL8fPze+FVyYX5XFxcKFSoEL6+vnTt2pVu3bqxffv2dH/vd+7c4c0336RgwYLkypWLhg0bcurUKZN9Pu18fPLSzDvvvEPRokVxcXHBx8eHkJCQdOtevnyZ1q1bkyNHDnLlykXHjh35559/TPZVuXJlPv74Y/z9/fH09KRz587GhdRF1mQ4B4sUKUJQUBCdOnViz549xudXrVpFmTJlcHV1pXTp0ixZssTk9el9zgD8+eeftG7dGi8vL3LkyMHLL7/M119/nanvT1ie4Zx5/KHX62natCnTp083+cx5lkOHDhEbG8uKFSuoUqUKAQEBNGzYkPDwcIoWLWqsd+bMGZo3b06uXLnImTMndevWNf7NS05OZtq0aRQpUgQXFxcqV67Ml19+aXztpUuX0Ol0bNq0ifr16+Pq6sq6deuAZ5/fzyJJlgVs3LiRUqVKUapUKbp3786qVauMiciuXbto164dzZs358SJE3zzzTdUr17d+NqePXuyYcMGFixYwLlz51i2bBk5cuTI0PH/+OMPNm3axKeffsrJkycBNfEbOXIkR48e5ZtvvsHBwYG2bduSnJwMwL1796hXrx7Xrl3j888/59SpU4wZM4bk5GT8/f1p1KgRq1atMjnOqlWrjF3BQhtubm7Gb1hp/d6bN29OTEwMu3fv5vjx41StWpXXXnuNf//9F3j2+fi4LVu2MG/ePD788EN+//13tm/fToUKFdKsqygKbdq04d9//2X//v1ERUXx559/0qlTJ5N6f/75J9u3b2fnzp3s3LmT/fv38/7771uodYS1XbhwgS+//BInJycAPvroIyZOnMiMGTM4d+4c7733HpMmTWLNmjXA0z9nDM83a9aMr7/+mhMnTtCkSRNatmyp6dUAkbUUKlSIxMREtm3blu4X/KtXr/Lqq6/i6urKt99+y/Hjx+nbty+JiYkAzJ8/n7lz5zJnzhx+/vlnmjRpQqtWrfj9999N9jN27FhCQkI4d+4cTZo0eeb5bRZFvLDAwEAlPDxcURRFSUhIUPLnz69ERUUpiqIotWrVUrp165bm63777TcFMNZ90qpVqxRPT0+Tbdu2bVMe/7VNmTJFcXJyUq5fv/7UGK9fv64Ayi+//KIoiqJ8+OGHSs6cOZWbN2+mWX/jxo1Knjx5lIcPHyqKoignT55UdDqdcvHixaceR1hOr169lNatWxv//cMPPyj58uVTOnbsmObv/ZtvvlFy5cpl/J0ZFC9eXPnwww8VRXn6+agoiuLn56fMmzdPURRFmTt3rlKyZEnl0aNHz6y7Z88eRa/XK5cvXzY+f+bMGQVQfvzxR0VR1HPV3d1diY2NNdYZPXq0UrNmzWc3htBEr169FL1er3h4eCiurq4KoABKWFiYoiiK4uvrq6xfv97kNe+++65Sq1YtRVGe/TmTlrJlyyoLFy40/vvx80xRFAVQtm3b9vxvSljV4+eM4dG+fftU9TLye5wwYYLi6Oio5M2bV3n99deV2bNnKzExMcbnx48frwQEBKT7WeXj46PMmDHDZNvLL7+sBAcHK4qiKBcvXlQA499xg2ed3+aQnqwX9Ntvv/Hjjz/SuXNnABwdHenUqRMrV64E4OTJk7z22mtpvvbkyZPo9Xrq1av3QjH4+flRoEABk21//vknXbt2pVixYuTKlYuAgAAA4zfEkydPUqVKFfLmzZvmPtu0aYOjoyPbtm0D1DFnDRo0wN/f/4ViFRmzc+dOcuTIgaurK7Vq1eLVV19l4cKFQOrf+/Hjx7l37x758uUjR44cxsfFixeN3eZPOx+f1KFDBx48eECxYsUYMGAA27ZtM34zfNK5c+fw9fXF19fXuK1s2bLkzp2bc+fOGbf5+/uTM2dO47+9vb25fv26+Q0iMl2DBg04efIkP/zwA8OGDaNJkyYMGzaM//3vf/z999/069fP5HybPn26yfn2tM+Z+/fvM2bMGOO5kiNHDn799VfpybJxhnPG8FiwYIFZr3vvvfdMziXDeTBjxgxiYmJYtmwZZcuWZdmyZZQuXZpffvkFUM+zunXrGntYHxcbG8u1a9eoXbu2yfbatWubfDYBJr365pzf5nA0u6ZIU0REBImJiRQuXNi4TVEUnJycuHXrFm5ubum+9mnPATg4OKTqHk1rMJ6Hh0eqbS1btsTX15ePPvoIHx8fkpOTKV++PI8ePTLr2M7OzvTo0YNVq1bRrl071q9fL7fra6BBgwYsXboUJycnfHx8TD5Envy9Jycn4+3tzb59+1LtxzC271m/98f5+vry22+/ERUVxddff01wcDAffPAB+/fvT/VhpihKmpeRn9z+5Ot0Op3x0pHImjw8PChRogQACxYsoEGDBkydOpWhQ4cC6iXDmjVrmrxGr9cDzz7fRo8ezVdffcWcOXMoUaIEbm5utG/f3vg5JWzT4+dMRgwaNIiOHTsa/+3j42Ms58uXjw4dOtChQwdmzpxJlSpVmDNnDmvWrDHrc+3Jz6e0PrMe/0w1fC497fw2h/RkvYDExETWrl3L3LlzTbL2U6dO4efnR2RkJBUrVuSbb75J8/UVKlQgOTmZ/fv3p/l8gQIFuHv3rskt+4axN09z8+ZNzp07x9tvv81rr71GmTJlUt1yXbFiRU6ePGkcq5OW/v378/XXX7NkyRISEhIyNFhRWIbhw8rPzy/Nb2mPq1q1KjExMTg6OlKiRAmTR/78+QGeej6mxc3NjVatWrFgwQL27dvH4cOHjd8eH1e2bFkuX77M33//bdx29uxZ7ty5Q5kyZcw+nsj6pkyZwpw5c0hKSqJw4cJcuHAh1flm6Dl/1ufMgQMH6N27N23btqVChQoUKlSIS5cuZeK7EVlJ3rx5Tc4jR8e0+4GcnZ0pXry48W9jxYoVOXDgQJqdELly5cLHx4eDBw+abD906NBTP5u8vLyeeX6bQ3qyXsDOnTu5desW/fr1w9PT0+S59u3bExERwbx583jttdcoXrw4nTt3JjExkS+++IIxY8bg7+9Pr1696Nu3LwsWLKBSpUr89ddfXL9+nY4dO1KzZk3c3d2ZMGECw4YN48cff0x152Ja8uTJQ758+Vi+fDne3t5cvnyZcePGmdTp0qUL7733Hm3atGHmzJl4e3tz4sQJfHx8qFWrFgBlypThlVdeYezYsfTt2zdDvSAi8zVq1IhatWrRpk0bZs2aRalSpbh27Rq7d++mTZs2VK9enSlTpqR7Pj5p9erVJCUlGc/Djz/+GDc3N/z8/NI8dsWKFenWrRvh4eEkJiYSHBxMvXr10h1YL2xT/fr1KVeuHO+99x7vvPMOISEh5MqVi6ZNmxIfH8+xY8e4desWI0eOfObnTIkSJdi6dSstW7ZEp9MxadIk6dm0Y/fu3eOPP/4w/vvixYucPHmSvHnzmtwp+LidO3eyYcMGOnfuTMmSJVEUhR07drB7927jzVlDhw5l4cKFdO7cmfHjx+Pp6cmRI0eoUaMGpUqVYvTo0UyZMoXixYtTuXJlVq1axcmTJ4mMjHxqvM86v81i9ugtkUqLFi2UZs2apfnc8ePHFUA5fvy48umnnyqVK1dWnJ2dlfz58yvt2rUz1nvw4IEyYsQIxdvbW3F2dlZKlCihrFy50vj8tm3blBIlSiiurq5KixYtlOXLl6ca+F6pUqVUx4+KilLKlCmjuLi4KBUrVlT27duXaqDhpUuXlDfeeEPJlSuX4u7urlSvXl354YcfTPYTERFhMnhZZJ4nB74/Lr3fe2xsrDJs2DDFx8dHcXJyUnx9fZVu3bqZDEh/2vn4+CDjbdu2KTVr1lRy5cqleHh4KK+88ory9ddfp1lXURTlr7/+Ulq1aqV4eHgoOXPmVDp06GAyODWtmOfNm6f4+fmZ3SYic6V3DkZGRirOzs7K5cuXlcjISOP5lCdPHuXVV19Vtm7daqz7tM+ZixcvKg0aNFDc3NwUX19fZdGiRUq9evWU4cOHG18vA99ty9M+t/bu3Wu8eeLxR69evdLd359//qkMGDBAKVmypOLm5qbkzp1befnll5VVq1aZ1Dt16pQSFBSkuLu7Kzlz5lTq1q2r/Pnnn4qiKEpSUpIydepUpXDhwoqTk5NSqVIl5YsvvjC+1jDw/cSJE6mO/6zz+1l0iiKTHon0zZgxgw0bNqR5iUgIIYQQ6ZMxWSJN9+7d4+jRoyxcuNBkAkohhBBCmEeSLJGmoUOHUqdOHerVq0ffvn21DkcIIYSwOXK5UAghhBDCCqQnSwghhBDCCiTJEkIIIYSwAkmyhBBCCCGsQJIsIYQQQggrkCRLCCEygU6nY/v27QBcunQJnU5n1jJZQgjbJUmWECLb6N27NzqdjkGDBqV6Ljg4GJ1OR+/evc3a1759+9DpdNy+fdus+tHR0TRt2jQD0QohbJ0kWUKIbMXX15cNGzbw4MED47aHDx/yySefpLt+2ot49OgRAIUKFcLFxcXi+xdCZF2SZAkhspWqVatStGhRtm7daty2detWfH19qVKlinGboijMnj2bYsWK4ebmRqVKldiyZQugXu5r0KABoC7I/ngPWP369Rk6dCgjR44kf/78NG7cGDC9XPik5ORkBgwYQMmSJfnrr7+s8K6FEFqQJEsIke306dOHVatWGf+9cuXKVCsbvP3226xatYqlS5dy5swZRowYQffu3dm/fz++vr58+umnAPz2229ER0czf/5842vXrFmDo6Mj33//PR9++OFTY3n06BEdO3bk2LFjHDx4ED8/Pwu+UyGElhy1DkAIITJbjx49GD9+vHEA+vfff8+GDRvYt28fAPfv3ycsLIxvv/2WWrVqAVCsWDEOHjzIhx9+SL169cibNy8ABQsWJHfu3Cb7L1GiBLNnz35mHPfu3aN58+Y8ePCAffv24enpadH3KYTQliRZQohsJ3/+/DRv3pw1a9agKArNmzcnf/78xufPnj3Lw4cPjZf6DB49emRySTE91atXNyuOLl26UKRIEb755hvc3d0z9iaEEFmeJFlCiGypb9++DB06FIDFixebPJecnAzArl27KFy4sMlz5gxe9/DwMCuGZs2asW7dOo4cOULDhg3Neo0QwnZIkiWEyJZef/11451/TZo0MXmubNmyuLi4cPnyZerVq5fm652dnQFISkp67hgGDx5M+fLladWqFbt27Ur3WEII2yRJlhAiW9Lr9Zw7d85YflzOnDl56623GDFiBMnJydSpU4fY2FgOHTpEjhw56NWrF35+fuh0Onbu3EmzZs1wc3MjR44cGY5j2LBhJCUl0aJFC7744gvq1KljkfcnhNCeJFlCiGwrV65c6T737rvvUrBgQWbOnMmFCxfInTs3VatWZcKECQAULlyYqVOnMm7cOPr06UPPnj1ZvXr1c8URGhpKcnIyzZo148svvyQwMPC59iOEyFp0iqIoWgchhBBCCGFvZJ4sIYQQQggrkCRLCCGEEMIKJMkSQgghhLACSbKEEEIIIaxAkiwhhBBCCCuQJEsIIYQQwgokyRJCCCGEsAJJsoQQQgghrECSLCGEEEIIK5AkSwghhBDCCiTJEkIIIYSwAkmyhBBCCCGs4P8TxXsHhmMR5wAAAABJRU5ErkJggg==",
            "text/plain": [
              "<Figure size 640x480 with 1 Axes>"
            ]
          },
          "metadata": {},
          "output_type": "display_data"
        }
      ],
      "source": [
        "pred = model.predict(X_test)\n",
        "acc_score = accuracy_score(y_test, pred) \n",
        "pre_score = precision_score(y_test, pred, average='weighted')\n",
        "rec_score = recall_score(y_test, pred, average='weighted')\n",
        "f_score = f1_score(y_test, pred, average='weighted')\n",
        "\n",
        "scores = {\n",
        "    'Accuracy': acc_score,\n",
        "    'Precision': pre_score,\n",
        "    'Recall': rec_score, \n",
        "    'F1-Score': f_score\n",
        "}\n",
        "\n",
        "eval_df = pd.DataFrame.from_dict(scores, orient='index', columns=['Score']) \n",
        "\n",
        "eval_df['Score'].plot(kind='line', marker='o', color='blue') \n",
        "\n",
        "plt.title('Hasil Evaluasi Model')\n",
        "plt.xlabel('Metrik') \n",
        "plt.ylabel('Nilai Rata-Rata')\n",
        "plt.grid(True) \n",
        "\n",
        "plt.show()"
      ]
    },
    {
      "cell_type": "code",
      "execution_count": 44,
      "metadata": {},
      "outputs": [
        {
          "name": "stdout",
          "output_type": "stream",
          "text": [
            "Training Accuracy: 0.9797794117647058\n",
            "Training Classification Report:\n",
            "              precision    recall  f1-score   support\n",
            "\n",
            "    Negative       0.98      0.97      0.98       382\n",
            "     Neutral       0.99      0.97      0.98       301\n",
            "    Positive       0.97      1.00      0.98       405\n",
            "\n",
            "    accuracy                           0.98      1088\n",
            "   macro avg       0.98      0.98      0.98      1088\n",
            "weighted avg       0.98      0.98      0.98      1088\n",
            "\n",
            "Testing Accuracy: 0.8791208791208791\n",
            "Testing Classification Report:\n",
            "              precision    recall  f1-score   support\n",
            "\n",
            "    Negative       0.87      0.86      0.87       111\n",
            "     Neutral       0.86      0.82      0.84        73\n",
            "    Positive       0.90      0.94      0.92        89\n",
            "\n",
            "    accuracy                           0.88       273\n",
            "   macro avg       0.88      0.88      0.88       273\n",
            "weighted avg       0.88      0.88      0.88       273\n",
            "\n"
          ]
        }
      ],
      "source": [
        "# Evaluasi pada training set\n",
        "y_train_pred = model.predict(X_train)\n",
        "train_accuracy = accuracy_score(y_train, y_train_pred)\n",
        "print(\"Training Accuracy:\", train_accuracy)\n",
        "print(\"Training Classification Report:\")\n",
        "print(classification_report(y_train, y_train_pred))\n",
        "\n",
        "# Evaluasi pada testing set\n",
        "y_test_pred = model.predict(X_test)\n",
        "test_accuracy = accuracy_score(y_test, y_test_pred)\n",
        "print(\"Testing Accuracy:\", test_accuracy)\n",
        "print(\"Testing Classification Report:\")\n",
        "print(classification_report(y_test, y_test_pred))"
      ]
    },
    {
      "cell_type": "code",
      "execution_count": 45,
      "metadata": {},
      "outputs": [],
      "source": [
        "def preprocess_review(review):\n",
        "    review = review.lower()\n",
        "    tokens = word_tokenize(review)\n",
        "    tokens = remove_stopwords(tokens)\n",
        "    tokens = stem_tokenizer(tokens)\n",
        "    return ' '.join(tokens)\n",
        "\n",
        "def predict_sentiment(review):\n",
        "    preprocessed_review = preprocess_review(review)\n",
        "    tfidf_review = tfidf_vectorizer.transform([preprocessed_review])\n",
        "    sentiment = model.predict(tfidf_review)\n",
        "    return sentiment[0]"
      ]
    },
    {
      "cell_type": "code",
      "execution_count": 50,
      "metadata": {},
      "outputs": [
        {
          "name": "stdout",
          "output_type": "stream",
          "text": [
            "Review: gagal\n",
            "Predicted Sentiment: Negative\n",
            "\n",
            "Review: ini bagus banget\n",
            "Predicted Sentiment: Positive\n",
            "\n",
            "Review: lumayan lah ya\n",
            "Predicted Sentiment: Neutral\n",
            "\n",
            "Review: pintunya tidak bisa dibuka\n",
            "Predicted Sentiment: Negative\n",
            "\n",
            "Review: face detection tidak berfungsi\n",
            "Predicted Sentiment: Negative\n",
            "\n"
          ]
        }
      ],
      "source": [
        "new_reviews = [\n",
        "    \"gagal\",\n",
        "    \"ini bagus banget\",\n",
        "    \"lumayan lah ya\",\n",
        "    \"pintunya tidak bisa dibuka\",\n",
        "    \"face detection tidak berfungsi\",\n",
        "    \"RFID tidak bisa mendeteksi\"\n",
        "    ]\n",
        "for review in new_reviews:\n",
        "    sentiment = predict_sentiment(review)\n",
        "    print(f\"Review: {review}\\nPredicted Sentiment: {sentiment}\\n\")"
      ]
    },
    {
      "cell_type": "code",
      "execution_count": 53,
      "metadata": {},
      "outputs": [
        {
          "data": {
            "image/png": "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",
            "text/plain": [
              "<Figure size 640x480 with 1 Axes>"
            ]
          },
          "metadata": {},
          "output_type": "display_data"
        }
      ],
      "source": [
        "import matplotlib.pyplot as plt\n",
        "import numpy as np\n",
        "from sklearn.model_selection import learning_curve\n",
        "\n",
        "def plot_learning_curve(estimator, X, y, cv=None, train_sizes=np.linspace(0.1, 1.0, 10)):\n",
        "    train_scores, test_scores = [], []\n",
        "    for train_size in train_sizes:\n",
        "        _, train_score, test_score = learning_curve(estimator, X, y, cv=cv, train_sizes=[train_size])\n",
        "        train_scores.append(train_score.mean())\n",
        "        test_scores.append(test_score.mean())\n",
        "    plt.plot(train_sizes, train_scores, label='Training Score', marker='o')\n",
        "    plt.plot(train_sizes, test_scores, label='Testing Score', marker='x')\n",
        "    plt.title('Learning Curve')\n",
        "    plt.xlabel('Training Size')\n",
        "    plt.ylabel('Accuracy')\n",
        "    plt.legend()\n",
        "    plt.grid(True)\n",
        "\n",
        "X_train, X_val, y_train, y_val = train_test_split(tfidf_matrix, df['sentiment'], test_size=0.2, random_state=0)\n",
        "model = svm.SVC(C=10, kernel='rbf', gamma=1)\n",
        "\n",
        "plot_learning_curve(model, X_train, y_train, cv=5)\n",
        "plt.show()"
      ]
    },
    {
      "cell_type": "code",
      "execution_count": 87,
      "metadata": {},
      "outputs": [
        {
          "data": {
            "text/plain": [
              "['tfidf_vectorizer.pkl']"
            ]
          },
          "execution_count": 87,
          "metadata": {},
          "output_type": "execute_result"
        }
      ],
      "source": [
        "joblib.dump(model, 'sentiment.pkl')\n",
        "joblib.dump(tfidf_vectorizer, 'tfidf_vectorizer.pkl')"
      ]
    },
    {
      "cell_type": "markdown",
      "metadata": {},
      "source": [
        "### Find Best Parameters"
      ]
    },
    {
      "cell_type": "code",
      "execution_count": 52,
      "metadata": {},
      "outputs": [],
      "source": [
        "from sklearn.model_selection import GridSearchCV\n",
        "\n",
        "param_grid = {\n",
        "    'tfidf__max_df': [0.7, 0.75, 0.8, 0.85, 0.9, 0.95],\n",
        "    'tfidf__min_df': [1, 2, 3, 4, 5, 6, 7, 8, 9, 10],\n",
        "    'tfidf__ngram_range': [(1, 1), (1, 2)],\n",
        "    'svm__C': [0.1, 1, 10],\n",
        "    'svm__gamma': [0.01, 0.1, 1],\n",
        "    'svm__kernel': ['linear', 'rbf', 'poly', 'sigmoid']\n",
        "}"
      ]
    },
    {
      "cell_type": "code",
      "execution_count": 53,
      "metadata": {},
      "outputs": [],
      "source": [
        "from sklearn.pipeline import Pipeline\n",
        "\n",
        "pipeline = Pipeline([\n",
        "    ('tfidf', TfidfVectorizer()),\n",
        "    ('svm', svm.SVC())\n",
        "])"
      ]
    },
    {
      "cell_type": "code",
      "execution_count": 54,
      "metadata": {},
      "outputs": [
        {
          "name": "stdout",
          "output_type": "stream",
          "text": [
            "Fitting 5 folds for each of 4320 candidates, totalling 21600 fits\n"
          ]
        },
        {
          "data": {
            "text/html": [
              "<style>#sk-container-id-2 {\n",
              "  /* Definition of color scheme common for light and dark mode */\n",
              "  --sklearn-color-text: black;\n",
              "  --sklearn-color-line: gray;\n",
              "  /* Definition of color scheme for unfitted estimators */\n",
              "  --sklearn-color-unfitted-level-0: #fff5e6;\n",
              "  --sklearn-color-unfitted-level-1: #f6e4d2;\n",
              "  --sklearn-color-unfitted-level-2: #ffe0b3;\n",
              "  --sklearn-color-unfitted-level-3: chocolate;\n",
              "  /* Definition of color scheme for fitted estimators */\n",
              "  --sklearn-color-fitted-level-0: #f0f8ff;\n",
              "  --sklearn-color-fitted-level-1: #d4ebff;\n",
              "  --sklearn-color-fitted-level-2: #b3dbfd;\n",
              "  --sklearn-color-fitted-level-3: cornflowerblue;\n",
              "\n",
              "  /* Specific color for light theme */\n",
              "  --sklearn-color-text-on-default-background: var(--sg-text-color, var(--theme-code-foreground, var(--jp-content-font-color1, black)));\n",
              "  --sklearn-color-background: var(--sg-background-color, var(--theme-background, var(--jp-layout-color0, white)));\n",
              "  --sklearn-color-border-box: var(--sg-text-color, var(--theme-code-foreground, var(--jp-content-font-color1, black)));\n",
              "  --sklearn-color-icon: #696969;\n",
              "\n",
              "  @media (prefers-color-scheme: dark) {\n",
              "    /* Redefinition of color scheme for dark theme */\n",
              "    --sklearn-color-text-on-default-background: var(--sg-text-color, var(--theme-code-foreground, var(--jp-content-font-color1, white)));\n",
              "    --sklearn-color-background: var(--sg-background-color, var(--theme-background, var(--jp-layout-color0, #111)));\n",
              "    --sklearn-color-border-box: var(--sg-text-color, var(--theme-code-foreground, var(--jp-content-font-color1, white)));\n",
              "    --sklearn-color-icon: #878787;\n",
              "  }\n",
              "}\n",
              "\n",
              "#sk-container-id-2 {\n",
              "  color: var(--sklearn-color-text);\n",
              "}\n",
              "\n",
              "#sk-container-id-2 pre {\n",
              "  padding: 0;\n",
              "}\n",
              "\n",
              "#sk-container-id-2 input.sk-hidden--visually {\n",
              "  border: 0;\n",
              "  clip: rect(1px 1px 1px 1px);\n",
              "  clip: rect(1px, 1px, 1px, 1px);\n",
              "  height: 1px;\n",
              "  margin: -1px;\n",
              "  overflow: hidden;\n",
              "  padding: 0;\n",
              "  position: absolute;\n",
              "  width: 1px;\n",
              "}\n",
              "\n",
              "#sk-container-id-2 div.sk-dashed-wrapped {\n",
              "  border: 1px dashed var(--sklearn-color-line);\n",
              "  margin: 0 0.4em 0.5em 0.4em;\n",
              "  box-sizing: border-box;\n",
              "  padding-bottom: 0.4em;\n",
              "  background-color: var(--sklearn-color-background);\n",
              "}\n",
              "\n",
              "#sk-container-id-2 div.sk-container {\n",
              "  /* jupyter's `normalize.less` sets `[hidden] { display: none; }`\n",
              "     but bootstrap.min.css set `[hidden] { display: none !important; }`\n",
              "     so we also need the `!important` here to be able to override the\n",
              "     default hidden behavior on the sphinx rendered scikit-learn.org.\n",
              "     See: https://github.com/scikit-learn/scikit-learn/issues/21755 */\n",
              "  display: inline-block !important;\n",
              "  position: relative;\n",
              "}\n",
              "\n",
              "#sk-container-id-2 div.sk-text-repr-fallback {\n",
              "  display: none;\n",
              "}\n",
              "\n",
              "div.sk-parallel-item,\n",
              "div.sk-serial,\n",
              "div.sk-item {\n",
              "  /* draw centered vertical line to link estimators */\n",
              "  background-image: linear-gradient(var(--sklearn-color-text-on-default-background), var(--sklearn-color-text-on-default-background));\n",
              "  background-size: 2px 100%;\n",
              "  background-repeat: no-repeat;\n",
              "  background-position: center center;\n",
              "}\n",
              "\n",
              "/* Parallel-specific style estimator block */\n",
              "\n",
              "#sk-container-id-2 div.sk-parallel-item::after {\n",
              "  content: \"\";\n",
              "  width: 100%;\n",
              "  border-bottom: 2px solid var(--sklearn-color-text-on-default-background);\n",
              "  flex-grow: 1;\n",
              "}\n",
              "\n",
              "#sk-container-id-2 div.sk-parallel {\n",
              "  display: flex;\n",
              "  align-items: stretch;\n",
              "  justify-content: center;\n",
              "  background-color: var(--sklearn-color-background);\n",
              "  position: relative;\n",
              "}\n",
              "\n",
              "#sk-container-id-2 div.sk-parallel-item {\n",
              "  display: flex;\n",
              "  flex-direction: column;\n",
              "}\n",
              "\n",
              "#sk-container-id-2 div.sk-parallel-item:first-child::after {\n",
              "  align-self: flex-end;\n",
              "  width: 50%;\n",
              "}\n",
              "\n",
              "#sk-container-id-2 div.sk-parallel-item:last-child::after {\n",
              "  align-self: flex-start;\n",
              "  width: 50%;\n",
              "}\n",
              "\n",
              "#sk-container-id-2 div.sk-parallel-item:only-child::after {\n",
              "  width: 0;\n",
              "}\n",
              "\n",
              "/* Serial-specific style estimator block */\n",
              "\n",
              "#sk-container-id-2 div.sk-serial {\n",
              "  display: flex;\n",
              "  flex-direction: column;\n",
              "  align-items: center;\n",
              "  background-color: var(--sklearn-color-background);\n",
              "  padding-right: 1em;\n",
              "  padding-left: 1em;\n",
              "}\n",
              "\n",
              "\n",
              "/* Toggleable style: style used for estimator/Pipeline/ColumnTransformer box that is\n",
              "clickable and can be expanded/collapsed.\n",
              "- Pipeline and ColumnTransformer use this feature and define the default style\n",
              "- Estimators will overwrite some part of the style using the `sk-estimator` class\n",
              "*/\n",
              "\n",
              "/* Pipeline and ColumnTransformer style (default) */\n",
              "\n",
              "#sk-container-id-2 div.sk-toggleable {\n",
              "  /* Default theme specific background. It is overwritten whether we have a\n",
              "  specific estimator or a Pipeline/ColumnTransformer */\n",
              "  background-color: var(--sklearn-color-background);\n",
              "}\n",
              "\n",
              "/* Toggleable label */\n",
              "#sk-container-id-2 label.sk-toggleable__label {\n",
              "  cursor: pointer;\n",
              "  display: block;\n",
              "  width: 100%;\n",
              "  margin-bottom: 0;\n",
              "  padding: 0.5em;\n",
              "  box-sizing: border-box;\n",
              "  text-align: center;\n",
              "}\n",
              "\n",
              "#sk-container-id-2 label.sk-toggleable__label-arrow:before {\n",
              "  /* Arrow on the left of the label */\n",
              "  content: \"▸\";\n",
              "  float: left;\n",
              "  margin-right: 0.25em;\n",
              "  color: var(--sklearn-color-icon);\n",
              "}\n",
              "\n",
              "#sk-container-id-2 label.sk-toggleable__label-arrow:hover:before {\n",
              "  color: var(--sklearn-color-text);\n",
              "}\n",
              "\n",
              "/* Toggleable content - dropdown */\n",
              "\n",
              "#sk-container-id-2 div.sk-toggleable__content {\n",
              "  max-height: 0;\n",
              "  max-width: 0;\n",
              "  overflow: hidden;\n",
              "  text-align: left;\n",
              "  /* unfitted */\n",
              "  background-color: var(--sklearn-color-unfitted-level-0);\n",
              "}\n",
              "\n",
              "#sk-container-id-2 div.sk-toggleable__content.fitted {\n",
              "  /* fitted */\n",
              "  background-color: var(--sklearn-color-fitted-level-0);\n",
              "}\n",
              "\n",
              "#sk-container-id-2 div.sk-toggleable__content pre {\n",
              "  margin: 0.2em;\n",
              "  border-radius: 0.25em;\n",
              "  color: var(--sklearn-color-text);\n",
              "  /* unfitted */\n",
              "  background-color: var(--sklearn-color-unfitted-level-0);\n",
              "}\n",
              "\n",
              "#sk-container-id-2 div.sk-toggleable__content.fitted pre {\n",
              "  /* unfitted */\n",
              "  background-color: var(--sklearn-color-fitted-level-0);\n",
              "}\n",
              "\n",
              "#sk-container-id-2 input.sk-toggleable__control:checked~div.sk-toggleable__content {\n",
              "  /* Expand drop-down */\n",
              "  max-height: 200px;\n",
              "  max-width: 100%;\n",
              "  overflow: auto;\n",
              "}\n",
              "\n",
              "#sk-container-id-2 input.sk-toggleable__control:checked~label.sk-toggleable__label-arrow:before {\n",
              "  content: \"▾\";\n",
              "}\n",
              "\n",
              "/* Pipeline/ColumnTransformer-specific style */\n",
              "\n",
              "#sk-container-id-2 div.sk-label input.sk-toggleable__control:checked~label.sk-toggleable__label {\n",
              "  color: var(--sklearn-color-text);\n",
              "  background-color: var(--sklearn-color-unfitted-level-2);\n",
              "}\n",
              "\n",
              "#sk-container-id-2 div.sk-label.fitted input.sk-toggleable__control:checked~label.sk-toggleable__label {\n",
              "  background-color: var(--sklearn-color-fitted-level-2);\n",
              "}\n",
              "\n",
              "/* Estimator-specific style */\n",
              "\n",
              "/* Colorize estimator box */\n",
              "#sk-container-id-2 div.sk-estimator input.sk-toggleable__control:checked~label.sk-toggleable__label {\n",
              "  /* unfitted */\n",
              "  background-color: var(--sklearn-color-unfitted-level-2);\n",
              "}\n",
              "\n",
              "#sk-container-id-2 div.sk-estimator.fitted input.sk-toggleable__control:checked~label.sk-toggleable__label {\n",
              "  /* fitted */\n",
              "  background-color: var(--sklearn-color-fitted-level-2);\n",
              "}\n",
              "\n",
              "#sk-container-id-2 div.sk-label label.sk-toggleable__label,\n",
              "#sk-container-id-2 div.sk-label label {\n",
              "  /* The background is the default theme color */\n",
              "  color: var(--sklearn-color-text-on-default-background);\n",
              "}\n",
              "\n",
              "/* On hover, darken the color of the background */\n",
              "#sk-container-id-2 div.sk-label:hover label.sk-toggleable__label {\n",
              "  color: var(--sklearn-color-text);\n",
              "  background-color: var(--sklearn-color-unfitted-level-2);\n",
              "}\n",
              "\n",
              "/* Label box, darken color on hover, fitted */\n",
              "#sk-container-id-2 div.sk-label.fitted:hover label.sk-toggleable__label.fitted {\n",
              "  color: var(--sklearn-color-text);\n",
              "  background-color: var(--sklearn-color-fitted-level-2);\n",
              "}\n",
              "\n",
              "/* Estimator label */\n",
              "\n",
              "#sk-container-id-2 div.sk-label label {\n",
              "  font-family: monospace;\n",
              "  font-weight: bold;\n",
              "  display: inline-block;\n",
              "  line-height: 1.2em;\n",
              "}\n",
              "\n",
              "#sk-container-id-2 div.sk-label-container {\n",
              "  text-align: center;\n",
              "}\n",
              "\n",
              "/* Estimator-specific */\n",
              "#sk-container-id-2 div.sk-estimator {\n",
              "  font-family: monospace;\n",
              "  border: 1px dotted var(--sklearn-color-border-box);\n",
              "  border-radius: 0.25em;\n",
              "  box-sizing: border-box;\n",
              "  margin-bottom: 0.5em;\n",
              "  /* unfitted */\n",
              "  background-color: var(--sklearn-color-unfitted-level-0);\n",
              "}\n",
              "\n",
              "#sk-container-id-2 div.sk-estimator.fitted {\n",
              "  /* fitted */\n",
              "  background-color: var(--sklearn-color-fitted-level-0);\n",
              "}\n",
              "\n",
              "/* on hover */\n",
              "#sk-container-id-2 div.sk-estimator:hover {\n",
              "  /* unfitted */\n",
              "  background-color: var(--sklearn-color-unfitted-level-2);\n",
              "}\n",
              "\n",
              "#sk-container-id-2 div.sk-estimator.fitted:hover {\n",
              "  /* fitted */\n",
              "  background-color: var(--sklearn-color-fitted-level-2);\n",
              "}\n",
              "\n",
              "/* Specification for estimator info (e.g. \"i\" and \"?\") */\n",
              "\n",
              "/* Common style for \"i\" and \"?\" */\n",
              "\n",
              ".sk-estimator-doc-link,\n",
              "a:link.sk-estimator-doc-link,\n",
              "a:visited.sk-estimator-doc-link {\n",
              "  float: right;\n",
              "  font-size: smaller;\n",
              "  line-height: 1em;\n",
              "  font-family: monospace;\n",
              "  background-color: var(--sklearn-color-background);\n",
              "  border-radius: 1em;\n",
              "  height: 1em;\n",
              "  width: 1em;\n",
              "  text-decoration: none !important;\n",
              "  margin-left: 1ex;\n",
              "  /* unfitted */\n",
              "  border: var(--sklearn-color-unfitted-level-1) 1pt solid;\n",
              "  color: var(--sklearn-color-unfitted-level-1);\n",
              "}\n",
              "\n",
              ".sk-estimator-doc-link.fitted,\n",
              "a:link.sk-estimator-doc-link.fitted,\n",
              "a:visited.sk-estimator-doc-link.fitted {\n",
              "  /* fitted */\n",
              "  border: var(--sklearn-color-fitted-level-1) 1pt solid;\n",
              "  color: var(--sklearn-color-fitted-level-1);\n",
              "}\n",
              "\n",
              "/* On hover */\n",
              "div.sk-estimator:hover .sk-estimator-doc-link:hover,\n",
              ".sk-estimator-doc-link:hover,\n",
              "div.sk-label-container:hover .sk-estimator-doc-link:hover,\n",
              ".sk-estimator-doc-link:hover {\n",
              "  /* unfitted */\n",
              "  background-color: var(--sklearn-color-unfitted-level-3);\n",
              "  color: var(--sklearn-color-background);\n",
              "  text-decoration: none;\n",
              "}\n",
              "\n",
              "div.sk-estimator.fitted:hover .sk-estimator-doc-link.fitted:hover,\n",
              ".sk-estimator-doc-link.fitted:hover,\n",
              "div.sk-label-container:hover .sk-estimator-doc-link.fitted:hover,\n",
              ".sk-estimator-doc-link.fitted:hover {\n",
              "  /* fitted */\n",
              "  background-color: var(--sklearn-color-fitted-level-3);\n",
              "  color: var(--sklearn-color-background);\n",
              "  text-decoration: none;\n",
              "}\n",
              "\n",
              "/* Span, style for the box shown on hovering the info icon */\n",
              ".sk-estimator-doc-link span {\n",
              "  display: none;\n",
              "  z-index: 9999;\n",
              "  position: relative;\n",
              "  font-weight: normal;\n",
              "  right: .2ex;\n",
              "  padding: .5ex;\n",
              "  margin: .5ex;\n",
              "  width: min-content;\n",
              "  min-width: 20ex;\n",
              "  max-width: 50ex;\n",
              "  color: var(--sklearn-color-text);\n",
              "  box-shadow: 2pt 2pt 4pt #999;\n",
              "  /* unfitted */\n",
              "  background: var(--sklearn-color-unfitted-level-0);\n",
              "  border: .5pt solid var(--sklearn-color-unfitted-level-3);\n",
              "}\n",
              "\n",
              ".sk-estimator-doc-link.fitted span {\n",
              "  /* fitted */\n",
              "  background: var(--sklearn-color-fitted-level-0);\n",
              "  border: var(--sklearn-color-fitted-level-3);\n",
              "}\n",
              "\n",
              ".sk-estimator-doc-link:hover span {\n",
              "  display: block;\n",
              "}\n",
              "\n",
              "/* \"?\"-specific style due to the `<a>` HTML tag */\n",
              "\n",
              "#sk-container-id-2 a.estimator_doc_link {\n",
              "  float: right;\n",
              "  font-size: 1rem;\n",
              "  line-height: 1em;\n",
              "  font-family: monospace;\n",
              "  background-color: var(--sklearn-color-background);\n",
              "  border-radius: 1rem;\n",
              "  height: 1rem;\n",
              "  width: 1rem;\n",
              "  text-decoration: none;\n",
              "  /* unfitted */\n",
              "  color: var(--sklearn-color-unfitted-level-1);\n",
              "  border: var(--sklearn-color-unfitted-level-1) 1pt solid;\n",
              "}\n",
              "\n",
              "#sk-container-id-2 a.estimator_doc_link.fitted {\n",
              "  /* fitted */\n",
              "  border: var(--sklearn-color-fitted-level-1) 1pt solid;\n",
              "  color: var(--sklearn-color-fitted-level-1);\n",
              "}\n",
              "\n",
              "/* On hover */\n",
              "#sk-container-id-2 a.estimator_doc_link:hover {\n",
              "  /* unfitted */\n",
              "  background-color: var(--sklearn-color-unfitted-level-3);\n",
              "  color: var(--sklearn-color-background);\n",
              "  text-decoration: none;\n",
              "}\n",
              "\n",
              "#sk-container-id-2 a.estimator_doc_link.fitted:hover {\n",
              "  /* fitted */\n",
              "  background-color: var(--sklearn-color-fitted-level-3);\n",
              "}\n",
              "</style><div id=\"sk-container-id-2\" class=\"sk-top-container\"><div class=\"sk-text-repr-fallback\"><pre>GridSearchCV(cv=5,\n",
              "             estimator=Pipeline(steps=[(&#x27;tfidf&#x27;, TfidfVectorizer()),\n",
              "                                       (&#x27;svm&#x27;, SVC())]),\n",
              "             n_jobs=-1,\n",
              "             param_grid={&#x27;svm__C&#x27;: [0.1, 1, 10], &#x27;svm__gamma&#x27;: [0.01, 0.1, 1],\n",
              "                         &#x27;svm__kernel&#x27;: [&#x27;linear&#x27;, &#x27;rbf&#x27;, &#x27;poly&#x27;, &#x27;sigmoid&#x27;],\n",
              "                         &#x27;tfidf__max_df&#x27;: [0.7, 0.75, 0.8, 0.85, 0.9, 0.95],\n",
              "                         &#x27;tfidf__min_df&#x27;: [1, 2, 3, 4, 5, 6, 7, 8, 9, 10],\n",
              "                         &#x27;tfidf__ngram_range&#x27;: [(1, 1), (1, 2)]},\n",
              "             verbose=2)</pre><b>In a Jupyter environment, please rerun this cell to show the HTML representation or trust the notebook. <br />On GitHub, the HTML representation is unable to render, please try loading this page with nbviewer.org.</b></div><div class=\"sk-container\" hidden><div class=\"sk-item sk-dashed-wrapped\"><div class=\"sk-label-container\"><div class=\"sk-label fitted sk-toggleable\"><input class=\"sk-toggleable__control sk-hidden--visually\" id=\"sk-estimator-id-2\" type=\"checkbox\" ><label for=\"sk-estimator-id-2\" class=\"sk-toggleable__label fitted sk-toggleable__label-arrow fitted\">&nbsp;&nbsp;GridSearchCV<a class=\"sk-estimator-doc-link fitted\" rel=\"noreferrer\" target=\"_blank\" href=\"https://scikit-learn.org/1.5/modules/generated/sklearn.model_selection.GridSearchCV.html\">?<span>Documentation for GridSearchCV</span></a><span class=\"sk-estimator-doc-link fitted\">i<span>Fitted</span></span></label><div class=\"sk-toggleable__content fitted\"><pre>GridSearchCV(cv=5,\n",
              "             estimator=Pipeline(steps=[(&#x27;tfidf&#x27;, TfidfVectorizer()),\n",
              "                                       (&#x27;svm&#x27;, SVC())]),\n",
              "             n_jobs=-1,\n",
              "             param_grid={&#x27;svm__C&#x27;: [0.1, 1, 10], &#x27;svm__gamma&#x27;: [0.01, 0.1, 1],\n",
              "                         &#x27;svm__kernel&#x27;: [&#x27;linear&#x27;, &#x27;rbf&#x27;, &#x27;poly&#x27;, &#x27;sigmoid&#x27;],\n",
              "                         &#x27;tfidf__max_df&#x27;: [0.7, 0.75, 0.8, 0.85, 0.9, 0.95],\n",
              "                         &#x27;tfidf__min_df&#x27;: [1, 2, 3, 4, 5, 6, 7, 8, 9, 10],\n",
              "                         &#x27;tfidf__ngram_range&#x27;: [(1, 1), (1, 2)]},\n",
              "             verbose=2)</pre></div> </div></div><div class=\"sk-parallel\"><div class=\"sk-parallel-item\"><div class=\"sk-item\"><div class=\"sk-label-container\"><div class=\"sk-label fitted sk-toggleable\"><input class=\"sk-toggleable__control sk-hidden--visually\" id=\"sk-estimator-id-3\" type=\"checkbox\" ><label for=\"sk-estimator-id-3\" class=\"sk-toggleable__label fitted sk-toggleable__label-arrow fitted\">best_estimator_: Pipeline</label><div class=\"sk-toggleable__content fitted\"><pre>Pipeline(steps=[(&#x27;tfidf&#x27;, TfidfVectorizer(max_df=0.7)),\n",
              "                (&#x27;svm&#x27;, SVC(C=10, gamma=1))])</pre></div> </div></div><div class=\"sk-serial\"><div class=\"sk-item\"><div class=\"sk-serial\"><div class=\"sk-item\"><div class=\"sk-estimator fitted sk-toggleable\"><input class=\"sk-toggleable__control sk-hidden--visually\" id=\"sk-estimator-id-4\" type=\"checkbox\" ><label for=\"sk-estimator-id-4\" class=\"sk-toggleable__label fitted sk-toggleable__label-arrow fitted\">&nbsp;TfidfVectorizer<a class=\"sk-estimator-doc-link fitted\" rel=\"noreferrer\" target=\"_blank\" href=\"https://scikit-learn.org/1.5/modules/generated/sklearn.feature_extraction.text.TfidfVectorizer.html\">?<span>Documentation for TfidfVectorizer</span></a></label><div class=\"sk-toggleable__content fitted\"><pre>TfidfVectorizer(max_df=0.7)</pre></div> </div></div><div class=\"sk-item\"><div class=\"sk-estimator fitted sk-toggleable\"><input class=\"sk-toggleable__control sk-hidden--visually\" id=\"sk-estimator-id-5\" type=\"checkbox\" ><label for=\"sk-estimator-id-5\" class=\"sk-toggleable__label fitted sk-toggleable__label-arrow fitted\">&nbsp;SVC<a class=\"sk-estimator-doc-link fitted\" rel=\"noreferrer\" target=\"_blank\" href=\"https://scikit-learn.org/1.5/modules/generated/sklearn.svm.SVC.html\">?<span>Documentation for SVC</span></a></label><div class=\"sk-toggleable__content fitted\"><pre>SVC(C=10, gamma=1)</pre></div> </div></div></div></div></div></div></div></div></div></div></div>"
            ],
            "text/plain": [
              "GridSearchCV(cv=5,\n",
              "             estimator=Pipeline(steps=[('tfidf', TfidfVectorizer()),\n",
              "                                       ('svm', SVC())]),\n",
              "             n_jobs=-1,\n",
              "             param_grid={'svm__C': [0.1, 1, 10], 'svm__gamma': [0.01, 0.1, 1],\n",
              "                         'svm__kernel': ['linear', 'rbf', 'poly', 'sigmoid'],\n",
              "                         'tfidf__max_df': [0.7, 0.75, 0.8, 0.85, 0.9, 0.95],\n",
              "                         'tfidf__min_df': [1, 2, 3, 4, 5, 6, 7, 8, 9, 10],\n",
              "                         'tfidf__ngram_range': [(1, 1), (1, 2)]},\n",
              "             verbose=2)"
            ]
          },
          "execution_count": 54,
          "metadata": {},
          "output_type": "execute_result"
        }
      ],
      "source": [
        "grid_search = GridSearchCV(pipeline, param_grid, cv=5, n_jobs=-1, verbose=2)\n",
        "grid_search.fit(df['processed_review'], df['sentiment'])"
      ]
    },
    {
      "cell_type": "code",
      "execution_count": 55,
      "metadata": {},
      "outputs": [
        {
          "name": "stdout",
          "output_type": "stream",
          "text": [
            "Best parameters found:  {'svm__C': 10, 'svm__gamma': 1, 'svm__kernel': 'rbf', 'tfidf__max_df': 0.7, 'tfidf__min_df': 1, 'tfidf__ngram_range': (1, 1)}\n",
            "Best cross-validation score:  0.7691119691119692\n"
          ]
        }
      ],
      "source": [
        "print(\"Best parameters found: \", grid_search.best_params_)\n",
        "print(\"Best cross-validation score: \", grid_search.best_score_)"
      ]
    },
    {
      "cell_type": "code",
      "execution_count": 56,
      "metadata": {},
      "outputs": [],
      "source": [
        "from sklearn.model_selection import RandomizedSearchCV\n",
        "\n",
        "param_dist = {\n",
        "    'tfidf__max_df': [0.7, 0.75, 0.8, 0.85, 0.9, 0.95],\n",
        "    'tfidf__min_df': [1, 2, 3, 4, 5, 6, 7, 8, 9, 10],\n",
        "    'tfidf__ngram_range': [(1, 1), (1, 2)],\n",
        "    'svm__C': np.logspace(-2, 1, 4),\n",
        "    'svm__gamma': np.logspace(-2, 1, 4),\n",
        "    'svm__kernel': ['linear', 'rbf', 'poly', 'sigmoid']\n",
        "}"
      ]
    },
    {
      "cell_type": "code",
      "execution_count": 57,
      "metadata": {},
      "outputs": [
        {
          "name": "stdout",
          "output_type": "stream",
          "text": [
            "Fitting 5 folds for each of 2160 candidates, totalling 10800 fits\n"
          ]
        },
        {
          "name": "stderr",
          "output_type": "stream",
          "text": [
            "c:\\Users\\Rafi\\AppData\\Local\\Programs\\Python\\Python312\\Lib\\site-packages\\numpy\\ma\\core.py:2846: RuntimeWarning: invalid value encountered in cast\n",
            "  _data = np.array(data, dtype=dtype, copy=copy,\n"
          ]
        },
        {
          "data": {
            "text/html": [
              "<style>#sk-container-id-3 {\n",
              "  /* Definition of color scheme common for light and dark mode */\n",
              "  --sklearn-color-text: black;\n",
              "  --sklearn-color-line: gray;\n",
              "  /* Definition of color scheme for unfitted estimators */\n",
              "  --sklearn-color-unfitted-level-0: #fff5e6;\n",
              "  --sklearn-color-unfitted-level-1: #f6e4d2;\n",
              "  --sklearn-color-unfitted-level-2: #ffe0b3;\n",
              "  --sklearn-color-unfitted-level-3: chocolate;\n",
              "  /* Definition of color scheme for fitted estimators */\n",
              "  --sklearn-color-fitted-level-0: #f0f8ff;\n",
              "  --sklearn-color-fitted-level-1: #d4ebff;\n",
              "  --sklearn-color-fitted-level-2: #b3dbfd;\n",
              "  --sklearn-color-fitted-level-3: cornflowerblue;\n",
              "\n",
              "  /* Specific color for light theme */\n",
              "  --sklearn-color-text-on-default-background: var(--sg-text-color, var(--theme-code-foreground, var(--jp-content-font-color1, black)));\n",
              "  --sklearn-color-background: var(--sg-background-color, var(--theme-background, var(--jp-layout-color0, white)));\n",
              "  --sklearn-color-border-box: var(--sg-text-color, var(--theme-code-foreground, var(--jp-content-font-color1, black)));\n",
              "  --sklearn-color-icon: #696969;\n",
              "\n",
              "  @media (prefers-color-scheme: dark) {\n",
              "    /* Redefinition of color scheme for dark theme */\n",
              "    --sklearn-color-text-on-default-background: var(--sg-text-color, var(--theme-code-foreground, var(--jp-content-font-color1, white)));\n",
              "    --sklearn-color-background: var(--sg-background-color, var(--theme-background, var(--jp-layout-color0, #111)));\n",
              "    --sklearn-color-border-box: var(--sg-text-color, var(--theme-code-foreground, var(--jp-content-font-color1, white)));\n",
              "    --sklearn-color-icon: #878787;\n",
              "  }\n",
              "}\n",
              "\n",
              "#sk-container-id-3 {\n",
              "  color: var(--sklearn-color-text);\n",
              "}\n",
              "\n",
              "#sk-container-id-3 pre {\n",
              "  padding: 0;\n",
              "}\n",
              "\n",
              "#sk-container-id-3 input.sk-hidden--visually {\n",
              "  border: 0;\n",
              "  clip: rect(1px 1px 1px 1px);\n",
              "  clip: rect(1px, 1px, 1px, 1px);\n",
              "  height: 1px;\n",
              "  margin: -1px;\n",
              "  overflow: hidden;\n",
              "  padding: 0;\n",
              "  position: absolute;\n",
              "  width: 1px;\n",
              "}\n",
              "\n",
              "#sk-container-id-3 div.sk-dashed-wrapped {\n",
              "  border: 1px dashed var(--sklearn-color-line);\n",
              "  margin: 0 0.4em 0.5em 0.4em;\n",
              "  box-sizing: border-box;\n",
              "  padding-bottom: 0.4em;\n",
              "  background-color: var(--sklearn-color-background);\n",
              "}\n",
              "\n",
              "#sk-container-id-3 div.sk-container {\n",
              "  /* jupyter's `normalize.less` sets `[hidden] { display: none; }`\n",
              "     but bootstrap.min.css set `[hidden] { display: none !important; }`\n",
              "     so we also need the `!important` here to be able to override the\n",
              "     default hidden behavior on the sphinx rendered scikit-learn.org.\n",
              "     See: https://github.com/scikit-learn/scikit-learn/issues/21755 */\n",
              "  display: inline-block !important;\n",
              "  position: relative;\n",
              "}\n",
              "\n",
              "#sk-container-id-3 div.sk-text-repr-fallback {\n",
              "  display: none;\n",
              "}\n",
              "\n",
              "div.sk-parallel-item,\n",
              "div.sk-serial,\n",
              "div.sk-item {\n",
              "  /* draw centered vertical line to link estimators */\n",
              "  background-image: linear-gradient(var(--sklearn-color-text-on-default-background), var(--sklearn-color-text-on-default-background));\n",
              "  background-size: 2px 100%;\n",
              "  background-repeat: no-repeat;\n",
              "  background-position: center center;\n",
              "}\n",
              "\n",
              "/* Parallel-specific style estimator block */\n",
              "\n",
              "#sk-container-id-3 div.sk-parallel-item::after {\n",
              "  content: \"\";\n",
              "  width: 100%;\n",
              "  border-bottom: 2px solid var(--sklearn-color-text-on-default-background);\n",
              "  flex-grow: 1;\n",
              "}\n",
              "\n",
              "#sk-container-id-3 div.sk-parallel {\n",
              "  display: flex;\n",
              "  align-items: stretch;\n",
              "  justify-content: center;\n",
              "  background-color: var(--sklearn-color-background);\n",
              "  position: relative;\n",
              "}\n",
              "\n",
              "#sk-container-id-3 div.sk-parallel-item {\n",
              "  display: flex;\n",
              "  flex-direction: column;\n",
              "}\n",
              "\n",
              "#sk-container-id-3 div.sk-parallel-item:first-child::after {\n",
              "  align-self: flex-end;\n",
              "  width: 50%;\n",
              "}\n",
              "\n",
              "#sk-container-id-3 div.sk-parallel-item:last-child::after {\n",
              "  align-self: flex-start;\n",
              "  width: 50%;\n",
              "}\n",
              "\n",
              "#sk-container-id-3 div.sk-parallel-item:only-child::after {\n",
              "  width: 0;\n",
              "}\n",
              "\n",
              "/* Serial-specific style estimator block */\n",
              "\n",
              "#sk-container-id-3 div.sk-serial {\n",
              "  display: flex;\n",
              "  flex-direction: column;\n",
              "  align-items: center;\n",
              "  background-color: var(--sklearn-color-background);\n",
              "  padding-right: 1em;\n",
              "  padding-left: 1em;\n",
              "}\n",
              "\n",
              "\n",
              "/* Toggleable style: style used for estimator/Pipeline/ColumnTransformer box that is\n",
              "clickable and can be expanded/collapsed.\n",
              "- Pipeline and ColumnTransformer use this feature and define the default style\n",
              "- Estimators will overwrite some part of the style using the `sk-estimator` class\n",
              "*/\n",
              "\n",
              "/* Pipeline and ColumnTransformer style (default) */\n",
              "\n",
              "#sk-container-id-3 div.sk-toggleable {\n",
              "  /* Default theme specific background. It is overwritten whether we have a\n",
              "  specific estimator or a Pipeline/ColumnTransformer */\n",
              "  background-color: var(--sklearn-color-background);\n",
              "}\n",
              "\n",
              "/* Toggleable label */\n",
              "#sk-container-id-3 label.sk-toggleable__label {\n",
              "  cursor: pointer;\n",
              "  display: block;\n",
              "  width: 100%;\n",
              "  margin-bottom: 0;\n",
              "  padding: 0.5em;\n",
              "  box-sizing: border-box;\n",
              "  text-align: center;\n",
              "}\n",
              "\n",
              "#sk-container-id-3 label.sk-toggleable__label-arrow:before {\n",
              "  /* Arrow on the left of the label */\n",
              "  content: \"▸\";\n",
              "  float: left;\n",
              "  margin-right: 0.25em;\n",
              "  color: var(--sklearn-color-icon);\n",
              "}\n",
              "\n",
              "#sk-container-id-3 label.sk-toggleable__label-arrow:hover:before {\n",
              "  color: var(--sklearn-color-text);\n",
              "}\n",
              "\n",
              "/* Toggleable content - dropdown */\n",
              "\n",
              "#sk-container-id-3 div.sk-toggleable__content {\n",
              "  max-height: 0;\n",
              "  max-width: 0;\n",
              "  overflow: hidden;\n",
              "  text-align: left;\n",
              "  /* unfitted */\n",
              "  background-color: var(--sklearn-color-unfitted-level-0);\n",
              "}\n",
              "\n",
              "#sk-container-id-3 div.sk-toggleable__content.fitted {\n",
              "  /* fitted */\n",
              "  background-color: var(--sklearn-color-fitted-level-0);\n",
              "}\n",
              "\n",
              "#sk-container-id-3 div.sk-toggleable__content pre {\n",
              "  margin: 0.2em;\n",
              "  border-radius: 0.25em;\n",
              "  color: var(--sklearn-color-text);\n",
              "  /* unfitted */\n",
              "  background-color: var(--sklearn-color-unfitted-level-0);\n",
              "}\n",
              "\n",
              "#sk-container-id-3 div.sk-toggleable__content.fitted pre {\n",
              "  /* unfitted */\n",
              "  background-color: var(--sklearn-color-fitted-level-0);\n",
              "}\n",
              "\n",
              "#sk-container-id-3 input.sk-toggleable__control:checked~div.sk-toggleable__content {\n",
              "  /* Expand drop-down */\n",
              "  max-height: 200px;\n",
              "  max-width: 100%;\n",
              "  overflow: auto;\n",
              "}\n",
              "\n",
              "#sk-container-id-3 input.sk-toggleable__control:checked~label.sk-toggleable__label-arrow:before {\n",
              "  content: \"▾\";\n",
              "}\n",
              "\n",
              "/* Pipeline/ColumnTransformer-specific style */\n",
              "\n",
              "#sk-container-id-3 div.sk-label input.sk-toggleable__control:checked~label.sk-toggleable__label {\n",
              "  color: var(--sklearn-color-text);\n",
              "  background-color: var(--sklearn-color-unfitted-level-2);\n",
              "}\n",
              "\n",
              "#sk-container-id-3 div.sk-label.fitted input.sk-toggleable__control:checked~label.sk-toggleable__label {\n",
              "  background-color: var(--sklearn-color-fitted-level-2);\n",
              "}\n",
              "\n",
              "/* Estimator-specific style */\n",
              "\n",
              "/* Colorize estimator box */\n",
              "#sk-container-id-3 div.sk-estimator input.sk-toggleable__control:checked~label.sk-toggleable__label {\n",
              "  /* unfitted */\n",
              "  background-color: var(--sklearn-color-unfitted-level-2);\n",
              "}\n",
              "\n",
              "#sk-container-id-3 div.sk-estimator.fitted input.sk-toggleable__control:checked~label.sk-toggleable__label {\n",
              "  /* fitted */\n",
              "  background-color: var(--sklearn-color-fitted-level-2);\n",
              "}\n",
              "\n",
              "#sk-container-id-3 div.sk-label label.sk-toggleable__label,\n",
              "#sk-container-id-3 div.sk-label label {\n",
              "  /* The background is the default theme color */\n",
              "  color: var(--sklearn-color-text-on-default-background);\n",
              "}\n",
              "\n",
              "/* On hover, darken the color of the background */\n",
              "#sk-container-id-3 div.sk-label:hover label.sk-toggleable__label {\n",
              "  color: var(--sklearn-color-text);\n",
              "  background-color: var(--sklearn-color-unfitted-level-2);\n",
              "}\n",
              "\n",
              "/* Label box, darken color on hover, fitted */\n",
              "#sk-container-id-3 div.sk-label.fitted:hover label.sk-toggleable__label.fitted {\n",
              "  color: var(--sklearn-color-text);\n",
              "  background-color: var(--sklearn-color-fitted-level-2);\n",
              "}\n",
              "\n",
              "/* Estimator label */\n",
              "\n",
              "#sk-container-id-3 div.sk-label label {\n",
              "  font-family: monospace;\n",
              "  font-weight: bold;\n",
              "  display: inline-block;\n",
              "  line-height: 1.2em;\n",
              "}\n",
              "\n",
              "#sk-container-id-3 div.sk-label-container {\n",
              "  text-align: center;\n",
              "}\n",
              "\n",
              "/* Estimator-specific */\n",
              "#sk-container-id-3 div.sk-estimator {\n",
              "  font-family: monospace;\n",
              "  border: 1px dotted var(--sklearn-color-border-box);\n",
              "  border-radius: 0.25em;\n",
              "  box-sizing: border-box;\n",
              "  margin-bottom: 0.5em;\n",
              "  /* unfitted */\n",
              "  background-color: var(--sklearn-color-unfitted-level-0);\n",
              "}\n",
              "\n",
              "#sk-container-id-3 div.sk-estimator.fitted {\n",
              "  /* fitted */\n",
              "  background-color: var(--sklearn-color-fitted-level-0);\n",
              "}\n",
              "\n",
              "/* on hover */\n",
              "#sk-container-id-3 div.sk-estimator:hover {\n",
              "  /* unfitted */\n",
              "  background-color: var(--sklearn-color-unfitted-level-2);\n",
              "}\n",
              "\n",
              "#sk-container-id-3 div.sk-estimator.fitted:hover {\n",
              "  /* fitted */\n",
              "  background-color: var(--sklearn-color-fitted-level-2);\n",
              "}\n",
              "\n",
              "/* Specification for estimator info (e.g. \"i\" and \"?\") */\n",
              "\n",
              "/* Common style for \"i\" and \"?\" */\n",
              "\n",
              ".sk-estimator-doc-link,\n",
              "a:link.sk-estimator-doc-link,\n",
              "a:visited.sk-estimator-doc-link {\n",
              "  float: right;\n",
              "  font-size: smaller;\n",
              "  line-height: 1em;\n",
              "  font-family: monospace;\n",
              "  background-color: var(--sklearn-color-background);\n",
              "  border-radius: 1em;\n",
              "  height: 1em;\n",
              "  width: 1em;\n",
              "  text-decoration: none !important;\n",
              "  margin-left: 1ex;\n",
              "  /* unfitted */\n",
              "  border: var(--sklearn-color-unfitted-level-1) 1pt solid;\n",
              "  color: var(--sklearn-color-unfitted-level-1);\n",
              "}\n",
              "\n",
              ".sk-estimator-doc-link.fitted,\n",
              "a:link.sk-estimator-doc-link.fitted,\n",
              "a:visited.sk-estimator-doc-link.fitted {\n",
              "  /* fitted */\n",
              "  border: var(--sklearn-color-fitted-level-1) 1pt solid;\n",
              "  color: var(--sklearn-color-fitted-level-1);\n",
              "}\n",
              "\n",
              "/* On hover */\n",
              "div.sk-estimator:hover .sk-estimator-doc-link:hover,\n",
              ".sk-estimator-doc-link:hover,\n",
              "div.sk-label-container:hover .sk-estimator-doc-link:hover,\n",
              ".sk-estimator-doc-link:hover {\n",
              "  /* unfitted */\n",
              "  background-color: var(--sklearn-color-unfitted-level-3);\n",
              "  color: var(--sklearn-color-background);\n",
              "  text-decoration: none;\n",
              "}\n",
              "\n",
              "div.sk-estimator.fitted:hover .sk-estimator-doc-link.fitted:hover,\n",
              ".sk-estimator-doc-link.fitted:hover,\n",
              "div.sk-label-container:hover .sk-estimator-doc-link.fitted:hover,\n",
              ".sk-estimator-doc-link.fitted:hover {\n",
              "  /* fitted */\n",
              "  background-color: var(--sklearn-color-fitted-level-3);\n",
              "  color: var(--sklearn-color-background);\n",
              "  text-decoration: none;\n",
              "}\n",
              "\n",
              "/* Span, style for the box shown on hovering the info icon */\n",
              ".sk-estimator-doc-link span {\n",
              "  display: none;\n",
              "  z-index: 9999;\n",
              "  position: relative;\n",
              "  font-weight: normal;\n",
              "  right: .2ex;\n",
              "  padding: .5ex;\n",
              "  margin: .5ex;\n",
              "  width: min-content;\n",
              "  min-width: 20ex;\n",
              "  max-width: 50ex;\n",
              "  color: var(--sklearn-color-text);\n",
              "  box-shadow: 2pt 2pt 4pt #999;\n",
              "  /* unfitted */\n",
              "  background: var(--sklearn-color-unfitted-level-0);\n",
              "  border: .5pt solid var(--sklearn-color-unfitted-level-3);\n",
              "}\n",
              "\n",
              ".sk-estimator-doc-link.fitted span {\n",
              "  /* fitted */\n",
              "  background: var(--sklearn-color-fitted-level-0);\n",
              "  border: var(--sklearn-color-fitted-level-3);\n",
              "}\n",
              "\n",
              ".sk-estimator-doc-link:hover span {\n",
              "  display: block;\n",
              "}\n",
              "\n",
              "/* \"?\"-specific style due to the `<a>` HTML tag */\n",
              "\n",
              "#sk-container-id-3 a.estimator_doc_link {\n",
              "  float: right;\n",
              "  font-size: 1rem;\n",
              "  line-height: 1em;\n",
              "  font-family: monospace;\n",
              "  background-color: var(--sklearn-color-background);\n",
              "  border-radius: 1rem;\n",
              "  height: 1rem;\n",
              "  width: 1rem;\n",
              "  text-decoration: none;\n",
              "  /* unfitted */\n",
              "  color: var(--sklearn-color-unfitted-level-1);\n",
              "  border: var(--sklearn-color-unfitted-level-1) 1pt solid;\n",
              "}\n",
              "\n",
              "#sk-container-id-3 a.estimator_doc_link.fitted {\n",
              "  /* fitted */\n",
              "  border: var(--sklearn-color-fitted-level-1) 1pt solid;\n",
              "  color: var(--sklearn-color-fitted-level-1);\n",
              "}\n",
              "\n",
              "/* On hover */\n",
              "#sk-container-id-3 a.estimator_doc_link:hover {\n",
              "  /* unfitted */\n",
              "  background-color: var(--sklearn-color-unfitted-level-3);\n",
              "  color: var(--sklearn-color-background);\n",
              "  text-decoration: none;\n",
              "}\n",
              "\n",
              "#sk-container-id-3 a.estimator_doc_link.fitted:hover {\n",
              "  /* fitted */\n",
              "  background-color: var(--sklearn-color-fitted-level-3);\n",
              "}\n",
              "</style><div id=\"sk-container-id-3\" class=\"sk-top-container\"><div class=\"sk-text-repr-fallback\"><pre>RandomizedSearchCV(cv=5,\n",
              "                   estimator=Pipeline(steps=[(&#x27;tfidf&#x27;, TfidfVectorizer()),\n",
              "                                             (&#x27;svm&#x27;, SVC())]),\n",
              "                   n_iter=2160, n_jobs=-1,\n",
              "                   param_distributions={&#x27;svm__C&#x27;: array([ 0.01,  0.1 ,  1.  , 10.  ]),\n",
              "                                        &#x27;svm__gamma&#x27;: array([ 0.01,  0.1 ,  1.  , 10.  ]),\n",
              "                                        &#x27;svm__kernel&#x27;: [&#x27;linear&#x27;, &#x27;rbf&#x27;, &#x27;poly&#x27;,\n",
              "                                                        &#x27;sigmoid&#x27;],\n",
              "                                        &#x27;tfidf__max_df&#x27;: [0.7, 0.75, 0.8, 0.85,\n",
              "                                                          0.9, 0.95],\n",
              "                                        &#x27;tfidf__min_df&#x27;: [1, 2, 3, 4, 5, 6, 7,\n",
              "                                                          8, 9, 10],\n",
              "                                        &#x27;tfidf__ngram_range&#x27;: [(1, 1), (1, 2)]},\n",
              "                   random_state=42, verbose=2)</pre><b>In a Jupyter environment, please rerun this cell to show the HTML representation or trust the notebook. <br />On GitHub, the HTML representation is unable to render, please try loading this page with nbviewer.org.</b></div><div class=\"sk-container\" hidden><div class=\"sk-item sk-dashed-wrapped\"><div class=\"sk-label-container\"><div class=\"sk-label fitted sk-toggleable\"><input class=\"sk-toggleable__control sk-hidden--visually\" id=\"sk-estimator-id-6\" type=\"checkbox\" ><label for=\"sk-estimator-id-6\" class=\"sk-toggleable__label fitted sk-toggleable__label-arrow fitted\">&nbsp;&nbsp;RandomizedSearchCV<a class=\"sk-estimator-doc-link fitted\" rel=\"noreferrer\" target=\"_blank\" href=\"https://scikit-learn.org/1.5/modules/generated/sklearn.model_selection.RandomizedSearchCV.html\">?<span>Documentation for RandomizedSearchCV</span></a><span class=\"sk-estimator-doc-link fitted\">i<span>Fitted</span></span></label><div class=\"sk-toggleable__content fitted\"><pre>RandomizedSearchCV(cv=5,\n",
              "                   estimator=Pipeline(steps=[(&#x27;tfidf&#x27;, TfidfVectorizer()),\n",
              "                                             (&#x27;svm&#x27;, SVC())]),\n",
              "                   n_iter=2160, n_jobs=-1,\n",
              "                   param_distributions={&#x27;svm__C&#x27;: array([ 0.01,  0.1 ,  1.  , 10.  ]),\n",
              "                                        &#x27;svm__gamma&#x27;: array([ 0.01,  0.1 ,  1.  , 10.  ]),\n",
              "                                        &#x27;svm__kernel&#x27;: [&#x27;linear&#x27;, &#x27;rbf&#x27;, &#x27;poly&#x27;,\n",
              "                                                        &#x27;sigmoid&#x27;],\n",
              "                                        &#x27;tfidf__max_df&#x27;: [0.7, 0.75, 0.8, 0.85,\n",
              "                                                          0.9, 0.95],\n",
              "                                        &#x27;tfidf__min_df&#x27;: [1, 2, 3, 4, 5, 6, 7,\n",
              "                                                          8, 9, 10],\n",
              "                                        &#x27;tfidf__ngram_range&#x27;: [(1, 1), (1, 2)]},\n",
              "                   random_state=42, verbose=2)</pre></div> </div></div><div class=\"sk-parallel\"><div class=\"sk-parallel-item\"><div class=\"sk-item\"><div class=\"sk-label-container\"><div class=\"sk-label fitted sk-toggleable\"><input class=\"sk-toggleable__control sk-hidden--visually\" id=\"sk-estimator-id-7\" type=\"checkbox\" ><label for=\"sk-estimator-id-7\" class=\"sk-toggleable__label fitted sk-toggleable__label-arrow fitted\">best_estimator_: Pipeline</label><div class=\"sk-toggleable__content fitted\"><pre>Pipeline(steps=[(&#x27;tfidf&#x27;, TfidfVectorizer(max_df=0.8)),\n",
              "                (&#x27;svm&#x27;, SVC(C=np.float64(10.0), gamma=np.float64(1.0)))])</pre></div> </div></div><div class=\"sk-serial\"><div class=\"sk-item\"><div class=\"sk-serial\"><div class=\"sk-item\"><div class=\"sk-estimator fitted sk-toggleable\"><input class=\"sk-toggleable__control sk-hidden--visually\" id=\"sk-estimator-id-8\" type=\"checkbox\" ><label for=\"sk-estimator-id-8\" class=\"sk-toggleable__label fitted sk-toggleable__label-arrow fitted\">&nbsp;TfidfVectorizer<a class=\"sk-estimator-doc-link fitted\" rel=\"noreferrer\" target=\"_blank\" href=\"https://scikit-learn.org/1.5/modules/generated/sklearn.feature_extraction.text.TfidfVectorizer.html\">?<span>Documentation for TfidfVectorizer</span></a></label><div class=\"sk-toggleable__content fitted\"><pre>TfidfVectorizer(max_df=0.8)</pre></div> </div></div><div class=\"sk-item\"><div class=\"sk-estimator fitted sk-toggleable\"><input class=\"sk-toggleable__control sk-hidden--visually\" id=\"sk-estimator-id-9\" type=\"checkbox\" ><label for=\"sk-estimator-id-9\" class=\"sk-toggleable__label fitted sk-toggleable__label-arrow fitted\">&nbsp;SVC<a class=\"sk-estimator-doc-link fitted\" rel=\"noreferrer\" target=\"_blank\" href=\"https://scikit-learn.org/1.5/modules/generated/sklearn.svm.SVC.html\">?<span>Documentation for SVC</span></a></label><div class=\"sk-toggleable__content fitted\"><pre>SVC(C=np.float64(10.0), gamma=np.float64(1.0))</pre></div> </div></div></div></div></div></div></div></div></div></div></div>"
            ],
            "text/plain": [
              "RandomizedSearchCV(cv=5,\n",
              "                   estimator=Pipeline(steps=[('tfidf', TfidfVectorizer()),\n",
              "                                             ('svm', SVC())]),\n",
              "                   n_iter=2160, n_jobs=-1,\n",
              "                   param_distributions={'svm__C': array([ 0.01,  0.1 ,  1.  , 10.  ]),\n",
              "                                        'svm__gamma': array([ 0.01,  0.1 ,  1.  , 10.  ]),\n",
              "                                        'svm__kernel': ['linear', 'rbf', 'poly',\n",
              "                                                        'sigmoid'],\n",
              "                                        'tfidf__max_df': [0.7, 0.75, 0.8, 0.85,\n",
              "                                                          0.9, 0.95],\n",
              "                                        'tfidf__min_df': [1, 2, 3, 4, 5, 6, 7,\n",
              "                                                          8, 9, 10],\n",
              "                                        'tfidf__ngram_range': [(1, 1), (1, 2)]},\n",
              "                   random_state=42, verbose=2)"
            ]
          },
          "execution_count": 57,
          "metadata": {},
          "output_type": "execute_result"
        }
      ],
      "source": [
        "random_search = RandomizedSearchCV(pipeline, param_distributions=param_dist, n_iter=2160, cv=5, n_jobs=-1, verbose=2, random_state=42)\n",
        "random_search.fit(df['processed_review'], df['sentiment'])"
      ]
    },
    {
      "cell_type": "code",
      "execution_count": 58,
      "metadata": {},
      "outputs": [
        {
          "name": "stdout",
          "output_type": "stream",
          "text": [
            "Best parameters found:  {'tfidf__ngram_range': (1, 1), 'tfidf__min_df': 1, 'tfidf__max_df': 0.8, 'svm__kernel': 'rbf', 'svm__gamma': np.float64(1.0), 'svm__C': np.float64(10.0)}\n",
            "Best cross-validation score:  0.7691119691119692\n"
          ]
        }
      ],
      "source": [
        "print(\"Best parameters found: \", random_search.best_params_)\n",
        "print(\"Best cross-validation score: \", random_search.best_score_)"
      ]
    }
  ],
  "metadata": {
    "kernelspec": {
      "display_name": "base",
      "language": "python",
      "name": "python3"
    },
    "language_info": {
      "codemirror_mode": {
        "name": "ipython",
        "version": 3
      },
      "file_extension": ".py",
      "mimetype": "text/x-python",
      "name": "python",
      "nbconvert_exporter": "python",
      "pygments_lexer": "ipython3",
      "version": "3.9.19"
>>>>>>> 35b82ac2bfc3bb9e4a548815af08f584feda8b18
    }
  },
  "nbformat": 4,
  "nbformat_minor": 2
}

{
 "cells": [
  {
   "cell_type": "code",
   "execution_count": 1,
   "metadata": {},
   "outputs": [
    {
     "name": "stdout",
     "output_type": "stream",
     "text": [
      "Requirement already satisfied: Sastrawi in c:\\users\\limdaenery93\\anaconda3\\lib\\site-packages (1.0.1)\n",
      "Note: you may need to restart the kernel to use updated packages.\n"
     ]
    },
    {
     "name": "stderr",
     "output_type": "stream",
     "text": [
      "WARNING: Ignoring invalid distribution -ygments (c:\\users\\limdaenery93\\anaconda3\\lib\\site-packages)\n",
      "WARNING: Ignoring invalid distribution -ygments (c:\\users\\limdaenery93\\anaconda3\\lib\\site-packages)\n"
     ]
    }
   ],
   "source": [
    "%pip install Sastrawi"
   ]
  },
  {
   "cell_type": "code",
   "execution_count": null,
   "metadata": {},
   "outputs": [],
   "source": [
    "import nltk"
   ]
  },
  {
   "cell_type": "code",
   "execution_count": 110,
   "metadata": {},
   "outputs": [
    {
     "name": "stderr",
     "output_type": "stream",
     "text": [
      "[nltk_data] Downloading package stopwords to\n",
      "[nltk_data]     C:\\Users\\LimDaenery93\\AppData\\Roaming\\nltk_data...\n",
      "[nltk_data]   Package stopwords is already up-to-date!\n"
     ]
    },
    {
     "data": {
      "text/plain": [
       "True"
      ]
     },
     "execution_count": 110,
     "metadata": {},
     "output_type": "execute_result"
    }
   ],
   "source": [
    "nltk.download('stopwords')"
   ]
  },
  {
   "cell_type": "code",
   "execution_count": 140,
   "metadata": {},
   "outputs": [],
   "source": [
    "import pandas as pd\n",
    "import matplotlib.pyplot as plt\n",
    "import re\n",
    "from nltk.tokenize import word_tokenize\n",
    "from nltk.corpus import stopwords\n",
    "from Sastrawi.Stemmer.StemmerFactory import StemmerFactory\n",
    "from sklearn.feature_extraction.text import TfidfVectorizer\n",
    "from sklearn import svm\n",
    "from sklearn.model_selection import train_test_split\n",
    "from sklearn.metrics import accuracy_score, classification_report\n",
    "from sklearn.metrics import accuracy_score, precision_score, recall_score, f1_score\n"
   ]
  },
  {
   "cell_type": "code",
   "execution_count": 141,
   "metadata": {},
   "outputs": [],
   "source": [
    "# Load dataset\n",
    "df = pd.read_csv('smart_locker_reviews.csv', sep=\";\")"
   ]
  },
  {
   "cell_type": "code",
   "execution_count": 142,
   "metadata": {},
   "outputs": [
    {
     "data": {
      "text/html": [
       "<div>\n",
       "<style scoped>\n",
       "    .dataframe tbody tr th:only-of-type {\n",
       "        vertical-align: middle;\n",
       "    }\n",
       "\n",
       "    .dataframe tbody tr th {\n",
       "        vertical-align: top;\n",
       "    }\n",
       "\n",
       "    .dataframe thead th {\n",
       "        text-align: right;\n",
       "    }\n",
       "</style>\n",
       "<table border=\"1\" class=\"dataframe\">\n",
       "  <thead>\n",
       "    <tr style=\"text-align: right;\">\n",
       "      <th></th>\n",
       "      <th>review</th>\n",
       "      <th>sentiment</th>\n",
       "    </tr>\n",
       "  </thead>\n",
       "  <tbody>\n",
       "    <tr>\n",
       "      <th>0</th>\n",
       "      <td>Kualitas smart locker ini sangat buruk, sering...</td>\n",
       "      <td>Negative</td>\n",
       "    </tr>\n",
       "    <tr>\n",
       "      <th>1</th>\n",
       "      <td>Desain smart locker sangat modern dan menarik.</td>\n",
       "      <td>Positive</td>\n",
       "    </tr>\n",
       "    <tr>\n",
       "      <th>2</th>\n",
       "      <td>Smart locker ini memiliki fitur yang cukup sta...</td>\n",
       "      <td>Neutral</td>\n",
       "    </tr>\n",
       "    <tr>\n",
       "      <th>3</th>\n",
       "      <td>Keamanan smart locker ini sangat tinggi, saya ...</td>\n",
       "      <td>Positive</td>\n",
       "    </tr>\n",
       "    <tr>\n",
       "      <th>4</th>\n",
       "      <td>Smart locker ini sering tidak bisa diakses saa...</td>\n",
       "      <td>Negative</td>\n",
       "    </tr>\n",
       "    <tr>\n",
       "      <th>...</th>\n",
       "      <td>...</td>\n",
       "      <td>...</td>\n",
       "    </tr>\n",
       "    <tr>\n",
       "      <th>871</th>\n",
       "      <td>Sistem face detection di smart locker ini terk...</td>\n",
       "      <td>Negative</td>\n",
       "    </tr>\n",
       "    <tr>\n",
       "      <th>872</th>\n",
       "      <td>Smart locker ini memberikan keamanan tambahan ...</td>\n",
       "      <td>Positive</td>\n",
       "    </tr>\n",
       "    <tr>\n",
       "      <th>873</th>\n",
       "      <td>Face detection di smart locker ini kurang resp...</td>\n",
       "      <td>Negative</td>\n",
       "    </tr>\n",
       "    <tr>\n",
       "      <th>874</th>\n",
       "      <td>RFID pada smart locker ini belum memenuhi kebu...</td>\n",
       "      <td>Negative</td>\n",
       "    </tr>\n",
       "    <tr>\n",
       "      <th>875</th>\n",
       "      <td>Sistem face detection di smart locker ini perl...</td>\n",
       "      <td>Neutral</td>\n",
       "    </tr>\n",
       "  </tbody>\n",
       "</table>\n",
       "<p>876 rows × 2 columns</p>\n",
       "</div>"
      ],
      "text/plain": [
       "                                                review sentiment\n",
       "0    Kualitas smart locker ini sangat buruk, sering...  Negative\n",
       "1       Desain smart locker sangat modern dan menarik.  Positive\n",
       "2    Smart locker ini memiliki fitur yang cukup sta...   Neutral\n",
       "3    Keamanan smart locker ini sangat tinggi, saya ...  Positive\n",
       "4    Smart locker ini sering tidak bisa diakses saa...  Negative\n",
       "..                                                 ...       ...\n",
       "871  Sistem face detection di smart locker ini terk...  Negative\n",
       "872  Smart locker ini memberikan keamanan tambahan ...  Positive\n",
       "873  Face detection di smart locker ini kurang resp...  Negative\n",
       "874  RFID pada smart locker ini belum memenuhi kebu...  Negative\n",
       "875  Sistem face detection di smart locker ini perl...   Neutral\n",
       "\n",
       "[876 rows x 2 columns]"
      ]
     },
     "execution_count": 142,
     "metadata": {},
     "output_type": "execute_result"
    }
   ],
   "source": [
    "df"
   ]
  },
  {
   "cell_type": "markdown",
   "metadata": {},
   "source": [
    "### Case Folding"
   ]
  },
  {
   "cell_type": "code",
   "execution_count": 143,
   "metadata": {},
   "outputs": [],
   "source": [
    "# Ensure reviews are strings and lowercase\n",
    "df['review'] = df['review'].astype(str).str.lower()"
   ]
  },
  {
   "cell_type": "code",
   "execution_count": 144,
   "metadata": {},
   "outputs": [],
   "source": [
    "def clean_text(text):\n",
    "    # Remove punctuation and special characters\n",
    "    text = re.sub(r'[^\\w\\s]', '', text)\n",
    "    # Remove numbers\n",
    "    text = re.sub(r'\\d+', '', text)\n",
    "    return text\n",
    "\n",
    "df['cleaned_review'] = df['review'].apply(clean_text)"
   ]
  },
  {
   "cell_type": "markdown",
   "metadata": {},
   "source": [
    "### Tokenizing"
   ]
  },
  {
   "cell_type": "code",
   "execution_count": 145,
   "metadata": {},
   "outputs": [],
   "source": [
    "df['tokens'] = df['cleaned_review'].apply(word_tokenize)"
   ]
  },
  {
   "cell_type": "markdown",
   "metadata": {},
   "source": [
    "### Stopword Removal"
   ]
  },
  {
   "cell_type": "code",
   "execution_count": 146,
   "metadata": {},
   "outputs": [],
   "source": [
    "stop_words = set(stopwords.words('indonesian'))\n",
    "\n",
    "def remove_stopwords(text):\n",
    "    return [word for word in text if word not in stop_words]\n",
    "\n",
    "df['tokens'] = df['tokens'].apply(remove_stopwords)"
   ]
  },
  {
   "cell_type": "markdown",
   "metadata": {},
   "source": [
    "### Stemming"
   ]
  },
  {
   "cell_type": "code",
   "execution_count": 147,
   "metadata": {},
   "outputs": [],
   "source": [
    "factory = StemmerFactory()\n",
    "stemmer = factory.create_stemmer()\n",
    "\n",
    "def stem_tokenizer(text):\n",
    "    return [stemmer.stem(word) for word in text]\n",
    "\n",
    "df['tokens'] = df['tokens'].apply(stem_tokenizer)\n",
    "df['processed_review'] = df['tokens'].apply(lambda x: ' '.join(x))"
   ]
  },
  {
   "cell_type": "markdown",
   "metadata": {},
   "source": [
    "### Pembobotan TF-IDF"
   ]
  },
  {
   "cell_type": "code",
   "execution_count": 148,
   "metadata": {},
   "outputs": [],
   "source": [
    "tfidf_vectorizer = TfidfVectorizer(max_df=0.8, min_df=1, ngram_range=(1, 1))\n",
    "tfidf_matrix = tfidf_vectorizer.fit_transform(df['processed_review'])"
   ]
  },
  {
   "cell_type": "code",
   "execution_count": 149,
   "metadata": {},
   "outputs": [
    {
     "name": "stdout",
     "output_type": "stream",
     "text": [
      "Kata: adaptasi, Kemunculan: 7.083359811812238\n",
      "Kata: aktif, Kemunculan: 7.083359811812238\n",
      "Kata: bahan, Kemunculan: 7.083359811812238\n",
      "Kata: beda, Kemunculan: 7.083359811812238\n",
      "Kata: beli, Kemunculan: 7.083359811812238\n",
      "Kata: benerbener, Kemunculan: 7.083359811812238\n",
      "Kata: biasabiasa, Kemunculan: 7.083359811812238\n",
      "Kata: buangbuang, Kemunculan: 7.083359811812238\n",
      "Kata: cepet, Kemunculan: 7.083359811812238\n",
      "Kata: colok, Kemunculan: 7.083359811812238\n"
     ]
    }
   ],
   "source": [
    "# Menampilkan 10 kata dengan nilai IDF tertinggi\n",
    "freqs = tfidf_matrix.sum(axis=0)\n",
    "idf_values = tfidf_vectorizer.idf_\n",
    "word_idf = dict(zip(tfidf_vectorizer.get_feature_names_out(), idf_values))\n",
    "\n",
    "top_idf_words = sorted(word_idf.items(), key=lambda x: x[1], reverse=True)[:10]\n",
    "for word, idf in top_idf_words:\n",
    "    print(f'Kata: {word}, Kemunculan: {idf}')"
   ]
  },
  {
   "cell_type": "markdown",
   "metadata": {},
   "source": [
    "### klasifikasi SVM"
   ]
  },
  {
   "cell_type": "code",
   "execution_count": 150,
   "metadata": {},
   "outputs": [
    {
     "data": {
      "text/plain": [
       "SVC(C=10, gamma=1)"
      ]
     },
     "execution_count": 150,
     "metadata": {},
     "output_type": "execute_result"
    }
   ],
   "source": [
    "X_train, X_test, y_train, y_test = train_test_split(tfidf_matrix, df['sentiment'], test_size=0.2, random_state=42)\n",
    "\n",
    "model = svm.SVC(C=10, kernel='rbf', gamma=1)\n",
    "model.fit(X_train, y_train)"
   ]
  },
  {
   "cell_type": "code",
   "execution_count": 151,
   "metadata": {},
   "outputs": [
    {
     "data": {
      "text/plain": [
       "array(['Positive', 'Positive', 'Positive', 'Positive', 'Neutral',\n",
       "       'Positive', 'Positive', 'Positive', 'Negative', 'Neutral',\n",
       "       'Positive', 'Positive', 'Negative', 'Neutral', 'Positive',\n",
       "       'Negative', 'Neutral', 'Positive', 'Neutral', 'Negative',\n",
       "       'Positive', 'Negative', 'Positive', 'Positive', 'Neutral',\n",
       "       'Negative', 'Negative', 'Positive', 'Neutral', 'Positive',\n",
       "       'Positive', 'Neutral', 'Neutral', 'Positive', 'Positive',\n",
       "       'Positive', 'Positive', 'Positive', 'Positive', 'Negative',\n",
       "       'Negative', 'Negative', 'Negative', 'Positive', 'Negative',\n",
       "       'Positive', 'Positive', 'Positive', 'Positive', 'Positive',\n",
       "       'Negative', 'Negative', 'Neutral', 'Negative', 'Positive',\n",
       "       'Negative', 'Negative', 'Positive', 'Negative', 'Positive',\n",
       "       'Negative', 'Positive', 'Positive', 'Positive', 'Neutral',\n",
       "       'Positive', 'Positive', 'Positive', 'Negative', 'Positive',\n",
       "       'Positive', 'Positive', 'Negative', 'Negative', 'Negative',\n",
       "       'Positive', 'Positive', 'Positive', 'Positive', 'Neutral',\n",
       "       'Neutral', 'Positive', 'Positive', 'Positive', 'Positive',\n",
       "       'Positive', 'Positive', 'Neutral', 'Negative', 'Positive',\n",
       "       'Positive', 'Positive', 'Negative', 'Neutral', 'Positive',\n",
       "       'Negative', 'Neutral', 'Positive', 'Neutral', 'Positive',\n",
       "       'Neutral', 'Positive', 'Negative', 'Positive', 'Positive',\n",
       "       'Negative', 'Positive', 'Positive', 'Negative', 'Positive',\n",
       "       'Negative', 'Neutral', 'Neutral', 'Positive', 'Positive',\n",
       "       'Positive', 'Negative', 'Negative', 'Negative', 'Negative',\n",
       "       'Negative', 'Positive', 'Positive', 'Negative', 'Negative',\n",
       "       'Neutral', 'Neutral', 'Negative', 'Neutral', 'Positive',\n",
       "       'Positive', 'Positive', 'Negative', 'Negative', 'Positive',\n",
       "       'Neutral', 'Negative', 'Neutral', 'Positive', 'Positive',\n",
       "       'Positive', 'Neutral', 'Neutral', 'Positive', 'Positive',\n",
       "       'Negative', 'Positive', 'Positive', 'Positive', 'Positive',\n",
       "       'Negative', 'Negative', 'Neutral', 'Neutral', 'Negative',\n",
       "       'Positive', 'Positive', 'Negative', 'Positive', 'Negative',\n",
       "       'Negative', 'Negative', 'Positive', 'Negative', 'Neutral',\n",
       "       'Positive', 'Negative', 'Positive', 'Neutral', 'Positive',\n",
       "       'Positive', 'Positive', 'Positive', 'Positive', 'Negative',\n",
       "       'Neutral'], dtype=object)"
      ]
     },
     "execution_count": 151,
     "metadata": {},
     "output_type": "execute_result"
    }
   ],
   "source": [
    "pred = model.predict(X_test)\n",
    "pred"
   ]
  },
  {
   "cell_type": "code",
   "execution_count": 152,
   "metadata": {},
   "outputs": [
    {
     "name": "stdout",
     "output_type": "stream",
     "text": [
      "Accuracy : 0.8636363636363636\n"
     ]
    }
   ],
   "source": [
    "print(f\"Accuracy : {model.score(X_test, y_test)}\")"
   ]
  },
  {
   "cell_type": "code",
   "execution_count": 153,
   "metadata": {},
   "outputs": [
    {
     "data": {
      "image/png": "[encoded data removed]",
      "text/plain": [
       "<Figure size 640x480 with 1 Axes>"
      ]
     },
     "metadata": {},
     "output_type": "display_data"
    }
   ],
   "source": [
    "pred = model.predict(X_test)\n",
    "acc_score = accuracy_score(y_test, pred) \n",
    "pre_score = precision_score(y_test, pred, average='weighted')\n",
    "rec_score = recall_score(y_test, pred, average='weighted')\n",
    "f_score = f1_score(y_test, pred, average='weighted')\n",
    "\n",
    "scores = {\n",
    "    'Accuracy': acc_score,\n",
    "    'Precision': pre_score,\n",
    "    'Recall': rec_score, \n",
    "    'F1-Score': f_score\n",
    "}\n",
    "\n",
    "eval_df = pd.DataFrame.from_dict(scores, orient='index', columns=['Score']) \n",
    "\n",
    "eval_df['Score'].plot(kind='line', marker='o', color='blue') \n",
    "\n",
    "plt.title('Hasil Evaluasi Model')\n",
    "plt.xlabel('Metrik') \n",
    "plt.ylabel('Nilai Rata-Rata')\n",
    "plt.grid(True) \n",
    "\n",
    "plt.show()"
   ]
  },
  {
   "cell_type": "code",
   "execution_count": 154,
   "metadata": {},
   "outputs": [
    {
     "name": "stdout",
     "output_type": "stream",
     "text": [
      "Training Accuracy: 0.9814285714285714\n",
      "Training Classification Report:\n",
      "              precision    recall  f1-score   support\n",
      "\n",
      "    Negative       0.99      0.97      0.98       221\n",
      "     Neutral       0.97      0.99      0.98       151\n",
      "    Positive       0.98      0.98      0.98       328\n",
      "\n",
      "    accuracy                           0.98       700\n",
      "   macro avg       0.98      0.98      0.98       700\n",
      "weighted avg       0.98      0.98      0.98       700\n",
      "\n",
      "Testing Accuracy: 0.8636363636363636\n",
      "Testing Classification Report:\n",
      "              precision    recall  f1-score   support\n",
      "\n",
      "    Negative       0.87      0.85      0.86        53\n",
      "     Neutral       0.88      0.74      0.80        38\n",
      "    Positive       0.86      0.93      0.89        85\n",
      "\n",
      "    accuracy                           0.86       176\n",
      "   macro avg       0.87      0.84      0.85       176\n",
      "weighted avg       0.86      0.86      0.86       176\n",
      "\n"
     ]
    }
   ],
   "source": [
    "# Evaluasi pada training set\n",
    "y_train_pred = model.predict(X_train)\n",
    "train_accuracy = accuracy_score(y_train, y_train_pred)\n",
    "print(\"Training Accuracy:\", train_accuracy)\n",
    "print(\"Training Classification Report:\")\n",
    "print(classification_report(y_train, y_train_pred))\n",
    "\n",
    "# Evaluasi pada testing set\n",
    "y_test_pred = model.predict(X_test)\n",
    "test_accuracy = accuracy_score(y_test, y_test_pred)\n",
    "print(\"Testing Accuracy:\", test_accuracy)\n",
    "print(\"Testing Classification Report:\")\n",
    "print(classification_report(y_test, y_test_pred))"
   ]
  },
  {
   "cell_type": "code",
   "execution_count": 155,
   "metadata": {},
   "outputs": [],
   "source": [
    "def preprocess_review(review):\n",
    "    review = review.lower()\n",
    "    tokens = word_tokenize(review)\n",
    "    tokens = remove_stopwords(tokens)\n",
    "    tokens = stem_tokenizer(tokens)\n",
    "    return ' '.join(tokens)\n",
    "\n",
    "def predict_sentiment(review):\n",
    "    preprocessed_review = preprocess_review(review)\n",
    "    tfidf_review = tfidf_vectorizer.transform([preprocessed_review])\n",
    "    sentiment = model.predict(tfidf_review)\n",
    "    return sentiment[0]"
   ]
  },
  {
   "cell_type": "code",
   "execution_count": 158,
   "metadata": {},
   "outputs": [
    {
     "name": "stdout",
     "output_type": "stream",
     "text": [
      "Review: gagal\n",
      "Predicted Sentiment: Negative\n",
      "\n",
      "Review: ini bagus banget\n",
      "Predicted Sentiment: Positive\n",
      "\n",
      "Review: ini keren banget anjing\n",
      "Predicted Sentiment: Positive\n",
      "\n",
      "Review: ini kayak tai dah, lockernya\n",
      "Predicted Sentiment: Negative\n",
      "\n",
      "Review: bagus banget sangat membantu\n",
      "Predicted Sentiment: Positive\n",
      "\n",
      "Review: ini efektif dan efisien\n",
      "Predicted Sentiment: Positive\n",
      "\n",
      "Review: ini keren banget si\n",
      "Predicted Sentiment: Positive\n",
      "\n",
      "Review: lumayan lah ya\n",
      "Predicted Sentiment: Neutral\n",
      "\n",
      "Review: loker tidak bisa di buka\n",
      "Predicted Sentiment: Positive\n",
      "\n"
     ]
    }
   ],
   "source": [
    "new_reviews = [\n",
    "    \"gagal\",\n",
    "    \"ini bagus banget\",\n",
    "    \"ini keren banget anjing\",\n",
    "    \"ini kayak tai dah, lockernya\",\n",
    "    \"bagus banget sangat membantu\",\n",
    "    \"ini efektif dan efisien\",\n",
    "    \"ini keren banget si\",\n",
    "    \"lumayan lah ya\"\n",
    "]\n",
    "for review in new_reviews:\n",
    "    sentiment = predict_sentiment(review)\n",
    "    print(f\"Review: {review}\\nPredicted Sentiment: {sentiment}\\n\")"
   ]
  },
  {
   "cell_type": "code",
   "execution_count": 159,
   "metadata": {},
   "outputs": [
    {
     "data": {
      "image/png": "[encoded data removed]",
      "text/plain": [
       "<Figure size 640x480 with 1 Axes>"
      ]
     },
     "metadata": {},
     "output_type": "display_data"
    }
   ],
   "source": [
    "import matplotlib.pyplot as plt\n",
    "import numpy as np\n",
    "from sklearn.model_selection import learning_curve\n",
    "\n",
    "def plot_learning_curve(estimator, X, y, cv=None, train_sizes=np.linspace(0.1, 1.0, 10)):\n",
    "    train_scores, test_scores = [], []\n",
    "    for train_size in train_sizes:\n",
    "        _, train_score, test_score = learning_curve(estimator, X, y, cv=cv, train_sizes=[train_size])\n",
    "        train_scores.append(train_score.mean())\n",
    "        test_scores.append(test_score.mean())\n",
    "    plt.plot(train_sizes, train_scores, label='Training Score', marker='o')\n",
    "    plt.plot(train_sizes, test_scores, label='Validation Score', marker='x')\n",
    "    plt.title('Learning Curve')\n",
    "    plt.xlabel('Training Size')\n",
    "    plt.ylabel('Accuracy')\n",
    "    plt.legend()\n",
    "    plt.grid(True)\n",
    "\n",
    "X_train, X_val, y_train, y_val = train_test_split(tfidf_matrix, df['sentiment'], test_size=0.2, random_state=42)\n",
    "model = svm.SVC(C=10, kernel='rbf', gamma=1)\n",
    "\n",
    "plot_learning_curve(model, X_train, y_train, cv=5)\n",
    "plt.show()"
   ]
  },
  {
   "cell_type": "code",
   "execution_count": 160,
   "metadata": {},
   "outputs": [
    {
     "data": {
      "text/plain": [
       "['tfidf_vectorizer.pkl']"
      ]
     },
     "execution_count": 160,
     "metadata": {},
     "output_type": "execute_result"
    }
   ],
   "source": [
    "import joblib\n",
    "\n",
    "joblib.dump(model, 'sentiment.pkl')\n",
    "joblib.dump(tfidf_vectorizer, 'tfidf_vectorizer.pkl')"
   ]
  },
  {
   "cell_type": "markdown",
   "metadata": {},
   "source": [
    "### Find Best Parameters"
   ]
  },
  {
   "cell_type": "code",
   "execution_count": 130,
   "metadata": {},
   "outputs": [],
   "source": [
    "from sklearn.model_selection import GridSearchCV\n",
    "\n",
    "param_grid = {\n",
    "    'tfidf__max_df': [0.7, 0.75, 0.8, 0.85, 0.9, 0.95],\n",
    "    'tfidf__min_df': [1, 2, 3, 4, 5, 6, 7, 8, 9, 10],\n",
    "    'tfidf__ngram_range': [(1, 1), (1, 2)],\n",
    "    'svm__C': [0.1, 1, 10],\n",
    "    'svm__gamma': [0.01, 0.1, 1],\n",
    "    'svm__kernel': ['linear', 'rbf', 'poly', 'sigmoid']\n",
    "}"
   ]
  },
  {
   "cell_type": "code",
   "execution_count": 131,
   "metadata": {},
   "outputs": [],
   "source": [
    "from sklearn.pipeline import Pipeline\n",
    "\n",
    "pipeline = Pipeline([\n",
    "    ('tfidf', TfidfVectorizer()),\n",
    "    ('svm', svm.SVC())\n",
    "])"
   ]
  },
  {
   "cell_type": "code",
   "execution_count": 132,
   "metadata": {},
   "outputs": [
    {
     "name": "stdout",
     "output_type": "stream",
     "text": [
      "Fitting 5 folds for each of 4320 candidates, totalling 21600 fits\n"
     ]
    },
    {
     "data": {
      "text/plain": [
       "GridSearchCV(cv=5,\n",
       "             estimator=Pipeline(steps=[('tfidf', TfidfVectorizer()),\n",
       "                                       ('svm', SVC())]),\n",
       "             n_jobs=-1,\n",
       "             param_grid={'svm__C': [0.1, 1, 10], 'svm__gamma': [0.01, 0.1, 1],\n",
       "                         'svm__kernel': ['linear', 'rbf', 'poly', 'sigmoid'],\n",
       "                         'tfidf__max_df': [0.7, 0.75, 0.8, 0.85, 0.9, 0.95],\n",
       "                         'tfidf__min_df': [1, 2, 3, 4, 5, 6, 7, 8, 9, 10],\n",
       "                         'tfidf__ngram_range': [(1, 1), (1, 2)]},\n",
       "             verbose=2)"
      ]
     },
     "execution_count": 132,
     "metadata": {},
     "output_type": "execute_result"
    }
   ],
   "source": [
    "grid_search = GridSearchCV(pipeline, param_grid, cv=5, n_jobs=-1, verbose=2)\n",
    "grid_search.fit(df['processed_review'], df['sentiment'])"
   ]
  },
  {
   "cell_type": "code",
   "execution_count": 135,
   "metadata": {},
   "outputs": [
    {
     "name": "stdout",
     "output_type": "stream",
     "text": [
      "Best parameters found:  {'svm__C': 10, 'svm__gamma': 1, 'svm__kernel': 'rbf', 'tfidf__max_df': 0.85, 'tfidf__min_df': 1, 'tfidf__ngram_range': (1, 1)}\n",
      "Best cross-validation score:  0.7567987012987013\n"
     ]
    }
   ],
   "source": [
    "print(\"Best parameters found: \", grid_search.best_params_)\n",
    "print(\"Best cross-validation score: \", grid_search.best_score_)"
   ]
  },
  {
   "cell_type": "code",
   "execution_count": 138,
   "metadata": {},
   "outputs": [],
   "source": [
    "from sklearn.model_selection import RandomizedSearchCV\n",
    "\n",
    "param_dist = {\n",
    "    'tfidf__max_df': [0.7, 0.75, 0.8, 0.85, 0.9, 0.95],\n",
    "    'tfidf__min_df': [1, 2, 3, 4, 5, 6, 7, 8, 9, 10],\n",
    "    'tfidf__ngram_range': [(1, 1), (1, 2)],\n",
    "    'svm__C': np.logspace(-2, 1, 4),\n",
    "    'svm__gamma': np.logspace(-2, 1, 4),\n",
    "    'svm__kernel': ['linear', 'rbf', 'poly', 'sigmoid']\n",
    "}"
   ]
  },
  {
   "cell_type": "code",
   "execution_count": 139,
   "metadata": {},
   "outputs": [
    {
     "name": "stdout",
     "output_type": "stream",
     "text": [
      "Fitting 5 folds for each of 2160 candidates, totalling 10800 fits\n"
     ]
    },
    {
     "data": {
      "text/plain": [
       "RandomizedSearchCV(cv=5,\n",
       "                   estimator=Pipeline(steps=[('tfidf', TfidfVectorizer()),\n",
       "                                             ('svm', SVC())]),\n",
       "                   n_iter=2160, n_jobs=-1,\n",
       "                   param_distributions={'svm__C': array([ 0.01,  0.1 ,  1.  , 10.  ]),\n",
       "                                        'svm__gamma': array([ 0.01,  0.1 ,  1.  , 10.  ]),\n",
       "                                        'svm__kernel': ['linear', 'rbf', 'poly',\n",
       "                                                        'sigmoid'],\n",
       "                                        'tfidf__max_df': [0.7, 0.75, 0.8, 0.85,\n",
       "                                                          0.9, 0.95],\n",
       "                                        'tfidf__min_df': [1, 2, 3, 4, 5, 6, 7,\n",
       "                                                          8, 9, 10],\n",
       "                                        'tfidf__ngram_range': [(1, 1), (1, 2)]},\n",
       "                   random_state=42, verbose=2)"
      ]
     },
     "execution_count": 139,
     "metadata": {},
     "output_type": "execute_result"
    }
   ],
   "source": [
    "random_search = RandomizedSearchCV(pipeline, param_distributions=param_dist, n_iter=2160, cv=5, n_jobs=-1, verbose=2, random_state=42)\n",
    "random_search.fit(df['processed_review'], df['sentiment'])"
   ]
  },
  {
   "cell_type": "code",
   "execution_count": 119,
   "metadata": {},
   "outputs": [
    {
     "name": "stdout",
     "output_type": "stream",
     "text": [
      "Best parameters found:  {'tfidf__ngram_range': (1, 1), 'tfidf__min_df': 1, 'tfidf__max_df': 0.8, 'svm__kernel': 'rbf', 'svm__gamma': 1.0, 'svm__C': 10.0}\n",
      "Best cross-validation score:  0.7545259740259741\n"
     ]
    }
   ],
   "source": [
    "print(\"Best parameters found: \", random_search.best_params_)\n",
    "print(\"Best cross-validation score: \", random_search.best_score_)"
   ]
  }
 ],
 "metadata": {
  "kernelspec": {
   "display_name": "base",
   "language": "python",
   "name": "python3"
  },
  "language_info": {
   "codemirror_mode": {
    "name": "ipython",
    "version": 3
   },
   "file_extension": ".py",
   "mimetype": "text/x-python",
   "name": "python",
   "nbconvert_exporter": "python",
   "pygments_lexer": "ipython3",
   "version": "3.9.19"
  }
 },
 "nbformat": 4,
 "nbformat_minor": 2
}
